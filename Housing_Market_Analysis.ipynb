{
  "nbformat": 4,
  "nbformat_minor": 0,
  "metadata": {
    "colab": {
      "provenance": [],
      "include_colab_link": true
    },
    "kernelspec": {
      "name": "python3",
      "display_name": "Python 3"
    },
    "language_info": {
      "name": "python"
    }
  },
  "cells": [
    {
      "cell_type": "markdown",
      "metadata": {
        "id": "view-in-github",
        "colab_type": "text"
      },
      "source": [
        "<a href=\"https://colab.research.google.com/github/LiHantang/Home_Market_Analysis/blob/main/Housing_Market_Analysis.ipynb\" target=\"_parent\"><img src=\"https://colab.research.google.com/assets/colab-badge.svg\" alt=\"Open In Colab\"/></a>"
      ]
    },
    {
      "cell_type": "markdown",
      "metadata": {
        "id": "ct9pVKJV9In3"
      },
      "source": [
        "# Part 0: Load data and packages"
      ]
    },
    {
      "cell_type": "code",
      "metadata": {
        "colab": {
          "base_uri": "https://localhost:8080/"
        },
        "id": "4ZCtilvu1yiL",
        "outputId": "26c7f12e-d39a-4b12-c354-41a38f23593d"
      },
      "source": [
        "!wget https://storage.googleapis.com/homevest-interviewing/data-science-biz-ops-analyst/mls-sample.csv"
      ],
      "execution_count": null,
      "outputs": [
        {
          "output_type": "stream",
          "name": "stdout",
          "text": [
            "--2021-11-14 06:14:24--  https://storage.googleapis.com/homevest-interviewing/data-science-biz-ops-analyst/mls-sample.csv\n",
            "Resolving storage.googleapis.com (storage.googleapis.com)... 108.177.11.128, 74.125.26.128, 142.250.97.128, ...\n",
            "Connecting to storage.googleapis.com (storage.googleapis.com)|108.177.11.128|:443... connected.\n",
            "HTTP request sent, awaiting response... 200 OK\n",
            "Length: 90969377 (87M) [text/csv]\n",
            "Saving to: ‘mls-sample.csv.4’\n",
            "\n",
            "mls-sample.csv.4    100%[===================>]  86.75M   202MB/s    in 0.4s    \n",
            "\n",
            "2021-11-14 06:14:25 (202 MB/s) - ‘mls-sample.csv.4’ saved [90969377/90969377]\n",
            "\n"
          ]
        }
      ]
    },
    {
      "cell_type": "code",
      "metadata": {
        "id": "0W7apJws7k4D"
      },
      "source": [
        "import numpy as np\n",
        "import pandas as pd\n",
        "import sklearn as sk\n",
        "import sklearn.preprocessing as preprocessing\n",
        "from sklearn.ensemble import GradientBoostingRegressor\n",
        "from sklearn.model_selection import train_test_split\n",
        "import seaborn as sb\n",
        "import matplotlib.pyplot as plt\n",
        "pd.set_option('display.float_format', lambda x: '%.3f' % x)\n",
        "pd.set_option('display.max_columns',None)\n",
        "pd.set_option('display.max_rows',None)"
      ],
      "execution_count": null,
      "outputs": []
    },
    {
      "cell_type": "code",
      "metadata": {
        "id": "63quM1xAwsek"
      },
      "source": [
        "!apt-get install libgeos-3.5.0\n",
        "!apt-get install libgeos-dev\n",
        "!pip install https://github.com/matplotlib/basemap/archive/master.zip"
      ],
      "execution_count": null,
      "outputs": []
    },
    {
      "cell_type": "code",
      "metadata": {
        "id": "kJ3yDwEhyB5S"
      },
      "source": [
        "!pip install pyproj==1.9.6"
      ],
      "execution_count": null,
      "outputs": []
    },
    {
      "cell_type": "code",
      "metadata": {
        "id": "sfdVpB8oyICk"
      },
      "source": [
        "from mpl_toolkits.basemap import Basemap\n",
        "%matplotlib inline"
      ],
      "execution_count": null,
      "outputs": []
    },
    {
      "cell_type": "code",
      "metadata": {
        "colab": {
          "base_uri": "https://localhost:8080/"
        },
        "id": "mYfFfeVH8ZBr",
        "outputId": "dabafb25-639a-4983-edb4-ffe62e1b3508"
      },
      "source": [
        "homes = pd.read_csv('mls-sample.csv', na_values={'sqft':0}) # if sqft equals to zero or one, then it's treated as na value\n",
        "homes.shape"
      ],
      "execution_count": null,
      "outputs": [
        {
          "output_type": "execute_result",
          "data": {
            "text/plain": [
              "(8168, 60)"
            ]
          },
          "metadata": {},
          "execution_count": 5
        }
      ]
    },
    {
      "cell_type": "code",
      "metadata": {
        "colab": {
          "base_uri": "https://localhost:8080/",
          "height": 406
        },
        "id": "Yk8TYize7g8I",
        "outputId": "6e921f43-fabd-414f-d6c8-598a36b6069c"
      },
      "source": [
        "homes.head(3)"
      ],
      "execution_count": null,
      "outputs": [
        {
          "output_type": "execute_result",
          "data": {
            "text/html": [
              "<div>\n",
              "<style scoped>\n",
              "    .dataframe tbody tr th:only-of-type {\n",
              "        vertical-align: middle;\n",
              "    }\n",
              "\n",
              "    .dataframe tbody tr th {\n",
              "        vertical-align: top;\n",
              "    }\n",
              "\n",
              "    .dataframe thead th {\n",
              "        text-align: right;\n",
              "    }\n",
              "</style>\n",
              "<table border=\"1\" class=\"dataframe\">\n",
              "  <thead>\n",
              "    <tr style=\"text-align: right;\">\n",
              "      <th></th>\n",
              "      <th>id</th>\n",
              "      <th>street</th>\n",
              "      <th>city</th>\n",
              "      <th>state</th>\n",
              "      <th>zip</th>\n",
              "      <th>county</th>\n",
              "      <th>beds</th>\n",
              "      <th>baths_full</th>\n",
              "      <th>baths_half</th>\n",
              "      <th>description</th>\n",
              "      <th>listing_date</th>\n",
              "      <th>list_price</th>\n",
              "      <th>sqft</th>\n",
              "      <th>lotsize_sqft</th>\n",
              "      <th>property_type</th>\n",
              "      <th>school_district</th>\n",
              "      <th>subdivision</th>\n",
              "      <th>lat</th>\n",
              "      <th>lng</th>\n",
              "      <th>year_built</th>\n",
              "      <th>features_appliances_and_equipment</th>\n",
              "      <th>features_bathrooms</th>\n",
              "      <th>features_bedrooms</th>\n",
              "      <th>features_community</th>\n",
              "      <th>features_dining_room</th>\n",
              "      <th>features_doors</th>\n",
              "      <th>features_energy_saving</th>\n",
              "      <th>features_exterior_features</th>\n",
              "      <th>features_fence</th>\n",
              "      <th>features_fireplaces</th>\n",
              "      <th>features_foundation</th>\n",
              "      <th>features_fees</th>\n",
              "      <th>features_garage</th>\n",
              "      <th>features_heating</th>\n",
              "      <th>features_home_owners_association</th>\n",
              "      <th>features_house</th>\n",
              "      <th>features_interior</th>\n",
              "      <th>features_interior_features</th>\n",
              "      <th>features_kitchen</th>\n",
              "      <th>features_laundry</th>\n",
              "      <th>features_location</th>\n",
              "      <th>features_lot</th>\n",
              "      <th>features_miscellaneous</th>\n",
              "      <th>features_parking</th>\n",
              "      <th>features_pool</th>\n",
              "      <th>features_property</th>\n",
              "      <th>features_property_access</th>\n",
              "      <th>features_roof</th>\n",
              "      <th>features_schools</th>\n",
              "      <th>features_security_system</th>\n",
              "      <th>features_sewer</th>\n",
              "      <th>features_spa</th>\n",
              "      <th>features_taxes</th>\n",
              "      <th>features_water</th>\n",
              "      <th>features_amenities</th>\n",
              "      <th>features_disclosures</th>\n",
              "      <th>features_utilities</th>\n",
              "      <th>features_windows_and_doors</th>\n",
              "      <th>xf_attributes</th>\n",
              "      <th>photo_urls</th>\n",
              "    </tr>\n",
              "  </thead>\n",
              "  <tbody>\n",
              "    <tr>\n",
              "      <th>0</th>\n",
              "      <td>1</td>\n",
              "      <td>115 Kings Ridge Dr</td>\n",
              "      <td>Peachtree City</td>\n",
              "      <td>GA</td>\n",
              "      <td>30269</td>\n",
              "      <td>Peachtree City</td>\n",
              "      <td>4</td>\n",
              "      <td>2</td>\n",
              "      <td>0</td>\n",
              "      <td>This Peachtree City two-story home offers a pa...</td>\n",
              "      <td>2021-04-19 04:00:00+00</td>\n",
              "      <td>271000</td>\n",
              "      <td>1880.000</td>\n",
              "      <td>13717.000</td>\n",
              "      <td>single family home</td>\n",
              "      <td>NaN</td>\n",
              "      <td>NaN</td>\n",
              "      <td>33.404</td>\n",
              "      <td>-84.611</td>\n",
              "      <td>1973</td>\n",
              "      <td>nan</td>\n",
              "      <td>NaN</td>\n",
              "      <td>NaN</td>\n",
              "      <td>nan</td>\n",
              "      <td>NaN</td>\n",
              "      <td>nan</td>\n",
              "      <td>nan</td>\n",
              "      <td>nan</td>\n",
              "      <td>nan</td>\n",
              "      <td>NaN</td>\n",
              "      <td>nan</td>\n",
              "      <td>NaN</td>\n",
              "      <td>[\"2 garage spaces\"]</td>\n",
              "      <td>[]</td>\n",
              "      <td>NaN</td>\n",
              "      <td>NaN</td>\n",
              "      <td>nan</td>\n",
              "      <td>NaN</td>\n",
              "      <td>[]</td>\n",
              "      <td>NaN</td>\n",
              "      <td>NaN</td>\n",
              "      <td>NaN</td>\n",
              "      <td>nan</td>\n",
              "      <td>[\"Garage Attached\"]</td>\n",
              "      <td>[]</td>\n",
              "      <td>NaN</td>\n",
              "      <td>NaN</td>\n",
              "      <td>NaN</td>\n",
              "      <td>[\"Elementary school: Kedron\",\"Junior high scho...</td>\n",
              "      <td>nan</td>\n",
              "      <td>NaN</td>\n",
              "      <td>nan</td>\n",
              "      <td>NaN</td>\n",
              "      <td>NaN</td>\n",
              "      <td>nan</td>\n",
              "      <td>nan</td>\n",
              "      <td>NaN</td>\n",
              "      <td>nan</td>\n",
              "      <td>{}</td>\n",
              "      <td>[\"https://opendoor2.imgix.net/https%3A%2F%2Fli...</td>\n",
              "    </tr>\n",
              "    <tr>\n",
              "      <th>1</th>\n",
              "      <td>2</td>\n",
              "      <td>3729 Gardenwick Road Unit 15</td>\n",
              "      <td>Powder Springs</td>\n",
              "      <td>GA</td>\n",
              "      <td>30127</td>\n",
              "      <td>Cobb</td>\n",
              "      <td>3</td>\n",
              "      <td>2</td>\n",
              "      <td>1</td>\n",
              "      <td>Stafford, an eye-catching two-story interior u...</td>\n",
              "      <td>2021-02-15 00:00:00+00</td>\n",
              "      <td>320443</td>\n",
              "      <td>1874.000</td>\n",
              "      <td>nan</td>\n",
              "      <td>Townhouse</td>\n",
              "      <td>1</td>\n",
              "      <td>Sweetwater Landing Townhomes</td>\n",
              "      <td>33.863</td>\n",
              "      <td>-84.696</td>\n",
              "      <td>2021</td>\n",
              "      <td>nan</td>\n",
              "      <td>[\"2 full bathrooms\",\"2 full bathrooms on upper...</td>\n",
              "      <td>[\"3 bedrooms\",\"3 bedrooms on upper level\",\"Ove...</td>\n",
              "      <td>nan</td>\n",
              "      <td>[\"Ceiling Fan(s)\",\"Central Air\",\"Window Unit(s...</td>\n",
              "      <td>nan</td>\n",
              "      <td>nan</td>\n",
              "      <td>nan</td>\n",
              "      <td>nan</td>\n",
              "      <td>[\"1 fireplace\",\"Factory Built\",\"Family Room\"]</td>\n",
              "      <td>nan</td>\n",
              "      <td>NaN</td>\n",
              "      <td>NaN</td>\n",
              "      <td>[\"Electric\",\"Zoned\"]</td>\n",
              "      <td>[\"Association Fee: $135\",\"Association Fee Freq...</td>\n",
              "      <td>[\"Architecture: Traditional\",\"Built in 2021\",\"...</td>\n",
              "      <td>nan</td>\n",
              "      <td>[\"Entrance Foyer\",\"Double Vanity\",\"High Ceilin...</td>\n",
              "      <td>[\"Eat-in Kitchen\",\"Kitchen Island\",\"Pantry\",\"P...</td>\n",
              "      <td>[\"In Hall\",\"Laundry Room\",\"Upper Floor\"]</td>\n",
              "      <td>NaN</td>\n",
              "      <td>[\"Lot: Not Available\",\"Back Yard\",\"Front Yard\"...</td>\n",
              "      <td>nan</td>\n",
              "      <td>[\"Attached\",\"Driveway\",\"Garage\",\"Garage Faces ...</td>\n",
              "      <td>[\"None\"]</td>\n",
              "      <td>NaN</td>\n",
              "      <td>[\"Paved\",\"None\"]</td>\n",
              "      <td>[\"Composition\"]</td>\n",
              "      <td>[\"Elementary School: Powder Springs\",\"Middle S...</td>\n",
              "      <td>nan</td>\n",
              "      <td>[\"Public Sewer\"]</td>\n",
              "      <td>nan</td>\n",
              "      <td>[\"Year: 2020\"]</td>\n",
              "      <td>[\"Public\"]</td>\n",
              "      <td>nan</td>\n",
              "      <td>nan</td>\n",
              "      <td>[\"Utilities available: Cable Available,Electri...</td>\n",
              "      <td>nan</td>\n",
              "      <td>{\"xf_city\":\"Powder Springs\",\"xf_roof\":[\"Compos...</td>\n",
              "      <td>[\"https://listing-images.homejunction.com/fmls...</td>\n",
              "    </tr>\n",
              "    <tr>\n",
              "      <th>2</th>\n",
              "      <td>3</td>\n",
              "      <td>2117 Green Gate Place</td>\n",
              "      <td>Grayson</td>\n",
              "      <td>GA</td>\n",
              "      <td>30017</td>\n",
              "      <td>Gwinnett</td>\n",
              "      <td>3</td>\n",
              "      <td>2</td>\n",
              "      <td>0</td>\n",
              "      <td>This Grayson one-story cul-de-sac home offers ...</td>\n",
              "      <td>2021-04-19 00:00:00+00</td>\n",
              "      <td>296000</td>\n",
              "      <td>1664.000</td>\n",
              "      <td>30056.000</td>\n",
              "      <td>Single Family Residence</td>\n",
              "      <td>5th</td>\n",
              "      <td>GRAYSON MEADOWS</td>\n",
              "      <td>33.900</td>\n",
              "      <td>-83.944</td>\n",
              "      <td>1996</td>\n",
              "      <td>nan</td>\n",
              "      <td>[\"2 full bathrooms\"]</td>\n",
              "      <td>[\"3 bedrooms\",\"3 bedrooms on main level\",\"Mast...</td>\n",
              "      <td>nan</td>\n",
              "      <td>[\"Central Air\"]</td>\n",
              "      <td>nan</td>\n",
              "      <td>nan</td>\n",
              "      <td>nan</td>\n",
              "      <td>nan</td>\n",
              "      <td>[\"1 fireplace\",\"Gas Starter\",\"Other Room\"]</td>\n",
              "      <td>nan</td>\n",
              "      <td>NaN</td>\n",
              "      <td>NaN</td>\n",
              "      <td>[\"Natural Gas\"]</td>\n",
              "      <td>NaN</td>\n",
              "      <td>[\"Architecture: Other\",\"Built in 1996\",\"Loft\",...</td>\n",
              "      <td>nan</td>\n",
              "      <td>NaN</td>\n",
              "      <td>NaN</td>\n",
              "      <td>NaN</td>\n",
              "      <td>NaN</td>\n",
              "      <td>[\"Approximate Lot Size: 0.6900\",\"Dimensions: x...</td>\n",
              "      <td>nan</td>\n",
              "      <td>[\"Garage\"]</td>\n",
              "      <td>[\"None\"]</td>\n",
              "      <td>NaN</td>\n",
              "      <td>[\"Paved\",\"None\"]</td>\n",
              "      <td>[\"Composition\"]</td>\n",
              "      <td>[\"Elementary School: Grayson\",\"Middle School: ...</td>\n",
              "      <td>nan</td>\n",
              "      <td>[\"Septic Tank\"]</td>\n",
              "      <td>nan</td>\n",
              "      <td>[\"$2,924\",\"Year: 2020\"]</td>\n",
              "      <td>[\"Public\"]</td>\n",
              "      <td>nan</td>\n",
              "      <td>nan</td>\n",
              "      <td>[\"Utilities available: Electricity Available\"]</td>\n",
              "      <td>nan</td>\n",
              "      <td>{\"xf_city\":\"Grayson\",\"xf_roof\":[\"Composition\"]...</td>\n",
              "      <td>[\"https://listing-images.homejunction.com/fmls...</td>\n",
              "    </tr>\n",
              "  </tbody>\n",
              "</table>\n",
              "</div>"
            ],
            "text/plain": [
              "   id                        street            city state    zip  \\\n",
              "0   1            115 Kings Ridge Dr  Peachtree City    GA  30269   \n",
              "1   2  3729 Gardenwick Road Unit 15  Powder Springs    GA  30127   \n",
              "2   3         2117 Green Gate Place         Grayson    GA  30017   \n",
              "\n",
              "           county  beds  baths_full  baths_half  \\\n",
              "0  Peachtree City     4           2           0   \n",
              "1            Cobb     3           2           1   \n",
              "2        Gwinnett     3           2           0   \n",
              "\n",
              "                                         description            listing_date  \\\n",
              "0  This Peachtree City two-story home offers a pa...  2021-04-19 04:00:00+00   \n",
              "1  Stafford, an eye-catching two-story interior u...  2021-02-15 00:00:00+00   \n",
              "2  This Grayson one-story cul-de-sac home offers ...  2021-04-19 00:00:00+00   \n",
              "\n",
              "   list_price     sqft  lotsize_sqft            property_type school_district  \\\n",
              "0      271000 1880.000     13717.000       single family home             NaN   \n",
              "1      320443 1874.000           nan                Townhouse               1   \n",
              "2      296000 1664.000     30056.000  Single Family Residence             5th   \n",
              "\n",
              "                    subdivision    lat     lng  year_built  \\\n",
              "0                           NaN 33.404 -84.611        1973   \n",
              "1  Sweetwater Landing Townhomes 33.863 -84.696        2021   \n",
              "2               GRAYSON MEADOWS 33.900 -83.944        1996   \n",
              "\n",
              "   features_appliances_and_equipment  \\\n",
              "0                                nan   \n",
              "1                                nan   \n",
              "2                                nan   \n",
              "\n",
              "                                  features_bathrooms  \\\n",
              "0                                                NaN   \n",
              "1  [\"2 full bathrooms\",\"2 full bathrooms on upper...   \n",
              "2                               [\"2 full bathrooms\"]   \n",
              "\n",
              "                                   features_bedrooms  features_community  \\\n",
              "0                                                NaN                 nan   \n",
              "1  [\"3 bedrooms\",\"3 bedrooms on upper level\",\"Ove...                 nan   \n",
              "2  [\"3 bedrooms\",\"3 bedrooms on main level\",\"Mast...                 nan   \n",
              "\n",
              "                                features_dining_room  features_doors  \\\n",
              "0                                                NaN             nan   \n",
              "1  [\"Ceiling Fan(s)\",\"Central Air\",\"Window Unit(s...             nan   \n",
              "2                                    [\"Central Air\"]             nan   \n",
              "\n",
              "   features_energy_saving  features_exterior_features  features_fence  \\\n",
              "0                     nan                         nan             nan   \n",
              "1                     nan                         nan             nan   \n",
              "2                     nan                         nan             nan   \n",
              "\n",
              "                             features_fireplaces  features_foundation  \\\n",
              "0                                            NaN                  nan   \n",
              "1  [\"1 fireplace\",\"Factory Built\",\"Family Room\"]                  nan   \n",
              "2     [\"1 fireplace\",\"Gas Starter\",\"Other Room\"]                  nan   \n",
              "\n",
              "  features_fees      features_garage      features_heating  \\\n",
              "0           NaN  [\"2 garage spaces\"]                    []   \n",
              "1           NaN                  NaN  [\"Electric\",\"Zoned\"]   \n",
              "2           NaN                  NaN       [\"Natural Gas\"]   \n",
              "\n",
              "                    features_home_owners_association  \\\n",
              "0                                                NaN   \n",
              "1  [\"Association Fee: $135\",\"Association Fee Freq...   \n",
              "2                                                NaN   \n",
              "\n",
              "                                      features_house  features_interior  \\\n",
              "0                                                NaN                nan   \n",
              "1  [\"Architecture: Traditional\",\"Built in 2021\",\"...                nan   \n",
              "2  [\"Architecture: Other\",\"Built in 1996\",\"Loft\",...                nan   \n",
              "\n",
              "                          features_interior_features  \\\n",
              "0                                                NaN   \n",
              "1  [\"Entrance Foyer\",\"Double Vanity\",\"High Ceilin...   \n",
              "2                                                NaN   \n",
              "\n",
              "                                    features_kitchen  \\\n",
              "0                                                 []   \n",
              "1  [\"Eat-in Kitchen\",\"Kitchen Island\",\"Pantry\",\"P...   \n",
              "2                                                NaN   \n",
              "\n",
              "                           features_laundry features_location  \\\n",
              "0                                       NaN               NaN   \n",
              "1  [\"In Hall\",\"Laundry Room\",\"Upper Floor\"]               NaN   \n",
              "2                                       NaN               NaN   \n",
              "\n",
              "                                        features_lot  features_miscellaneous  \\\n",
              "0                                                NaN                     nan   \n",
              "1  [\"Lot: Not Available\",\"Back Yard\",\"Front Yard\"...                     nan   \n",
              "2  [\"Approximate Lot Size: 0.6900\",\"Dimensions: x...                     nan   \n",
              "\n",
              "                                    features_parking features_pool  \\\n",
              "0                                [\"Garage Attached\"]            []   \n",
              "1  [\"Attached\",\"Driveway\",\"Garage\",\"Garage Faces ...      [\"None\"]   \n",
              "2                                         [\"Garage\"]      [\"None\"]   \n",
              "\n",
              "  features_property features_property_access    features_roof  \\\n",
              "0               NaN                      NaN              NaN   \n",
              "1               NaN         [\"Paved\",\"None\"]  [\"Composition\"]   \n",
              "2               NaN         [\"Paved\",\"None\"]  [\"Composition\"]   \n",
              "\n",
              "                                    features_schools  \\\n",
              "0  [\"Elementary school: Kedron\",\"Junior high scho...   \n",
              "1  [\"Elementary School: Powder Springs\",\"Middle S...   \n",
              "2  [\"Elementary School: Grayson\",\"Middle School: ...   \n",
              "\n",
              "   features_security_system    features_sewer  features_spa  \\\n",
              "0                       nan               NaN           nan   \n",
              "1                       nan  [\"Public Sewer\"]           nan   \n",
              "2                       nan   [\"Septic Tank\"]           nan   \n",
              "\n",
              "            features_taxes features_water  features_amenities  \\\n",
              "0                      NaN            NaN                 nan   \n",
              "1           [\"Year: 2020\"]     [\"Public\"]                 nan   \n",
              "2  [\"$2,924\",\"Year: 2020\"]     [\"Public\"]                 nan   \n",
              "\n",
              "   features_disclosures                                 features_utilities  \\\n",
              "0                   nan                                                NaN   \n",
              "1                   nan  [\"Utilities available: Cable Available,Electri...   \n",
              "2                   nan     [\"Utilities available: Electricity Available\"]   \n",
              "\n",
              "   features_windows_and_doors  \\\n",
              "0                         nan   \n",
              "1                         nan   \n",
              "2                         nan   \n",
              "\n",
              "                                       xf_attributes  \\\n",
              "0                                                 {}   \n",
              "1  {\"xf_city\":\"Powder Springs\",\"xf_roof\":[\"Compos...   \n",
              "2  {\"xf_city\":\"Grayson\",\"xf_roof\":[\"Composition\"]...   \n",
              "\n",
              "                                          photo_urls  \n",
              "0  [\"https://opendoor2.imgix.net/https%3A%2F%2Fli...  \n",
              "1  [\"https://listing-images.homejunction.com/fmls...  \n",
              "2  [\"https://listing-images.homejunction.com/fmls...  "
            ]
          },
          "metadata": {},
          "execution_count": 6
        }
      ]
    },
    {
      "cell_type": "markdown",
      "metadata": {
        "id": "viCOS6Xa8aL-"
      },
      "source": [
        "# Part I: Exploratory Analysis & Visualization"
      ]
    },
    {
      "cell_type": "markdown",
      "metadata": {
        "id": "5qondmrP2d_t"
      },
      "source": [
        "In the first part, we can have a closer look at the data, and try to clean the data by dropping NA columns and reshape certain columns. This process will greatly faciliate our analysis."
      ]
    },
    {
      "cell_type": "markdown",
      "metadata": {
        "id": "A359pgvf6S0_"
      },
      "source": [
        "## 1.1 Data cleaning & processing"
      ]
    },
    {
      "cell_type": "markdown",
      "metadata": {
        "id": "sXDNtxJK8_ev"
      },
      "source": [
        "### 1.1.1 Drop NA columns"
      ]
    },
    {
      "cell_type": "code",
      "metadata": {
        "colab": {
          "base_uri": "https://localhost:8080/",
          "height": 320
        },
        "id": "-Ix2Boh0-Rr7",
        "outputId": "45cd9148-2c67-410e-e987-22e8875eff35"
      },
      "source": [
        "homes.describe()"
      ],
      "execution_count": null,
      "outputs": [
        {
          "output_type": "execute_result",
          "data": {
            "text/html": [
              "<div>\n",
              "<style scoped>\n",
              "    .dataframe tbody tr th:only-of-type {\n",
              "        vertical-align: middle;\n",
              "    }\n",
              "\n",
              "    .dataframe tbody tr th {\n",
              "        vertical-align: top;\n",
              "    }\n",
              "\n",
              "    .dataframe thead th {\n",
              "        text-align: right;\n",
              "    }\n",
              "</style>\n",
              "<table border=\"1\" class=\"dataframe\">\n",
              "  <thead>\n",
              "    <tr style=\"text-align: right;\">\n",
              "      <th></th>\n",
              "      <th>id</th>\n",
              "      <th>zip</th>\n",
              "      <th>beds</th>\n",
              "      <th>baths_full</th>\n",
              "      <th>baths_half</th>\n",
              "      <th>list_price</th>\n",
              "      <th>sqft</th>\n",
              "      <th>lotsize_sqft</th>\n",
              "      <th>lat</th>\n",
              "      <th>lng</th>\n",
              "      <th>year_built</th>\n",
              "      <th>features_appliances_and_equipment</th>\n",
              "      <th>features_community</th>\n",
              "      <th>features_doors</th>\n",
              "      <th>features_energy_saving</th>\n",
              "      <th>features_exterior_features</th>\n",
              "      <th>features_fence</th>\n",
              "      <th>features_foundation</th>\n",
              "      <th>features_interior</th>\n",
              "      <th>features_miscellaneous</th>\n",
              "      <th>features_security_system</th>\n",
              "      <th>features_spa</th>\n",
              "      <th>features_amenities</th>\n",
              "      <th>features_disclosures</th>\n",
              "      <th>features_windows_and_doors</th>\n",
              "    </tr>\n",
              "  </thead>\n",
              "  <tbody>\n",
              "    <tr>\n",
              "      <th>count</th>\n",
              "      <td>8168.000</td>\n",
              "      <td>8168.000</td>\n",
              "      <td>8168.000</td>\n",
              "      <td>8168.000</td>\n",
              "      <td>8168.000</td>\n",
              "      <td>8168.000</td>\n",
              "      <td>7829.000</td>\n",
              "      <td>7252.000</td>\n",
              "      <td>8168.000</td>\n",
              "      <td>8168.000</td>\n",
              "      <td>8168.000</td>\n",
              "      <td>0.000</td>\n",
              "      <td>0.000</td>\n",
              "      <td>0.000</td>\n",
              "      <td>0.000</td>\n",
              "      <td>0.000</td>\n",
              "      <td>0.000</td>\n",
              "      <td>0.000</td>\n",
              "      <td>0.000</td>\n",
              "      <td>0.000</td>\n",
              "      <td>0.000</td>\n",
              "      <td>0.000</td>\n",
              "      <td>0.000</td>\n",
              "      <td>0.000</td>\n",
              "      <td>0.000</td>\n",
              "    </tr>\n",
              "    <tr>\n",
              "      <th>mean</th>\n",
              "      <td>4084.500</td>\n",
              "      <td>30237.141</td>\n",
              "      <td>3.546</td>\n",
              "      <td>2.647</td>\n",
              "      <td>0.547</td>\n",
              "      <td>588351.294</td>\n",
              "      <td>2695.344</td>\n",
              "      <td>219211.525</td>\n",
              "      <td>33.902</td>\n",
              "      <td>-84.353</td>\n",
              "      <td>1991.392</td>\n",
              "      <td>nan</td>\n",
              "      <td>nan</td>\n",
              "      <td>nan</td>\n",
              "      <td>nan</td>\n",
              "      <td>nan</td>\n",
              "      <td>nan</td>\n",
              "      <td>nan</td>\n",
              "      <td>nan</td>\n",
              "      <td>nan</td>\n",
              "      <td>nan</td>\n",
              "      <td>nan</td>\n",
              "      <td>nan</td>\n",
              "      <td>nan</td>\n",
              "      <td>nan</td>\n",
              "    </tr>\n",
              "    <tr>\n",
              "      <th>std</th>\n",
              "      <td>2358.043</td>\n",
              "      <td>279.482</td>\n",
              "      <td>1.308</td>\n",
              "      <td>1.255</td>\n",
              "      <td>0.629</td>\n",
              "      <td>727109.584</td>\n",
              "      <td>2662.401</td>\n",
              "      <td>5345621.834</td>\n",
              "      <td>0.520</td>\n",
              "      <td>1.511</td>\n",
              "      <td>27.226</td>\n",
              "      <td>nan</td>\n",
              "      <td>nan</td>\n",
              "      <td>nan</td>\n",
              "      <td>nan</td>\n",
              "      <td>nan</td>\n",
              "      <td>nan</td>\n",
              "      <td>nan</td>\n",
              "      <td>nan</td>\n",
              "      <td>nan</td>\n",
              "      <td>nan</td>\n",
              "      <td>nan</td>\n",
              "      <td>nan</td>\n",
              "      <td>nan</td>\n",
              "      <td>nan</td>\n",
              "    </tr>\n",
              "    <tr>\n",
              "      <th>min</th>\n",
              "      <td>1.000</td>\n",
              "      <td>22578.000</td>\n",
              "      <td>0.000</td>\n",
              "      <td>0.000</td>\n",
              "      <td>0.000</td>\n",
              "      <td>9999.000</td>\n",
              "      <td>1.000</td>\n",
              "      <td>52.000</td>\n",
              "      <td>19.487</td>\n",
              "      <td>-155.158</td>\n",
              "      <td>1800.000</td>\n",
              "      <td>nan</td>\n",
              "      <td>nan</td>\n",
              "      <td>nan</td>\n",
              "      <td>nan</td>\n",
              "      <td>nan</td>\n",
              "      <td>nan</td>\n",
              "      <td>nan</td>\n",
              "      <td>nan</td>\n",
              "      <td>nan</td>\n",
              "      <td>nan</td>\n",
              "      <td>nan</td>\n",
              "      <td>nan</td>\n",
              "      <td>nan</td>\n",
              "      <td>nan</td>\n",
              "    </tr>\n",
              "    <tr>\n",
              "      <th>25%</th>\n",
              "      <td>2042.750</td>\n",
              "      <td>30076.000</td>\n",
              "      <td>3.000</td>\n",
              "      <td>2.000</td>\n",
              "      <td>0.000</td>\n",
              "      <td>270000.000</td>\n",
              "      <td>1508.000</td>\n",
              "      <td>6969.000</td>\n",
              "      <td>33.769</td>\n",
              "      <td>-84.476</td>\n",
              "      <td>1978.000</td>\n",
              "      <td>nan</td>\n",
              "      <td>nan</td>\n",
              "      <td>nan</td>\n",
              "      <td>nan</td>\n",
              "      <td>nan</td>\n",
              "      <td>nan</td>\n",
              "      <td>nan</td>\n",
              "      <td>nan</td>\n",
              "      <td>nan</td>\n",
              "      <td>nan</td>\n",
              "      <td>nan</td>\n",
              "      <td>nan</td>\n",
              "      <td>nan</td>\n",
              "      <td>nan</td>\n",
              "    </tr>\n",
              "    <tr>\n",
              "      <th>50%</th>\n",
              "      <td>4084.500</td>\n",
              "      <td>30189.000</td>\n",
              "      <td>3.000</td>\n",
              "      <td>2.000</td>\n",
              "      <td>0.000</td>\n",
              "      <td>392433.000</td>\n",
              "      <td>2179.000</td>\n",
              "      <td>15247.500</td>\n",
              "      <td>33.872</td>\n",
              "      <td>-84.361</td>\n",
              "      <td>1999.000</td>\n",
              "      <td>nan</td>\n",
              "      <td>nan</td>\n",
              "      <td>nan</td>\n",
              "      <td>nan</td>\n",
              "      <td>nan</td>\n",
              "      <td>nan</td>\n",
              "      <td>nan</td>\n",
              "      <td>nan</td>\n",
              "      <td>nan</td>\n",
              "      <td>nan</td>\n",
              "      <td>nan</td>\n",
              "      <td>nan</td>\n",
              "      <td>nan</td>\n",
              "      <td>nan</td>\n",
              "    </tr>\n",
              "    <tr>\n",
              "      <th>75%</th>\n",
              "      <td>6126.250</td>\n",
              "      <td>30324.000</td>\n",
              "      <td>4.000</td>\n",
              "      <td>3.000</td>\n",
              "      <td>1.000</td>\n",
              "      <td>624900.000</td>\n",
              "      <td>3100.000</td>\n",
              "      <td>32670.000</td>\n",
              "      <td>34.054</td>\n",
              "      <td>-84.147</td>\n",
              "      <td>2010.000</td>\n",
              "      <td>nan</td>\n",
              "      <td>nan</td>\n",
              "      <td>nan</td>\n",
              "      <td>nan</td>\n",
              "      <td>nan</td>\n",
              "      <td>nan</td>\n",
              "      <td>nan</td>\n",
              "      <td>nan</td>\n",
              "      <td>nan</td>\n",
              "      <td>nan</td>\n",
              "      <td>nan</td>\n",
              "      <td>nan</td>\n",
              "      <td>nan</td>\n",
              "      <td>nan</td>\n",
              "    </tr>\n",
              "    <tr>\n",
              "      <th>max</th>\n",
              "      <td>8168.000</td>\n",
              "      <td>39854.000</td>\n",
              "      <td>21.000</td>\n",
              "      <td>23.000</td>\n",
              "      <td>10.000</td>\n",
              "      <td>13950000.000</td>\n",
              "      <td>138206.000</td>\n",
              "      <td>283140000.000</td>\n",
              "      <td>42.946</td>\n",
              "      <td>-71.514</td>\n",
              "      <td>2022.000</td>\n",
              "      <td>nan</td>\n",
              "      <td>nan</td>\n",
              "      <td>nan</td>\n",
              "      <td>nan</td>\n",
              "      <td>nan</td>\n",
              "      <td>nan</td>\n",
              "      <td>nan</td>\n",
              "      <td>nan</td>\n",
              "      <td>nan</td>\n",
              "      <td>nan</td>\n",
              "      <td>nan</td>\n",
              "      <td>nan</td>\n",
              "      <td>nan</td>\n",
              "      <td>nan</td>\n",
              "    </tr>\n",
              "  </tbody>\n",
              "</table>\n",
              "</div>"
            ],
            "text/plain": [
              "            id       zip     beds  baths_full  baths_half   list_price  \\\n",
              "count 8168.000  8168.000 8168.000    8168.000    8168.000     8168.000   \n",
              "mean  4084.500 30237.141    3.546       2.647       0.547   588351.294   \n",
              "std   2358.043   279.482    1.308       1.255       0.629   727109.584   \n",
              "min      1.000 22578.000    0.000       0.000       0.000     9999.000   \n",
              "25%   2042.750 30076.000    3.000       2.000       0.000   270000.000   \n",
              "50%   4084.500 30189.000    3.000       2.000       0.000   392433.000   \n",
              "75%   6126.250 30324.000    4.000       3.000       1.000   624900.000   \n",
              "max   8168.000 39854.000   21.000      23.000      10.000 13950000.000   \n",
              "\n",
              "            sqft  lotsize_sqft      lat      lng  year_built  \\\n",
              "count   7829.000      7252.000 8168.000 8168.000    8168.000   \n",
              "mean    2695.344    219211.525   33.902  -84.353    1991.392   \n",
              "std     2662.401   5345621.834    0.520    1.511      27.226   \n",
              "min        1.000        52.000   19.487 -155.158    1800.000   \n",
              "25%     1508.000      6969.000   33.769  -84.476    1978.000   \n",
              "50%     2179.000     15247.500   33.872  -84.361    1999.000   \n",
              "75%     3100.000     32670.000   34.054  -84.147    2010.000   \n",
              "max   138206.000 283140000.000   42.946  -71.514    2022.000   \n",
              "\n",
              "       features_appliances_and_equipment  features_community  features_doors  \\\n",
              "count                              0.000               0.000           0.000   \n",
              "mean                                 nan                 nan             nan   \n",
              "std                                  nan                 nan             nan   \n",
              "min                                  nan                 nan             nan   \n",
              "25%                                  nan                 nan             nan   \n",
              "50%                                  nan                 nan             nan   \n",
              "75%                                  nan                 nan             nan   \n",
              "max                                  nan                 nan             nan   \n",
              "\n",
              "       features_energy_saving  features_exterior_features  features_fence  \\\n",
              "count                   0.000                       0.000           0.000   \n",
              "mean                      nan                         nan             nan   \n",
              "std                       nan                         nan             nan   \n",
              "min                       nan                         nan             nan   \n",
              "25%                       nan                         nan             nan   \n",
              "50%                       nan                         nan             nan   \n",
              "75%                       nan                         nan             nan   \n",
              "max                       nan                         nan             nan   \n",
              "\n",
              "       features_foundation  features_interior  features_miscellaneous  \\\n",
              "count                0.000              0.000                   0.000   \n",
              "mean                   nan                nan                     nan   \n",
              "std                    nan                nan                     nan   \n",
              "min                    nan                nan                     nan   \n",
              "25%                    nan                nan                     nan   \n",
              "50%                    nan                nan                     nan   \n",
              "75%                    nan                nan                     nan   \n",
              "max                    nan                nan                     nan   \n",
              "\n",
              "       features_security_system  features_spa  features_amenities  \\\n",
              "count                     0.000         0.000               0.000   \n",
              "mean                        nan           nan                 nan   \n",
              "std                         nan           nan                 nan   \n",
              "min                         nan           nan                 nan   \n",
              "25%                         nan           nan                 nan   \n",
              "50%                         nan           nan                 nan   \n",
              "75%                         nan           nan                 nan   \n",
              "max                         nan           nan                 nan   \n",
              "\n",
              "       features_disclosures  features_windows_and_doors  \n",
              "count                 0.000                       0.000  \n",
              "mean                    nan                         nan  \n",
              "std                     nan                         nan  \n",
              "min                     nan                         nan  \n",
              "25%                     nan                         nan  \n",
              "50%                     nan                         nan  \n",
              "75%                     nan                         nan  \n",
              "max                     nan                         nan  "
            ]
          },
          "metadata": {},
          "execution_count": 7
        }
      ]
    },
    {
      "cell_type": "code",
      "metadata": {
        "colab": {
          "base_uri": "https://localhost:8080/",
          "height": 406
        },
        "id": "gdwiRQV2C08X",
        "outputId": "45f95f24-9ee0-4751-f77d-9eada77e4a4d"
      },
      "source": [
        "# try to spot the columns with only NAs and drop them\n",
        "sum(homes.isna().sum()==8168)\n",
        "new_homes = homes.drop(columns=homes.columns[homes.isna().sum()==8168], axis=1)\n",
        "new_homes.head(3)"
      ],
      "execution_count": null,
      "outputs": [
        {
          "output_type": "execute_result",
          "data": {
            "text/html": [
              "<div>\n",
              "<style scoped>\n",
              "    .dataframe tbody tr th:only-of-type {\n",
              "        vertical-align: middle;\n",
              "    }\n",
              "\n",
              "    .dataframe tbody tr th {\n",
              "        vertical-align: top;\n",
              "    }\n",
              "\n",
              "    .dataframe thead th {\n",
              "        text-align: right;\n",
              "    }\n",
              "</style>\n",
              "<table border=\"1\" class=\"dataframe\">\n",
              "  <thead>\n",
              "    <tr style=\"text-align: right;\">\n",
              "      <th></th>\n",
              "      <th>id</th>\n",
              "      <th>street</th>\n",
              "      <th>city</th>\n",
              "      <th>state</th>\n",
              "      <th>zip</th>\n",
              "      <th>county</th>\n",
              "      <th>beds</th>\n",
              "      <th>baths_full</th>\n",
              "      <th>baths_half</th>\n",
              "      <th>description</th>\n",
              "      <th>listing_date</th>\n",
              "      <th>list_price</th>\n",
              "      <th>sqft</th>\n",
              "      <th>lotsize_sqft</th>\n",
              "      <th>property_type</th>\n",
              "      <th>school_district</th>\n",
              "      <th>subdivision</th>\n",
              "      <th>lat</th>\n",
              "      <th>lng</th>\n",
              "      <th>year_built</th>\n",
              "      <th>features_bathrooms</th>\n",
              "      <th>features_bedrooms</th>\n",
              "      <th>features_dining_room</th>\n",
              "      <th>features_fireplaces</th>\n",
              "      <th>features_fees</th>\n",
              "      <th>features_garage</th>\n",
              "      <th>features_heating</th>\n",
              "      <th>features_home_owners_association</th>\n",
              "      <th>features_house</th>\n",
              "      <th>features_interior_features</th>\n",
              "      <th>features_kitchen</th>\n",
              "      <th>features_laundry</th>\n",
              "      <th>features_location</th>\n",
              "      <th>features_lot</th>\n",
              "      <th>features_parking</th>\n",
              "      <th>features_pool</th>\n",
              "      <th>features_property</th>\n",
              "      <th>features_property_access</th>\n",
              "      <th>features_roof</th>\n",
              "      <th>features_schools</th>\n",
              "      <th>features_sewer</th>\n",
              "      <th>features_taxes</th>\n",
              "      <th>features_water</th>\n",
              "      <th>features_utilities</th>\n",
              "      <th>xf_attributes</th>\n",
              "      <th>photo_urls</th>\n",
              "    </tr>\n",
              "  </thead>\n",
              "  <tbody>\n",
              "    <tr>\n",
              "      <th>0</th>\n",
              "      <td>1</td>\n",
              "      <td>115 Kings Ridge Dr</td>\n",
              "      <td>Peachtree City</td>\n",
              "      <td>GA</td>\n",
              "      <td>30269</td>\n",
              "      <td>Peachtree City</td>\n",
              "      <td>4</td>\n",
              "      <td>2</td>\n",
              "      <td>0</td>\n",
              "      <td>This Peachtree City two-story home offers a pa...</td>\n",
              "      <td>2021-04-19 04:00:00+00</td>\n",
              "      <td>271000</td>\n",
              "      <td>1880.000</td>\n",
              "      <td>13717.000</td>\n",
              "      <td>single family home</td>\n",
              "      <td>NaN</td>\n",
              "      <td>NaN</td>\n",
              "      <td>33.404</td>\n",
              "      <td>-84.611</td>\n",
              "      <td>1973</td>\n",
              "      <td>NaN</td>\n",
              "      <td>NaN</td>\n",
              "      <td>NaN</td>\n",
              "      <td>NaN</td>\n",
              "      <td>NaN</td>\n",
              "      <td>[\"2 garage spaces\"]</td>\n",
              "      <td>[]</td>\n",
              "      <td>NaN</td>\n",
              "      <td>NaN</td>\n",
              "      <td>NaN</td>\n",
              "      <td>[]</td>\n",
              "      <td>NaN</td>\n",
              "      <td>NaN</td>\n",
              "      <td>NaN</td>\n",
              "      <td>[\"Garage Attached\"]</td>\n",
              "      <td>[]</td>\n",
              "      <td>NaN</td>\n",
              "      <td>NaN</td>\n",
              "      <td>NaN</td>\n",
              "      <td>[\"Elementary school: Kedron\",\"Junior high scho...</td>\n",
              "      <td>NaN</td>\n",
              "      <td>NaN</td>\n",
              "      <td>NaN</td>\n",
              "      <td>NaN</td>\n",
              "      <td>{}</td>\n",
              "      <td>[\"https://opendoor2.imgix.net/https%3A%2F%2Fli...</td>\n",
              "    </tr>\n",
              "    <tr>\n",
              "      <th>1</th>\n",
              "      <td>2</td>\n",
              "      <td>3729 Gardenwick Road Unit 15</td>\n",
              "      <td>Powder Springs</td>\n",
              "      <td>GA</td>\n",
              "      <td>30127</td>\n",
              "      <td>Cobb</td>\n",
              "      <td>3</td>\n",
              "      <td>2</td>\n",
              "      <td>1</td>\n",
              "      <td>Stafford, an eye-catching two-story interior u...</td>\n",
              "      <td>2021-02-15 00:00:00+00</td>\n",
              "      <td>320443</td>\n",
              "      <td>1874.000</td>\n",
              "      <td>nan</td>\n",
              "      <td>Townhouse</td>\n",
              "      <td>1</td>\n",
              "      <td>Sweetwater Landing Townhomes</td>\n",
              "      <td>33.863</td>\n",
              "      <td>-84.696</td>\n",
              "      <td>2021</td>\n",
              "      <td>[\"2 full bathrooms\",\"2 full bathrooms on upper...</td>\n",
              "      <td>[\"3 bedrooms\",\"3 bedrooms on upper level\",\"Ove...</td>\n",
              "      <td>[\"Ceiling Fan(s)\",\"Central Air\",\"Window Unit(s...</td>\n",
              "      <td>[\"1 fireplace\",\"Factory Built\",\"Family Room\"]</td>\n",
              "      <td>NaN</td>\n",
              "      <td>NaN</td>\n",
              "      <td>[\"Electric\",\"Zoned\"]</td>\n",
              "      <td>[\"Association Fee: $135\",\"Association Fee Freq...</td>\n",
              "      <td>[\"Architecture: Traditional\",\"Built in 2021\",\"...</td>\n",
              "      <td>[\"Entrance Foyer\",\"Double Vanity\",\"High Ceilin...</td>\n",
              "      <td>[\"Eat-in Kitchen\",\"Kitchen Island\",\"Pantry\",\"P...</td>\n",
              "      <td>[\"In Hall\",\"Laundry Room\",\"Upper Floor\"]</td>\n",
              "      <td>NaN</td>\n",
              "      <td>[\"Lot: Not Available\",\"Back Yard\",\"Front Yard\"...</td>\n",
              "      <td>[\"Attached\",\"Driveway\",\"Garage\",\"Garage Faces ...</td>\n",
              "      <td>[\"None\"]</td>\n",
              "      <td>NaN</td>\n",
              "      <td>[\"Paved\",\"None\"]</td>\n",
              "      <td>[\"Composition\"]</td>\n",
              "      <td>[\"Elementary School: Powder Springs\",\"Middle S...</td>\n",
              "      <td>[\"Public Sewer\"]</td>\n",
              "      <td>[\"Year: 2020\"]</td>\n",
              "      <td>[\"Public\"]</td>\n",
              "      <td>[\"Utilities available: Cable Available,Electri...</td>\n",
              "      <td>{\"xf_city\":\"Powder Springs\",\"xf_roof\":[\"Compos...</td>\n",
              "      <td>[\"https://listing-images.homejunction.com/fmls...</td>\n",
              "    </tr>\n",
              "    <tr>\n",
              "      <th>2</th>\n",
              "      <td>3</td>\n",
              "      <td>2117 Green Gate Place</td>\n",
              "      <td>Grayson</td>\n",
              "      <td>GA</td>\n",
              "      <td>30017</td>\n",
              "      <td>Gwinnett</td>\n",
              "      <td>3</td>\n",
              "      <td>2</td>\n",
              "      <td>0</td>\n",
              "      <td>This Grayson one-story cul-de-sac home offers ...</td>\n",
              "      <td>2021-04-19 00:00:00+00</td>\n",
              "      <td>296000</td>\n",
              "      <td>1664.000</td>\n",
              "      <td>30056.000</td>\n",
              "      <td>Single Family Residence</td>\n",
              "      <td>5th</td>\n",
              "      <td>GRAYSON MEADOWS</td>\n",
              "      <td>33.900</td>\n",
              "      <td>-83.944</td>\n",
              "      <td>1996</td>\n",
              "      <td>[\"2 full bathrooms\"]</td>\n",
              "      <td>[\"3 bedrooms\",\"3 bedrooms on main level\",\"Mast...</td>\n",
              "      <td>[\"Central Air\"]</td>\n",
              "      <td>[\"1 fireplace\",\"Gas Starter\",\"Other Room\"]</td>\n",
              "      <td>NaN</td>\n",
              "      <td>NaN</td>\n",
              "      <td>[\"Natural Gas\"]</td>\n",
              "      <td>NaN</td>\n",
              "      <td>[\"Architecture: Other\",\"Built in 1996\",\"Loft\",...</td>\n",
              "      <td>NaN</td>\n",
              "      <td>NaN</td>\n",
              "      <td>NaN</td>\n",
              "      <td>NaN</td>\n",
              "      <td>[\"Approximate Lot Size: 0.6900\",\"Dimensions: x...</td>\n",
              "      <td>[\"Garage\"]</td>\n",
              "      <td>[\"None\"]</td>\n",
              "      <td>NaN</td>\n",
              "      <td>[\"Paved\",\"None\"]</td>\n",
              "      <td>[\"Composition\"]</td>\n",
              "      <td>[\"Elementary School: Grayson\",\"Middle School: ...</td>\n",
              "      <td>[\"Septic Tank\"]</td>\n",
              "      <td>[\"$2,924\",\"Year: 2020\"]</td>\n",
              "      <td>[\"Public\"]</td>\n",
              "      <td>[\"Utilities available: Electricity Available\"]</td>\n",
              "      <td>{\"xf_city\":\"Grayson\",\"xf_roof\":[\"Composition\"]...</td>\n",
              "      <td>[\"https://listing-images.homejunction.com/fmls...</td>\n",
              "    </tr>\n",
              "  </tbody>\n",
              "</table>\n",
              "</div>"
            ],
            "text/plain": [
              "   id                        street            city state    zip  \\\n",
              "0   1            115 Kings Ridge Dr  Peachtree City    GA  30269   \n",
              "1   2  3729 Gardenwick Road Unit 15  Powder Springs    GA  30127   \n",
              "2   3         2117 Green Gate Place         Grayson    GA  30017   \n",
              "\n",
              "           county  beds  baths_full  baths_half  \\\n",
              "0  Peachtree City     4           2           0   \n",
              "1            Cobb     3           2           1   \n",
              "2        Gwinnett     3           2           0   \n",
              "\n",
              "                                         description            listing_date  \\\n",
              "0  This Peachtree City two-story home offers a pa...  2021-04-19 04:00:00+00   \n",
              "1  Stafford, an eye-catching two-story interior u...  2021-02-15 00:00:00+00   \n",
              "2  This Grayson one-story cul-de-sac home offers ...  2021-04-19 00:00:00+00   \n",
              "\n",
              "   list_price     sqft  lotsize_sqft            property_type school_district  \\\n",
              "0      271000 1880.000     13717.000       single family home             NaN   \n",
              "1      320443 1874.000           nan                Townhouse               1   \n",
              "2      296000 1664.000     30056.000  Single Family Residence             5th   \n",
              "\n",
              "                    subdivision    lat     lng  year_built  \\\n",
              "0                           NaN 33.404 -84.611        1973   \n",
              "1  Sweetwater Landing Townhomes 33.863 -84.696        2021   \n",
              "2               GRAYSON MEADOWS 33.900 -83.944        1996   \n",
              "\n",
              "                                  features_bathrooms  \\\n",
              "0                                                NaN   \n",
              "1  [\"2 full bathrooms\",\"2 full bathrooms on upper...   \n",
              "2                               [\"2 full bathrooms\"]   \n",
              "\n",
              "                                   features_bedrooms  \\\n",
              "0                                                NaN   \n",
              "1  [\"3 bedrooms\",\"3 bedrooms on upper level\",\"Ove...   \n",
              "2  [\"3 bedrooms\",\"3 bedrooms on main level\",\"Mast...   \n",
              "\n",
              "                                features_dining_room  \\\n",
              "0                                                NaN   \n",
              "1  [\"Ceiling Fan(s)\",\"Central Air\",\"Window Unit(s...   \n",
              "2                                    [\"Central Air\"]   \n",
              "\n",
              "                             features_fireplaces features_fees  \\\n",
              "0                                            NaN           NaN   \n",
              "1  [\"1 fireplace\",\"Factory Built\",\"Family Room\"]           NaN   \n",
              "2     [\"1 fireplace\",\"Gas Starter\",\"Other Room\"]           NaN   \n",
              "\n",
              "       features_garage      features_heating  \\\n",
              "0  [\"2 garage spaces\"]                    []   \n",
              "1                  NaN  [\"Electric\",\"Zoned\"]   \n",
              "2                  NaN       [\"Natural Gas\"]   \n",
              "\n",
              "                    features_home_owners_association  \\\n",
              "0                                                NaN   \n",
              "1  [\"Association Fee: $135\",\"Association Fee Freq...   \n",
              "2                                                NaN   \n",
              "\n",
              "                                      features_house  \\\n",
              "0                                                NaN   \n",
              "1  [\"Architecture: Traditional\",\"Built in 2021\",\"...   \n",
              "2  [\"Architecture: Other\",\"Built in 1996\",\"Loft\",...   \n",
              "\n",
              "                          features_interior_features  \\\n",
              "0                                                NaN   \n",
              "1  [\"Entrance Foyer\",\"Double Vanity\",\"High Ceilin...   \n",
              "2                                                NaN   \n",
              "\n",
              "                                    features_kitchen  \\\n",
              "0                                                 []   \n",
              "1  [\"Eat-in Kitchen\",\"Kitchen Island\",\"Pantry\",\"P...   \n",
              "2                                                NaN   \n",
              "\n",
              "                           features_laundry features_location  \\\n",
              "0                                       NaN               NaN   \n",
              "1  [\"In Hall\",\"Laundry Room\",\"Upper Floor\"]               NaN   \n",
              "2                                       NaN               NaN   \n",
              "\n",
              "                                        features_lot  \\\n",
              "0                                                NaN   \n",
              "1  [\"Lot: Not Available\",\"Back Yard\",\"Front Yard\"...   \n",
              "2  [\"Approximate Lot Size: 0.6900\",\"Dimensions: x...   \n",
              "\n",
              "                                    features_parking features_pool  \\\n",
              "0                                [\"Garage Attached\"]            []   \n",
              "1  [\"Attached\",\"Driveway\",\"Garage\",\"Garage Faces ...      [\"None\"]   \n",
              "2                                         [\"Garage\"]      [\"None\"]   \n",
              "\n",
              "  features_property features_property_access    features_roof  \\\n",
              "0               NaN                      NaN              NaN   \n",
              "1               NaN         [\"Paved\",\"None\"]  [\"Composition\"]   \n",
              "2               NaN         [\"Paved\",\"None\"]  [\"Composition\"]   \n",
              "\n",
              "                                    features_schools    features_sewer  \\\n",
              "0  [\"Elementary school: Kedron\",\"Junior high scho...               NaN   \n",
              "1  [\"Elementary School: Powder Springs\",\"Middle S...  [\"Public Sewer\"]   \n",
              "2  [\"Elementary School: Grayson\",\"Middle School: ...   [\"Septic Tank\"]   \n",
              "\n",
              "            features_taxes features_water  \\\n",
              "0                      NaN            NaN   \n",
              "1           [\"Year: 2020\"]     [\"Public\"]   \n",
              "2  [\"$2,924\",\"Year: 2020\"]     [\"Public\"]   \n",
              "\n",
              "                                  features_utilities  \\\n",
              "0                                                NaN   \n",
              "1  [\"Utilities available: Cable Available,Electri...   \n",
              "2     [\"Utilities available: Electricity Available\"]   \n",
              "\n",
              "                                       xf_attributes  \\\n",
              "0                                                 {}   \n",
              "1  {\"xf_city\":\"Powder Springs\",\"xf_roof\":[\"Compos...   \n",
              "2  {\"xf_city\":\"Grayson\",\"xf_roof\":[\"Composition\"]...   \n",
              "\n",
              "                                          photo_urls  \n",
              "0  [\"https://opendoor2.imgix.net/https%3A%2F%2Fli...  \n",
              "1  [\"https://listing-images.homejunction.com/fmls...  \n",
              "2  [\"https://listing-images.homejunction.com/fmls...  "
            ]
          },
          "metadata": {},
          "execution_count": 8
        }
      ]
    },
    {
      "cell_type": "markdown",
      "metadata": {
        "id": "ORpxOkgnuT4L"
      },
      "source": [
        "### 1.1.2 Drop redundant columns"
      ]
    },
    {
      "cell_type": "markdown",
      "metadata": {
        "id": "EePpssVDu4Z3"
      },
      "source": [
        "As we can see, the 'features_bedrooms' and 'features_bathrooms' give basically the same information as 'beds', 'baths_full', 'baths_half'. For the simplicity of our analysis, we can drop these columns as well. What's more, we can add the number of 'baths_half' as 0.5 to 'baths_full'  \n",
        "In addition, the column 'photo_urls' can also be dropped."
      ]
    },
    {
      "cell_type": "code",
      "metadata": {
        "id": "VsGNW0oOu4Bj"
      },
      "source": [
        "# drop redundant column\n",
        "new_homes.drop(columns=['features_bedrooms', 'features_bathrooms', 'photo_urls'],inplace=True)\n",
        "\n",
        "# add number of half bathrooms to number of full bathrooms\n",
        "num_bathrooms = new_homes['baths_full'] + 0.5*homes['baths_half']\n",
        "new_homes.insert(7, 'bathrooms', num_bathrooms)\n",
        "\n",
        "# drop baths_full and baths_half\n",
        "new_homes.drop(columns=['baths_full', 'baths_half'],inplace=True)"
      ],
      "execution_count": null,
      "outputs": []
    },
    {
      "cell_type": "code",
      "metadata": {
        "colab": {
          "base_uri": "https://localhost:8080/",
          "height": 406
        },
        "id": "zYk2E3kfxI-4",
        "outputId": "0bf17b09-11a9-4c4d-fe13-090d1ad97726"
      },
      "source": [
        "new_homes.head(3)"
      ],
      "execution_count": null,
      "outputs": [
        {
          "output_type": "execute_result",
          "data": {
            "text/html": [
              "<div>\n",
              "<style scoped>\n",
              "    .dataframe tbody tr th:only-of-type {\n",
              "        vertical-align: middle;\n",
              "    }\n",
              "\n",
              "    .dataframe tbody tr th {\n",
              "        vertical-align: top;\n",
              "    }\n",
              "\n",
              "    .dataframe thead th {\n",
              "        text-align: right;\n",
              "    }\n",
              "</style>\n",
              "<table border=\"1\" class=\"dataframe\">\n",
              "  <thead>\n",
              "    <tr style=\"text-align: right;\">\n",
              "      <th></th>\n",
              "      <th>id</th>\n",
              "      <th>street</th>\n",
              "      <th>city</th>\n",
              "      <th>state</th>\n",
              "      <th>zip</th>\n",
              "      <th>county</th>\n",
              "      <th>beds</th>\n",
              "      <th>bathrooms</th>\n",
              "      <th>description</th>\n",
              "      <th>listing_date</th>\n",
              "      <th>list_price</th>\n",
              "      <th>sqft</th>\n",
              "      <th>lotsize_sqft</th>\n",
              "      <th>property_type</th>\n",
              "      <th>school_district</th>\n",
              "      <th>subdivision</th>\n",
              "      <th>lat</th>\n",
              "      <th>lng</th>\n",
              "      <th>year_built</th>\n",
              "      <th>features_dining_room</th>\n",
              "      <th>features_fireplaces</th>\n",
              "      <th>features_fees</th>\n",
              "      <th>features_garage</th>\n",
              "      <th>features_heating</th>\n",
              "      <th>features_home_owners_association</th>\n",
              "      <th>features_house</th>\n",
              "      <th>features_interior_features</th>\n",
              "      <th>features_kitchen</th>\n",
              "      <th>features_laundry</th>\n",
              "      <th>features_location</th>\n",
              "      <th>features_lot</th>\n",
              "      <th>features_parking</th>\n",
              "      <th>features_pool</th>\n",
              "      <th>features_property</th>\n",
              "      <th>features_property_access</th>\n",
              "      <th>features_roof</th>\n",
              "      <th>features_schools</th>\n",
              "      <th>features_sewer</th>\n",
              "      <th>features_taxes</th>\n",
              "      <th>features_water</th>\n",
              "      <th>features_utilities</th>\n",
              "      <th>xf_attributes</th>\n",
              "    </tr>\n",
              "  </thead>\n",
              "  <tbody>\n",
              "    <tr>\n",
              "      <th>0</th>\n",
              "      <td>1</td>\n",
              "      <td>115 Kings Ridge Dr</td>\n",
              "      <td>Peachtree City</td>\n",
              "      <td>GA</td>\n",
              "      <td>30269</td>\n",
              "      <td>Peachtree City</td>\n",
              "      <td>4</td>\n",
              "      <td>2.000</td>\n",
              "      <td>This Peachtree City two-story home offers a pa...</td>\n",
              "      <td>2021-04-19 04:00:00+00</td>\n",
              "      <td>271000</td>\n",
              "      <td>1880.000</td>\n",
              "      <td>13717.000</td>\n",
              "      <td>single family home</td>\n",
              "      <td>NaN</td>\n",
              "      <td>NaN</td>\n",
              "      <td>33.404</td>\n",
              "      <td>-84.611</td>\n",
              "      <td>1973</td>\n",
              "      <td>NaN</td>\n",
              "      <td>NaN</td>\n",
              "      <td>NaN</td>\n",
              "      <td>[\"2 garage spaces\"]</td>\n",
              "      <td>[]</td>\n",
              "      <td>NaN</td>\n",
              "      <td>NaN</td>\n",
              "      <td>NaN</td>\n",
              "      <td>[]</td>\n",
              "      <td>NaN</td>\n",
              "      <td>NaN</td>\n",
              "      <td>NaN</td>\n",
              "      <td>[\"Garage Attached\"]</td>\n",
              "      <td>[]</td>\n",
              "      <td>NaN</td>\n",
              "      <td>NaN</td>\n",
              "      <td>NaN</td>\n",
              "      <td>[\"Elementary school: Kedron\",\"Junior high scho...</td>\n",
              "      <td>NaN</td>\n",
              "      <td>NaN</td>\n",
              "      <td>NaN</td>\n",
              "      <td>NaN</td>\n",
              "      <td>{}</td>\n",
              "    </tr>\n",
              "    <tr>\n",
              "      <th>1</th>\n",
              "      <td>2</td>\n",
              "      <td>3729 Gardenwick Road Unit 15</td>\n",
              "      <td>Powder Springs</td>\n",
              "      <td>GA</td>\n",
              "      <td>30127</td>\n",
              "      <td>Cobb</td>\n",
              "      <td>3</td>\n",
              "      <td>2.500</td>\n",
              "      <td>Stafford, an eye-catching two-story interior u...</td>\n",
              "      <td>2021-02-15 00:00:00+00</td>\n",
              "      <td>320443</td>\n",
              "      <td>1874.000</td>\n",
              "      <td>nan</td>\n",
              "      <td>Townhouse</td>\n",
              "      <td>1</td>\n",
              "      <td>Sweetwater Landing Townhomes</td>\n",
              "      <td>33.863</td>\n",
              "      <td>-84.696</td>\n",
              "      <td>2021</td>\n",
              "      <td>[\"Ceiling Fan(s)\",\"Central Air\",\"Window Unit(s...</td>\n",
              "      <td>[\"1 fireplace\",\"Factory Built\",\"Family Room\"]</td>\n",
              "      <td>NaN</td>\n",
              "      <td>NaN</td>\n",
              "      <td>[\"Electric\",\"Zoned\"]</td>\n",
              "      <td>[\"Association Fee: $135\",\"Association Fee Freq...</td>\n",
              "      <td>[\"Architecture: Traditional\",\"Built in 2021\",\"...</td>\n",
              "      <td>[\"Entrance Foyer\",\"Double Vanity\",\"High Ceilin...</td>\n",
              "      <td>[\"Eat-in Kitchen\",\"Kitchen Island\",\"Pantry\",\"P...</td>\n",
              "      <td>[\"In Hall\",\"Laundry Room\",\"Upper Floor\"]</td>\n",
              "      <td>NaN</td>\n",
              "      <td>[\"Lot: Not Available\",\"Back Yard\",\"Front Yard\"...</td>\n",
              "      <td>[\"Attached\",\"Driveway\",\"Garage\",\"Garage Faces ...</td>\n",
              "      <td>[\"None\"]</td>\n",
              "      <td>NaN</td>\n",
              "      <td>[\"Paved\",\"None\"]</td>\n",
              "      <td>[\"Composition\"]</td>\n",
              "      <td>[\"Elementary School: Powder Springs\",\"Middle S...</td>\n",
              "      <td>[\"Public Sewer\"]</td>\n",
              "      <td>[\"Year: 2020\"]</td>\n",
              "      <td>[\"Public\"]</td>\n",
              "      <td>[\"Utilities available: Cable Available,Electri...</td>\n",
              "      <td>{\"xf_city\":\"Powder Springs\",\"xf_roof\":[\"Compos...</td>\n",
              "    </tr>\n",
              "    <tr>\n",
              "      <th>2</th>\n",
              "      <td>3</td>\n",
              "      <td>2117 Green Gate Place</td>\n",
              "      <td>Grayson</td>\n",
              "      <td>GA</td>\n",
              "      <td>30017</td>\n",
              "      <td>Gwinnett</td>\n",
              "      <td>3</td>\n",
              "      <td>2.000</td>\n",
              "      <td>This Grayson one-story cul-de-sac home offers ...</td>\n",
              "      <td>2021-04-19 00:00:00+00</td>\n",
              "      <td>296000</td>\n",
              "      <td>1664.000</td>\n",
              "      <td>30056.000</td>\n",
              "      <td>Single Family Residence</td>\n",
              "      <td>5th</td>\n",
              "      <td>GRAYSON MEADOWS</td>\n",
              "      <td>33.900</td>\n",
              "      <td>-83.944</td>\n",
              "      <td>1996</td>\n",
              "      <td>[\"Central Air\"]</td>\n",
              "      <td>[\"1 fireplace\",\"Gas Starter\",\"Other Room\"]</td>\n",
              "      <td>NaN</td>\n",
              "      <td>NaN</td>\n",
              "      <td>[\"Natural Gas\"]</td>\n",
              "      <td>NaN</td>\n",
              "      <td>[\"Architecture: Other\",\"Built in 1996\",\"Loft\",...</td>\n",
              "      <td>NaN</td>\n",
              "      <td>NaN</td>\n",
              "      <td>NaN</td>\n",
              "      <td>NaN</td>\n",
              "      <td>[\"Approximate Lot Size: 0.6900\",\"Dimensions: x...</td>\n",
              "      <td>[\"Garage\"]</td>\n",
              "      <td>[\"None\"]</td>\n",
              "      <td>NaN</td>\n",
              "      <td>[\"Paved\",\"None\"]</td>\n",
              "      <td>[\"Composition\"]</td>\n",
              "      <td>[\"Elementary School: Grayson\",\"Middle School: ...</td>\n",
              "      <td>[\"Septic Tank\"]</td>\n",
              "      <td>[\"$2,924\",\"Year: 2020\"]</td>\n",
              "      <td>[\"Public\"]</td>\n",
              "      <td>[\"Utilities available: Electricity Available\"]</td>\n",
              "      <td>{\"xf_city\":\"Grayson\",\"xf_roof\":[\"Composition\"]...</td>\n",
              "    </tr>\n",
              "  </tbody>\n",
              "</table>\n",
              "</div>"
            ],
            "text/plain": [
              "   id                        street            city state    zip  \\\n",
              "0   1            115 Kings Ridge Dr  Peachtree City    GA  30269   \n",
              "1   2  3729 Gardenwick Road Unit 15  Powder Springs    GA  30127   \n",
              "2   3         2117 Green Gate Place         Grayson    GA  30017   \n",
              "\n",
              "           county  beds  bathrooms  \\\n",
              "0  Peachtree City     4      2.000   \n",
              "1            Cobb     3      2.500   \n",
              "2        Gwinnett     3      2.000   \n",
              "\n",
              "                                         description            listing_date  \\\n",
              "0  This Peachtree City two-story home offers a pa...  2021-04-19 04:00:00+00   \n",
              "1  Stafford, an eye-catching two-story interior u...  2021-02-15 00:00:00+00   \n",
              "2  This Grayson one-story cul-de-sac home offers ...  2021-04-19 00:00:00+00   \n",
              "\n",
              "   list_price     sqft  lotsize_sqft            property_type school_district  \\\n",
              "0      271000 1880.000     13717.000       single family home             NaN   \n",
              "1      320443 1874.000           nan                Townhouse               1   \n",
              "2      296000 1664.000     30056.000  Single Family Residence             5th   \n",
              "\n",
              "                    subdivision    lat     lng  year_built  \\\n",
              "0                           NaN 33.404 -84.611        1973   \n",
              "1  Sweetwater Landing Townhomes 33.863 -84.696        2021   \n",
              "2               GRAYSON MEADOWS 33.900 -83.944        1996   \n",
              "\n",
              "                                features_dining_room  \\\n",
              "0                                                NaN   \n",
              "1  [\"Ceiling Fan(s)\",\"Central Air\",\"Window Unit(s...   \n",
              "2                                    [\"Central Air\"]   \n",
              "\n",
              "                             features_fireplaces features_fees  \\\n",
              "0                                            NaN           NaN   \n",
              "1  [\"1 fireplace\",\"Factory Built\",\"Family Room\"]           NaN   \n",
              "2     [\"1 fireplace\",\"Gas Starter\",\"Other Room\"]           NaN   \n",
              "\n",
              "       features_garage      features_heating  \\\n",
              "0  [\"2 garage spaces\"]                    []   \n",
              "1                  NaN  [\"Electric\",\"Zoned\"]   \n",
              "2                  NaN       [\"Natural Gas\"]   \n",
              "\n",
              "                    features_home_owners_association  \\\n",
              "0                                                NaN   \n",
              "1  [\"Association Fee: $135\",\"Association Fee Freq...   \n",
              "2                                                NaN   \n",
              "\n",
              "                                      features_house  \\\n",
              "0                                                NaN   \n",
              "1  [\"Architecture: Traditional\",\"Built in 2021\",\"...   \n",
              "2  [\"Architecture: Other\",\"Built in 1996\",\"Loft\",...   \n",
              "\n",
              "                          features_interior_features  \\\n",
              "0                                                NaN   \n",
              "1  [\"Entrance Foyer\",\"Double Vanity\",\"High Ceilin...   \n",
              "2                                                NaN   \n",
              "\n",
              "                                    features_kitchen  \\\n",
              "0                                                 []   \n",
              "1  [\"Eat-in Kitchen\",\"Kitchen Island\",\"Pantry\",\"P...   \n",
              "2                                                NaN   \n",
              "\n",
              "                           features_laundry features_location  \\\n",
              "0                                       NaN               NaN   \n",
              "1  [\"In Hall\",\"Laundry Room\",\"Upper Floor\"]               NaN   \n",
              "2                                       NaN               NaN   \n",
              "\n",
              "                                        features_lot  \\\n",
              "0                                                NaN   \n",
              "1  [\"Lot: Not Available\",\"Back Yard\",\"Front Yard\"...   \n",
              "2  [\"Approximate Lot Size: 0.6900\",\"Dimensions: x...   \n",
              "\n",
              "                                    features_parking features_pool  \\\n",
              "0                                [\"Garage Attached\"]            []   \n",
              "1  [\"Attached\",\"Driveway\",\"Garage\",\"Garage Faces ...      [\"None\"]   \n",
              "2                                         [\"Garage\"]      [\"None\"]   \n",
              "\n",
              "  features_property features_property_access    features_roof  \\\n",
              "0               NaN                      NaN              NaN   \n",
              "1               NaN         [\"Paved\",\"None\"]  [\"Composition\"]   \n",
              "2               NaN         [\"Paved\",\"None\"]  [\"Composition\"]   \n",
              "\n",
              "                                    features_schools    features_sewer  \\\n",
              "0  [\"Elementary school: Kedron\",\"Junior high scho...               NaN   \n",
              "1  [\"Elementary School: Powder Springs\",\"Middle S...  [\"Public Sewer\"]   \n",
              "2  [\"Elementary School: Grayson\",\"Middle School: ...   [\"Septic Tank\"]   \n",
              "\n",
              "            features_taxes features_water  \\\n",
              "0                      NaN            NaN   \n",
              "1           [\"Year: 2020\"]     [\"Public\"]   \n",
              "2  [\"$2,924\",\"Year: 2020\"]     [\"Public\"]   \n",
              "\n",
              "                                  features_utilities  \\\n",
              "0                                                NaN   \n",
              "1  [\"Utilities available: Cable Available,Electri...   \n",
              "2     [\"Utilities available: Electricity Available\"]   \n",
              "\n",
              "                                       xf_attributes  \n",
              "0                                                 {}  \n",
              "1  {\"xf_city\":\"Powder Springs\",\"xf_roof\":[\"Compos...  \n",
              "2  {\"xf_city\":\"Grayson\",\"xf_roof\":[\"Composition\"]...  "
            ]
          },
          "metadata": {},
          "execution_count": 10
        }
      ]
    },
    {
      "cell_type": "markdown",
      "metadata": {
        "id": "HSuuuqjG9LjG"
      },
      "source": [
        "### 1.1.3 Process categorical features"
      ]
    },
    {
      "cell_type": "markdown",
      "metadata": {
        "id": "edPXGuSFp0Mu"
      },
      "source": [
        "**Transformation for features data**  \n",
        "In this data set, there are three types of property: single family home, townhouse and condo. However, there are multiple expressions for one type of property. So, we are going to transform them into one expression, which will make it easier for one-hot encoding."
      ]
    },
    {
      "cell_type": "code",
      "metadata": {
        "colab": {
          "base_uri": "https://localhost:8080/"
        },
        "id": "R1qO1Dj89PfF",
        "outputId": "e8478957-e2f6-4f43-e8cc-2e54bc826849"
      },
      "source": [
        "homes['property_type'].unique()"
      ],
      "execution_count": null,
      "outputs": [
        {
          "output_type": "execute_result",
          "data": {
            "text/plain": [
              "array(['single family home', 'Townhouse', 'Single Family Residence',\n",
              "       'Condominium', 'townhouse', 'condo'], dtype=object)"
            ]
          },
          "metadata": {},
          "execution_count": 11
        }
      ]
    },
    {
      "cell_type": "code",
      "metadata": {
        "id": "gUS91EP_p7sl"
      },
      "source": [
        "# first we need to unify expressions for the three types of property\n",
        "def unify(property):\n",
        "  type = property['property_type']\n",
        "  if type == 'Townhouse' or type == 'townhouse':\n",
        "    return 'townhouse'\n",
        "  elif type == 'single family home' or type == 'Single Family Residence':\n",
        "    return 'single_family_home'\n",
        "  elif type == 'Condominium' or type == 'condo':\n",
        "    return 'condo'\n",
        "  else:\n",
        "    return type\n",
        "\n",
        "new_homes['property_type'] = new_homes.apply(unify, axis=1)"
      ],
      "execution_count": null,
      "outputs": []
    },
    {
      "cell_type": "markdown",
      "metadata": {
        "id": "gJHoa1j-21gc"
      },
      "source": [
        "The data set we have contains much more information than it seems, a lot of features are consist of many smaller features. It's not practical to encode all the features in a short time like we are having. However, it's a good idea to first retreive all the small features and have a selection of features that we'll use later in this analysis"
      ]
    },
    {
      "cell_type": "code",
      "metadata": {
        "id": "xOFCaaw7nMSG"
      },
      "source": [
        "catagorical_feature_list = ['features_dining_room', 'features_fireplaces', 'features_fees', 'features_heating', 'features_garage', 'features_interior_features', \n",
        "                            'features_kitchen', 'features_laundry', 'features_location', \n",
        "                            'features_lot', 'features_parking', 'features_pool', 'features_property',\n",
        "                            'features_property_access', 'features_roof', 'features_schools', 'features_sewer', \n",
        "                            'features_taxes', 'features_water', 'features_utilities', 'features_house']"
      ],
      "execution_count": null,
      "outputs": []
    },
    {
      "cell_type": "code",
      "metadata": {
        "id": "YrNPCo--nHx8"
      },
      "source": [
        "# we can define a function that transforms all the data in to comma sperated form\n",
        "def feature_parse(row, variable):\n",
        "  features = row[variable]\n",
        "  if type(features) == float:\n",
        "    return features\n",
        "  else:\n",
        "    feature_lst = features.strip('[]').split(sep=',')\n",
        "    return ','.join([i.strip('\\\"') for i in feature_lst])\n",
        "\n",
        "for i in catagorical_feature_list:\n",
        "  new_homes[i] = new_homes.apply(feature_parse, axis=1, variable=i)"
      ],
      "execution_count": null,
      "outputs": []
    },
    {
      "cell_type": "markdown",
      "metadata": {
        "id": "kbfUu9zA_kFj"
      },
      "source": [
        "Due to limited space and time, I selected two variables to demonstrate. We can see more in the visualization section"
      ]
    },
    {
      "cell_type": "code",
      "metadata": {
        "colab": {
          "base_uri": "https://localhost:8080/"
        },
        "id": "UV9SqwJ48j0J",
        "outputId": "b806e21e-6b81-4a24-c93a-da8c8401c371"
      },
      "source": [
        "new_homes['features_kitchen'].str.get_dummies(sep=',').sum()"
      ],
      "execution_count": null,
      "outputs": [
        {
          "output_type": "execute_result",
          "data": {
            "text/plain": [
              "Breakfast Bar                 2819\n",
              "Breakfast Room                1472\n",
              "Cabinets Other                1023\n",
              "Cabinets Stain                1860\n",
              "Cabinets White                2368\n",
              "Country Kitchen                260\n",
              "Eat-in Kitchen                2354\n",
              "Granite Countertops            354\n",
              "Island                           1\n",
              "Keeping Room                   512\n",
              "Kitchen Island                3012\n",
              "Kitchen on Main Level            1\n",
              "Laminate Counters              439\n",
              "Other Surface Counters         375\n",
              "Pantry                        2566\n",
              "Pantry Walk-In                1519\n",
              "Quartz Countertops               1\n",
              "Second Kitchen                 267\n",
              "Solid Surface Counters        1583\n",
              "Stainless steel appliances       2\n",
              "Stone Counters                3095\n",
              "Tile Counters                   57\n",
              "View to Family Room           3824\n",
              "Wine Rack                      227\n",
              "dtype: int64"
            ]
          },
          "metadata": {},
          "execution_count": 15
        }
      ]
    },
    {
      "cell_type": "code",
      "metadata": {
        "colab": {
          "base_uri": "https://localhost:8080/"
        },
        "id": "uTl5V5C09jwQ",
        "outputId": "f0a265a5-07b1-4c20-846c-094fd8701a18"
      },
      "source": [
        "new_homes['features_dining_room'].str.get_dummies(sep=',').sum()"
      ],
      "execution_count": null,
      "outputs": [
        {
          "output_type": "execute_result",
          "data": {
            "text/plain": [
              "Attic Fan               156\n",
              "Ceiling Fan(s)         3507\n",
              "Central Air            6532\n",
              "Electric Air Filter     142\n",
              "Heat Pump               473\n",
              "Humidity Control         55\n",
              "Whole House Fan          78\n",
              "Window Unit(s)           76\n",
              "Zoned                  1648\n",
              "dtype: int64"
            ]
          },
          "metadata": {},
          "execution_count": 16
        }
      ]
    },
    {
      "cell_type": "markdown",
      "metadata": {
        "id": "5IVYkwJ9wmwh"
      },
      "source": [
        "### 1.1.4 Add target variable"
      ]
    },
    {
      "cell_type": "markdown",
      "metadata": {
        "id": "ZI1lecBkwx2L"
      },
      "source": [
        "In this data set, what we are interested in is finding the correct metrics to predict the value of a property. And **price per square foot** is a more revealing feature than the listed price of a property. So, we can calculate the unit price of a home and include it in the data set."
      ]
    },
    {
      "cell_type": "code",
      "metadata": {
        "id": "5XVQgbrpxbM9"
      },
      "source": [
        "price_p_sqft = new_homes['list_price']/new_homes['sqft']\n",
        "new_homes.insert(6,'price_p_sqft' ,price_p_sqft)\n",
        "new_homes.drop('list_price', axis=1,inplace=True)\n"
      ],
      "execution_count": null,
      "outputs": []
    },
    {
      "cell_type": "code",
      "metadata": {
        "colab": {
          "base_uri": "https://localhost:8080/",
          "height": 406
        },
        "id": "oIQmKRQO0IY9",
        "outputId": "f3f8ae49-c480-4550-a380-b60efe1644a7"
      },
      "source": [
        "new_homes.head(3)"
      ],
      "execution_count": null,
      "outputs": [
        {
          "output_type": "execute_result",
          "data": {
            "text/html": [
              "<div>\n",
              "<style scoped>\n",
              "    .dataframe tbody tr th:only-of-type {\n",
              "        vertical-align: middle;\n",
              "    }\n",
              "\n",
              "    .dataframe tbody tr th {\n",
              "        vertical-align: top;\n",
              "    }\n",
              "\n",
              "    .dataframe thead th {\n",
              "        text-align: right;\n",
              "    }\n",
              "</style>\n",
              "<table border=\"1\" class=\"dataframe\">\n",
              "  <thead>\n",
              "    <tr style=\"text-align: right;\">\n",
              "      <th></th>\n",
              "      <th>id</th>\n",
              "      <th>street</th>\n",
              "      <th>city</th>\n",
              "      <th>state</th>\n",
              "      <th>zip</th>\n",
              "      <th>county</th>\n",
              "      <th>price_p_sqft</th>\n",
              "      <th>beds</th>\n",
              "      <th>bathrooms</th>\n",
              "      <th>description</th>\n",
              "      <th>listing_date</th>\n",
              "      <th>sqft</th>\n",
              "      <th>lotsize_sqft</th>\n",
              "      <th>property_type</th>\n",
              "      <th>school_district</th>\n",
              "      <th>subdivision</th>\n",
              "      <th>lat</th>\n",
              "      <th>lng</th>\n",
              "      <th>year_built</th>\n",
              "      <th>features_dining_room</th>\n",
              "      <th>features_fireplaces</th>\n",
              "      <th>features_fees</th>\n",
              "      <th>features_garage</th>\n",
              "      <th>features_heating</th>\n",
              "      <th>features_home_owners_association</th>\n",
              "      <th>features_house</th>\n",
              "      <th>features_interior_features</th>\n",
              "      <th>features_kitchen</th>\n",
              "      <th>features_laundry</th>\n",
              "      <th>features_location</th>\n",
              "      <th>features_lot</th>\n",
              "      <th>features_parking</th>\n",
              "      <th>features_pool</th>\n",
              "      <th>features_property</th>\n",
              "      <th>features_property_access</th>\n",
              "      <th>features_roof</th>\n",
              "      <th>features_schools</th>\n",
              "      <th>features_sewer</th>\n",
              "      <th>features_taxes</th>\n",
              "      <th>features_water</th>\n",
              "      <th>features_utilities</th>\n",
              "      <th>xf_attributes</th>\n",
              "    </tr>\n",
              "  </thead>\n",
              "  <tbody>\n",
              "    <tr>\n",
              "      <th>0</th>\n",
              "      <td>1</td>\n",
              "      <td>115 Kings Ridge Dr</td>\n",
              "      <td>Peachtree City</td>\n",
              "      <td>GA</td>\n",
              "      <td>30269</td>\n",
              "      <td>Peachtree City</td>\n",
              "      <td>144.149</td>\n",
              "      <td>4</td>\n",
              "      <td>2.000</td>\n",
              "      <td>This Peachtree City two-story home offers a pa...</td>\n",
              "      <td>2021-04-19 04:00:00+00</td>\n",
              "      <td>1880.000</td>\n",
              "      <td>13717.000</td>\n",
              "      <td>single_family_home</td>\n",
              "      <td>NaN</td>\n",
              "      <td>NaN</td>\n",
              "      <td>33.404</td>\n",
              "      <td>-84.611</td>\n",
              "      <td>1973</td>\n",
              "      <td>NaN</td>\n",
              "      <td>NaN</td>\n",
              "      <td>NaN</td>\n",
              "      <td>2 garage spaces</td>\n",
              "      <td></td>\n",
              "      <td>NaN</td>\n",
              "      <td>NaN</td>\n",
              "      <td>NaN</td>\n",
              "      <td></td>\n",
              "      <td>NaN</td>\n",
              "      <td>NaN</td>\n",
              "      <td>NaN</td>\n",
              "      <td>Garage Attached</td>\n",
              "      <td></td>\n",
              "      <td>NaN</td>\n",
              "      <td>NaN</td>\n",
              "      <td>NaN</td>\n",
              "      <td>Elementary school: Kedron,Junior high school: ...</td>\n",
              "      <td>NaN</td>\n",
              "      <td>NaN</td>\n",
              "      <td>NaN</td>\n",
              "      <td>NaN</td>\n",
              "      <td>{}</td>\n",
              "    </tr>\n",
              "    <tr>\n",
              "      <th>1</th>\n",
              "      <td>2</td>\n",
              "      <td>3729 Gardenwick Road Unit 15</td>\n",
              "      <td>Powder Springs</td>\n",
              "      <td>GA</td>\n",
              "      <td>30127</td>\n",
              "      <td>Cobb</td>\n",
              "      <td>170.994</td>\n",
              "      <td>3</td>\n",
              "      <td>2.500</td>\n",
              "      <td>Stafford, an eye-catching two-story interior u...</td>\n",
              "      <td>2021-02-15 00:00:00+00</td>\n",
              "      <td>1874.000</td>\n",
              "      <td>nan</td>\n",
              "      <td>townhouse</td>\n",
              "      <td>1</td>\n",
              "      <td>Sweetwater Landing Townhomes</td>\n",
              "      <td>33.863</td>\n",
              "      <td>-84.696</td>\n",
              "      <td>2021</td>\n",
              "      <td>Ceiling Fan(s),Central Air,Window Unit(s),Zoned</td>\n",
              "      <td>1 fireplace,Factory Built,Family Room</td>\n",
              "      <td>NaN</td>\n",
              "      <td>NaN</td>\n",
              "      <td>Electric,Zoned</td>\n",
              "      <td>[\"Association Fee: $135\",\"Association Fee Freq...</td>\n",
              "      <td>Architecture: Traditional,Built in 2021,Family...</td>\n",
              "      <td>Entrance Foyer,Double Vanity,High Ceilings 9 f...</td>\n",
              "      <td>Eat-in Kitchen,Kitchen Island,Pantry,Pantry Wa...</td>\n",
              "      <td>In Hall,Laundry Room,Upper Floor</td>\n",
              "      <td>NaN</td>\n",
              "      <td>Lot: Not Available,Back Yard,Front Yard,Landsc...</td>\n",
              "      <td>Attached,Driveway,Garage,Garage Faces Front,Ki...</td>\n",
              "      <td>None</td>\n",
              "      <td>NaN</td>\n",
              "      <td>Paved,None</td>\n",
              "      <td>Composition</td>\n",
              "      <td>Elementary School: Powder Springs,Middle Schoo...</td>\n",
              "      <td>Public Sewer</td>\n",
              "      <td>Year: 2020</td>\n",
              "      <td>Public</td>\n",
              "      <td>Utilities available: Cable Available,Electrici...</td>\n",
              "      <td>{\"xf_city\":\"Powder Springs\",\"xf_roof\":[\"Compos...</td>\n",
              "    </tr>\n",
              "    <tr>\n",
              "      <th>2</th>\n",
              "      <td>3</td>\n",
              "      <td>2117 Green Gate Place</td>\n",
              "      <td>Grayson</td>\n",
              "      <td>GA</td>\n",
              "      <td>30017</td>\n",
              "      <td>Gwinnett</td>\n",
              "      <td>177.885</td>\n",
              "      <td>3</td>\n",
              "      <td>2.000</td>\n",
              "      <td>This Grayson one-story cul-de-sac home offers ...</td>\n",
              "      <td>2021-04-19 00:00:00+00</td>\n",
              "      <td>1664.000</td>\n",
              "      <td>30056.000</td>\n",
              "      <td>single_family_home</td>\n",
              "      <td>5th</td>\n",
              "      <td>GRAYSON MEADOWS</td>\n",
              "      <td>33.900</td>\n",
              "      <td>-83.944</td>\n",
              "      <td>1996</td>\n",
              "      <td>Central Air</td>\n",
              "      <td>1 fireplace,Gas Starter,Other Room</td>\n",
              "      <td>NaN</td>\n",
              "      <td>NaN</td>\n",
              "      <td>Natural Gas</td>\n",
              "      <td>NaN</td>\n",
              "      <td>Architecture: Other,Built in 1996,Loft,Wood Si...</td>\n",
              "      <td>NaN</td>\n",
              "      <td>NaN</td>\n",
              "      <td>NaN</td>\n",
              "      <td>NaN</td>\n",
              "      <td>Approximate Lot Size: 0.6900,Dimensions: x 48,...</td>\n",
              "      <td>Garage</td>\n",
              "      <td>None</td>\n",
              "      <td>NaN</td>\n",
              "      <td>Paved,None</td>\n",
              "      <td>Composition</td>\n",
              "      <td>Elementary School: Grayson,Middle School: Bay ...</td>\n",
              "      <td>Septic Tank</td>\n",
              "      <td>$2,924,Year: 2020</td>\n",
              "      <td>Public</td>\n",
              "      <td>Utilities available: Electricity Available</td>\n",
              "      <td>{\"xf_city\":\"Grayson\",\"xf_roof\":[\"Composition\"]...</td>\n",
              "    </tr>\n",
              "  </tbody>\n",
              "</table>\n",
              "</div>"
            ],
            "text/plain": [
              "   id                        street            city state    zip  \\\n",
              "0   1            115 Kings Ridge Dr  Peachtree City    GA  30269   \n",
              "1   2  3729 Gardenwick Road Unit 15  Powder Springs    GA  30127   \n",
              "2   3         2117 Green Gate Place         Grayson    GA  30017   \n",
              "\n",
              "           county  price_p_sqft  beds  bathrooms  \\\n",
              "0  Peachtree City       144.149     4      2.000   \n",
              "1            Cobb       170.994     3      2.500   \n",
              "2        Gwinnett       177.885     3      2.000   \n",
              "\n",
              "                                         description            listing_date  \\\n",
              "0  This Peachtree City two-story home offers a pa...  2021-04-19 04:00:00+00   \n",
              "1  Stafford, an eye-catching two-story interior u...  2021-02-15 00:00:00+00   \n",
              "2  This Grayson one-story cul-de-sac home offers ...  2021-04-19 00:00:00+00   \n",
              "\n",
              "      sqft  lotsize_sqft       property_type school_district  \\\n",
              "0 1880.000     13717.000  single_family_home             NaN   \n",
              "1 1874.000           nan           townhouse               1   \n",
              "2 1664.000     30056.000  single_family_home             5th   \n",
              "\n",
              "                    subdivision    lat     lng  year_built  \\\n",
              "0                           NaN 33.404 -84.611        1973   \n",
              "1  Sweetwater Landing Townhomes 33.863 -84.696        2021   \n",
              "2               GRAYSON MEADOWS 33.900 -83.944        1996   \n",
              "\n",
              "                              features_dining_room  \\\n",
              "0                                              NaN   \n",
              "1  Ceiling Fan(s),Central Air,Window Unit(s),Zoned   \n",
              "2                                      Central Air   \n",
              "\n",
              "                     features_fireplaces features_fees  features_garage  \\\n",
              "0                                    NaN           NaN  2 garage spaces   \n",
              "1  1 fireplace,Factory Built,Family Room           NaN              NaN   \n",
              "2     1 fireplace,Gas Starter,Other Room           NaN              NaN   \n",
              "\n",
              "  features_heating                   features_home_owners_association  \\\n",
              "0                                                                 NaN   \n",
              "1   Electric,Zoned  [\"Association Fee: $135\",\"Association Fee Freq...   \n",
              "2      Natural Gas                                                NaN   \n",
              "\n",
              "                                      features_house  \\\n",
              "0                                                NaN   \n",
              "1  Architecture: Traditional,Built in 2021,Family...   \n",
              "2  Architecture: Other,Built in 1996,Loft,Wood Si...   \n",
              "\n",
              "                          features_interior_features  \\\n",
              "0                                                NaN   \n",
              "1  Entrance Foyer,Double Vanity,High Ceilings 9 f...   \n",
              "2                                                NaN   \n",
              "\n",
              "                                    features_kitchen  \\\n",
              "0                                                      \n",
              "1  Eat-in Kitchen,Kitchen Island,Pantry,Pantry Wa...   \n",
              "2                                                NaN   \n",
              "\n",
              "                   features_laundry features_location  \\\n",
              "0                               NaN               NaN   \n",
              "1  In Hall,Laundry Room,Upper Floor               NaN   \n",
              "2                               NaN               NaN   \n",
              "\n",
              "                                        features_lot  \\\n",
              "0                                                NaN   \n",
              "1  Lot: Not Available,Back Yard,Front Yard,Landsc...   \n",
              "2  Approximate Lot Size: 0.6900,Dimensions: x 48,...   \n",
              "\n",
              "                                    features_parking features_pool  \\\n",
              "0                                    Garage Attached                 \n",
              "1  Attached,Driveway,Garage,Garage Faces Front,Ki...          None   \n",
              "2                                             Garage          None   \n",
              "\n",
              "  features_property features_property_access features_roof  \\\n",
              "0               NaN                      NaN           NaN   \n",
              "1               NaN               Paved,None   Composition   \n",
              "2               NaN               Paved,None   Composition   \n",
              "\n",
              "                                    features_schools features_sewer  \\\n",
              "0  Elementary school: Kedron,Junior high school: ...            NaN   \n",
              "1  Elementary School: Powder Springs,Middle Schoo...   Public Sewer   \n",
              "2  Elementary School: Grayson,Middle School: Bay ...    Septic Tank   \n",
              "\n",
              "      features_taxes features_water  \\\n",
              "0                NaN            NaN   \n",
              "1         Year: 2020         Public   \n",
              "2  $2,924,Year: 2020         Public   \n",
              "\n",
              "                                  features_utilities  \\\n",
              "0                                                NaN   \n",
              "1  Utilities available: Cable Available,Electrici...   \n",
              "2         Utilities available: Electricity Available   \n",
              "\n",
              "                                       xf_attributes  \n",
              "0                                                 {}  \n",
              "1  {\"xf_city\":\"Powder Springs\",\"xf_roof\":[\"Compos...  \n",
              "2  {\"xf_city\":\"Grayson\",\"xf_roof\":[\"Composition\"]...  "
            ]
          },
          "metadata": {},
          "execution_count": 18
        }
      ]
    },
    {
      "cell_type": "code",
      "metadata": {
        "id": "ozZ1_wDC0foH"
      },
      "source": [
        "# check the distribution of the new variable\n",
        "new_homes['price_p_sqft'].describe()\n",
        "\n",
        "# drop the outliers\n",
        "new_homes.drop([598, 6682, 3387, 3601, 1663], inplace=True)\n",
        "new_homes.drop([2885, 1422], inplace=True)"
      ],
      "execution_count": null,
      "outputs": []
    },
    {
      "cell_type": "markdown",
      "metadata": {
        "id": "o5-BIeOIIoV5"
      },
      "source": [
        "## 1.2 Data visualization"
      ]
    },
    {
      "cell_type": "markdown",
      "metadata": {
        "id": "jpYrn_rN-t8Y"
      },
      "source": [
        "### 1.2.1 Numerical data visualization"
      ]
    },
    {
      "cell_type": "markdown",
      "metadata": {
        "id": "AsqH4zkFUo5V"
      },
      "source": [
        "From the correlation heatmap, we can see that the number of bedroom, bathroom, and the size of the house are very positively correlated with each other. This result is fairly intuitive and anticipated. The lotsize, however, does not seem to have a stong correlation with any of them. Price_p_sqft seems to have a weak correlation with all of the numerical variables, except the number of bathrooms."
      ]
    },
    {
      "cell_type": "code",
      "metadata": {
        "colab": {
          "base_uri": "https://localhost:8080/",
          "height": 337
        },
        "id": "y9DG88ckPWau",
        "outputId": "a8b66e85-26a9-49d4-d558-6963228c934e"
      },
      "source": [
        "# correlation between nmerical variables\n",
        "num_homes = new_homes[['price_p_sqft', 'bathrooms', 'beds', 'sqft', 'lotsize_sqft', 'lat', 'lng', 'year_built']]\n",
        "corr = num_homes.corr()\n",
        "sb.heatmap(corr, cmap='flare')"
      ],
      "execution_count": null,
      "outputs": [
        {
          "output_type": "execute_result",
          "data": {
            "text/plain": [
              "<matplotlib.axes._subplots.AxesSubplot at 0x7f9886b364d0>"
            ]
          },
          "metadata": {},
          "execution_count": 20
        },
        {
          "output_type": "display_data",
          "data": {
            "image/png": "[encoded data removed]",
            "text/plain": [
              "<Figure size 432x288 with 2 Axes>"
            ]
          },
          "metadata": {
            "needs_background": "light"
          }
        }
      ]
    },
    {
      "cell_type": "markdown",
      "metadata": {
        "id": "EWEt9O4sMDWU"
      },
      "source": [
        "The scatter plot **does not** show a positive relationship between square footage of the property and its price. On contrary, some of the highest per square foot price appear where the square footage is relatively small."
      ]
    },
    {
      "cell_type": "code",
      "metadata": {
        "colab": {
          "base_uri": "https://localhost:8080/",
          "height": 295
        },
        "id": "959Io5iE-8fO",
        "outputId": "7bf3b35b-4740-4f0c-de3a-d1d0b71fec02"
      },
      "source": [
        "# scatter plot of home price and home surface area\n",
        "plt.scatter(new_homes['sqft'], new_homes['price_p_sqft'], c='g', alpha=0.25)\n",
        "plt.title('Price Per Square Foot vs. Square Footage')\n",
        "plt.xlabel('sqft')\n",
        "plt.ylabel('price_p_sqft')\n",
        "plt.show()"
      ],
      "execution_count": null,
      "outputs": [
        {
          "output_type": "display_data",
          "data": {
            "image/png": "[encoded data removed]",
            "text/plain": [
              "<Figure size 432x288 with 1 Axes>"
            ]
          },
          "metadata": {
            "needs_background": "light"
          }
        }
      ]
    },
    {
      "cell_type": "markdown",
      "metadata": {
        "id": "grrcPIxhChBZ"
      },
      "source": [
        "Similar to previous plot, the price of property does not have a significant linear relationship with number of bedrooms. The highest per footage price appears in mid-size properties."
      ]
    },
    {
      "cell_type": "code",
      "metadata": {
        "colab": {
          "base_uri": "https://localhost:8080/",
          "height": 295
        },
        "id": "4jod1bo8NEgg",
        "outputId": "b98be57a-a764-4b57-f667-94ba7bf5f55c"
      },
      "source": [
        "# plot the relationship between number of bedrooms and price per square foot.\n",
        "plt.scatter(new_homes['beds'], new_homes['price_p_sqft'], c='b', alpha=0.25)\n",
        "plt.title('Price Per Square Foot vs. Number of Bedrooms')\n",
        "plt.xlabel('beds')\n",
        "plt.ylabel('price_p_sqft')\n",
        "plt.show()"
      ],
      "execution_count": null,
      "outputs": [
        {
          "output_type": "display_data",
          "data": {
            "image/png": "[encoded data removed]",
            "text/plain": [
              "<Figure size 432x288 with 1 Axes>"
            ]
          },
          "metadata": {
            "needs_background": "light"
          }
        }
      ]
    },
    {
      "cell_type": "markdown",
      "metadata": {
        "id": "BiL7aMEhMzQA"
      },
      "source": [
        "There's no obvious relationship between number of bathrooms and house price. The houses with 2 to 5 bathrooms tend to have higher unit price."
      ]
    },
    {
      "cell_type": "code",
      "metadata": {
        "colab": {
          "base_uri": "https://localhost:8080/",
          "height": 279
        },
        "id": "OIF5wZMXLjgP",
        "outputId": "ed063c32-22d8-4818-cb0c-93bc49be093c"
      },
      "source": [
        "# use scatter plot to plot the reltionship between number of bathrooms and home price\n",
        "sb.stripplot(x='bathrooms', y='price_p_sqft', data=new_homes, jitter=True)\n",
        "plt.show()"
      ],
      "execution_count": null,
      "outputs": [
        {
          "output_type": "display_data",
          "data": {
            "image/png": "[encoded data removed]",
            "text/plain": [
              "<Figure size 432x288 with 1 Axes>"
            ]
          },
          "metadata": {
            "needs_background": "light"
          }
        }
      ]
    },
    {
      "cell_type": "markdown",
      "metadata": {
        "id": "Gch9FHALGU28"
      },
      "source": [
        "### 1.2.2 Categorical data visualzation"
      ]
    },
    {
      "cell_type": "markdown",
      "metadata": {
        "id": "AkC2f6Y-TER8"
      },
      "source": [
        "The strip plot below shows that townhouses have the lowest per footage price, while the price for single family houses and condos are roughly the same. However, the price for single family houses is more variant, there fore there are more high price examples for single family house."
      ]
    },
    {
      "cell_type": "code",
      "metadata": {
        "colab": {
          "base_uri": "https://localhost:8080/",
          "height": 281
        },
        "id": "QSL4BzvY-5_C",
        "outputId": "9837236f-25ba-4c80-89bd-958d16bc1b7a"
      },
      "source": [
        "sb.stripplot(x='property_type', y='price_p_sqft', data=new_homes, jitter=True)\n",
        "plt.show()"
      ],
      "execution_count": null,
      "outputs": [
        {
          "output_type": "display_data",
          "data": {
            "image/png": "[encoded data removed]",
            "text/plain": [
              "<Figure size 432x288 with 1 Axes>"
            ]
          },
          "metadata": {
            "needs_background": "light"
          }
        }
      ]
    },
    {
      "cell_type": "markdown",
      "metadata": {
        "id": "ws3Gr2JJUDMr"
      },
      "source": [
        "To closer investigate the distribution of the categroical data we previously processed, we can draw bar plots indicating the distriubtion of the data.  \n",
        "The most common features as we can see are laundry room on main level, no pool, composition roof, central heating and central air for dining room."
      ]
    },
    {
      "cell_type": "code",
      "metadata": {
        "id": "VC_PFh3xHc1J"
      },
      "source": [
        "laundry = new_homes['features_laundry'].str.get_dummies(sep=',').sum()\n",
        "pool = new_homes['features_pool'].str.get_dummies(sep=',').sum()\n",
        "roof = new_homes['features_roof'].str.get_dummies(sep=',').sum()\n",
        "dining = new_homes['features_dining_room'].str.get_dummies(sep=',').sum()\n",
        "heating = new_homes['features_heating'].str.get_dummies(sep=',').sum()\n"
      ],
      "execution_count": null,
      "outputs": []
    },
    {
      "cell_type": "code",
      "metadata": {
        "colab": {
          "base_uri": "https://localhost:8080/",
          "height": 347
        },
        "id": "2KRUV6PJT2qJ",
        "outputId": "0f974a39-27f2-4d41-a46b-f02fc6f10b99"
      },
      "source": [
        "laundry.sort_values(ascending=False).plot.bar()"
      ],
      "execution_count": null,
      "outputs": [
        {
          "output_type": "execute_result",
          "data": {
            "text/plain": [
              "<matplotlib.axes._subplots.AxesSubplot at 0x7fc8cd7cdc10>"
            ]
          },
          "metadata": {},
          "execution_count": 127
        },
        {
          "output_type": "display_data",
          "data": {
            "image/png": "[encoded data removed]",
            "text/plain": [
              "<Figure size 432x288 with 1 Axes>"
            ]
          },
          "metadata": {
            "needs_background": "light"
          }
        }
      ]
    },
    {
      "cell_type": "code",
      "metadata": {
        "colab": {
          "base_uri": "https://localhost:8080/",
          "height": 372
        },
        "id": "WHwgxZuMURSg",
        "outputId": "5ddbe619-cc09-4af7-abe1-672251707d6f"
      },
      "source": [
        "pool.sort_values(ascending=False).plot.bar()"
      ],
      "execution_count": null,
      "outputs": [
        {
          "output_type": "execute_result",
          "data": {
            "text/plain": [
              "<matplotlib.axes._subplots.AxesSubplot at 0x7fc8ccbd1950>"
            ]
          },
          "metadata": {},
          "execution_count": 128
        },
        {
          "output_type": "display_data",
          "data": {
            "image/png": "[encoded data removed]",
            "text/plain": [
              "<Figure size 432x288 with 1 Axes>"
            ]
          },
          "metadata": {
            "needs_background": "light"
          }
        }
      ]
    },
    {
      "cell_type": "code",
      "metadata": {
        "colab": {
          "base_uri": "https://localhost:8080/",
          "height": 335
        },
        "id": "KjVhwAlIUVh0",
        "outputId": "bacc46a9-d8ad-4152-ef47-6339a1000d5a"
      },
      "source": [
        "roof.sort_values(ascending=False).plot.bar()"
      ],
      "execution_count": null,
      "outputs": [
        {
          "output_type": "execute_result",
          "data": {
            "text/plain": [
              "<matplotlib.axes._subplots.AxesSubplot at 0x7fc8ce5006d0>"
            ]
          },
          "metadata": {},
          "execution_count": 129
        },
        {
          "output_type": "display_data",
          "data": {
            "image/png": "[encoded data removed]",
            "text/plain": [
              "<Figure size 432x288 with 1 Axes>"
            ]
          },
          "metadata": {
            "needs_background": "light"
          }
        }
      ]
    },
    {
      "cell_type": "code",
      "metadata": {
        "colab": {
          "base_uri": "https://localhost:8080/",
          "height": 356
        },
        "id": "zlTMu2KvUcd0",
        "outputId": "bd2a63fe-dbfc-4de8-a7b9-cbf40fc81e56"
      },
      "source": [
        "heating.sort_values(ascending=False).plot.bar()"
      ],
      "execution_count": null,
      "outputs": [
        {
          "output_type": "execute_result",
          "data": {
            "text/plain": [
              "<matplotlib.axes._subplots.AxesSubplot at 0x7fc8cab373d0>"
            ]
          },
          "metadata": {},
          "execution_count": 130
        },
        {
          "output_type": "display_data",
          "data": {
            "image/png": "[encoded data removed]",
            "text/plain": [
              "<Figure size 432x288 with 1 Axes>"
            ]
          },
          "metadata": {
            "needs_background": "light"
          }
        }
      ]
    },
    {
      "cell_type": "code",
      "metadata": {
        "colab": {
          "base_uri": "https://localhost:8080/",
          "height": 359
        },
        "id": "58fLwG7HUl_M",
        "outputId": "bcefdf1b-76c1-40a4-dde0-f20749d4f898"
      },
      "source": [
        "dining.sort_values(ascending=False).plot.bar()"
      ],
      "execution_count": null,
      "outputs": [
        {
          "output_type": "execute_result",
          "data": {
            "text/plain": [
              "<matplotlib.axes._subplots.AxesSubplot at 0x7fc8cd7b32d0>"
            ]
          },
          "metadata": {},
          "execution_count": 131
        },
        {
          "output_type": "display_data",
          "data": {
            "image/png": "[encoded data removed]",
            "text/plain": [
              "<Figure size 432x288 with 1 Axes>"
            ]
          },
          "metadata": {
            "needs_background": "light"
          }
        }
      ]
    },
    {
      "cell_type": "markdown",
      "metadata": {
        "id": "n5mHWxeGVnta"
      },
      "source": [
        "Now, let's have a closer look to the distribution of the build year of homes listed.  \n",
        "It's very cleat that most property listed were bult in recent years, mainly between 1990 to 2022.  \n",
        "However, there is an unusual lack of prperty built in 2010s."
      ]
    },
    {
      "cell_type": "code",
      "metadata": {
        "colab": {
          "base_uri": "https://localhost:8080/",
          "height": 295
        },
        "id": "GvOgNMtyWOcx",
        "outputId": "cd5910dd-64ca-4a67-a7e2-9a4de49b8e5b"
      },
      "source": [
        "plt.hist(new_homes['year_built'], density=False, bins=range(1800, 2022, 5), color='r', alpha=0.5, label='year_built')\n",
        "plt.title('Histograms of release_year')\n",
        "plt.xlabel('Year')\n",
        "plt.ylabel('Count')\n",
        "plt.show()"
      ],
      "execution_count": null,
      "outputs": [
        {
          "output_type": "display_data",
          "data": {
            "image/png": "[encoded data removed]",
            "text/plain": [
              "<Figure size 432x288 with 1 Axes>"
            ]
          },
          "metadata": {
            "needs_background": "light"
          }
        }
      ]
    },
    {
      "cell_type": "markdown",
      "metadata": {
        "id": "a0m0-wBbufry"
      },
      "source": [
        "### 1.2.3 Visualization with map"
      ]
    },
    {
      "cell_type": "markdown",
      "metadata": {
        "id": "GcOAalT3NQp6"
      },
      "source": [
        "Since most of the homes listed are either in or around the city of Atlanta. We can print them out on the street map of Atlanta using their longitude and latitude. Here, I used Basemap and arc gis image api to plot the map background and points representing property.  \n",
        "\n",
        "The color of the points reflects the price. Properties with higher per footage price have deeper shade of red. The size of the point reflects the square footage of the home. Larger the point is, larger is the property.  \n",
        "\n",
        "From the plot we can see that, most of the properties with high per footage value are in the city centre. There are some houses in the north country that have very high price but it's much more sparse. Generally, we can see larger properties when it's far from city centre. "
      ]
    },
    {
      "cell_type": "code",
      "metadata": {
        "id": "tnBAGI5tumLi"
      },
      "source": [
        "lat = list(new_homes['lat'])\n",
        "lng = list(new_homes['lng'])\n",
        "price = list(new_homes['price_p_sqft'])\n",
        "sqft = list(new_homes['sqft']/100)"
      ],
      "execution_count": null,
      "outputs": []
    },
    {
      "cell_type": "code",
      "metadata": {
        "colab": {
          "base_uri": "https://localhost:8080/",
          "height": 544
        },
        "id": "GAozElIgv7yM",
        "outputId": "1f938c50-4fe9-45a5-9d97-6bf3dbed785e"
      },
      "source": [
        "# 1. draw the map of state of Georgia\n",
        "fig = plt.figure(figsize=(8, 8))\n",
        "m = Basemap(projection='mill', resolution='f', \n",
        "            llcrnrlon=-85.4 ,llcrnrlat=32.8,\n",
        "        urcrnrlon=-83.0 ,urcrnrlat=35.0, epsg=4269)\n",
        "m.shadedrelief()\n",
        "m.drawcoastlines(color='gray')\n",
        "m.drawcountries(color='gray')\n",
        "m.drawstates(color='gray')\n",
        "m.arcgisimage(service=\"World_Street_Map\", xpixels = 1000, verbose= False)\n",
        "\n",
        "# 2. plot the homes on the map \n",
        "m.scatter(lng, lat, latlon=True,\n",
        "          c=price, s=sqft,\n",
        "          cmap='Reds', alpha=0.5)\n",
        "\n",
        "# 3. create colorbar and legend\n",
        "plt.colorbar(label=r'(price_per_sqft)')\n",
        "plt.clim(80, 300)\n",
        "\n",
        "# make legend with dummy points\n",
        "for a in [10, 30, 50, 80, 100]:\n",
        "    plt.scatter([], [], c='k', alpha=0.5, s=a,\n",
        "                label=str(a) + 'hundred foot$^2$')\n",
        "plt.legend(scatterpoints=1, frameon=False,\n",
        "           labelspacing=1, loc='lower left')"
      ],
      "execution_count": null,
      "outputs": [
        {
          "output_type": "stream",
          "name": "stderr",
          "text": [
            "/usr/local/lib/python3.7/dist-packages/pyproj/crs/crs.py:131: FutureWarning: '+init=<authority>:<code>' syntax is deprecated. '<authority>:<code>' is the preferred initialization method. When making the change, be mindful of axis order changes: https://pyproj4.github.io/pyproj/stable/gotchas.html#axis-order-changes-in-proj-6\n",
            "  in_crs_string = _prepare_from_proj_string(in_crs_string)\n"
          ]
        },
        {
          "output_type": "execute_result",
          "data": {
            "text/plain": [
              "<matplotlib.legend.Legend at 0x7fefa7093a90>"
            ]
          },
          "metadata": {},
          "execution_count": 41
        },
        {
          "output_type": "display_data",
          "data": {
            "image/png": "[encoded data removed]",
            "text/plain": [
              "<Figure size 576x576 with 2 Axes>"
            ]
          },
          "metadata": {
            "needs_background": "light"
          }
        }
      ]
    },
    {
      "cell_type": "markdown",
      "metadata": {
        "id": "ABmkFPFPXpJS"
      },
      "source": [
        "# Part II: Feature Processing"
      ]
    },
    {
      "cell_type": "markdown",
      "metadata": {
        "id": "MrUY4ojXYFXu"
      },
      "source": [
        "Due to the limited time and resource that we have, we are only going to select a subset of features that are provided. "
      ]
    },
    {
      "cell_type": "markdown",
      "metadata": {
        "id": "QAO6AxAtX6u9"
      },
      "source": [
        "## 2.1 Categorical features"
      ]
    },
    {
      "cell_type": "code",
      "metadata": {
        "id": "6ErmC4zFYf3f"
      },
      "source": [
        "# one-hot encode the catagorical features\n",
        "d_prop_type = pd.get_dummies(new_homes['property_type'])\n",
        "d_pool = new_homes['features_pool'].str.get_dummies(sep=',')\n",
        "d_laundry = new_homes['features_laundry'].str.get_dummies(sep=',')\n",
        "d_roof = new_homes['features_roof'].str.get_dummies(sep=',')\n",
        "d_dining = new_homes['features_dining_room'].str.get_dummies(sep=',')\n",
        "d_kitchen = new_homes['features_kitchen'].str.get_dummies(sep=',')"
      ],
      "execution_count": null,
      "outputs": []
    },
    {
      "cell_type": "markdown",
      "metadata": {
        "id": "xRgZJC7Hb3-Q"
      },
      "source": [
        "Year_built to variable"
      ]
    },
    {
      "cell_type": "code",
      "metadata": {
        "colab": {
          "base_uri": "https://localhost:8080/"
        },
        "id": "vGNu_WY0cYPS",
        "outputId": "27d13b1e-f846-4802-95d6-15512b3a679b"
      },
      "source": [
        "new_homes['year_built'].min()"
      ],
      "execution_count": null,
      "outputs": [
        {
          "output_type": "execute_result",
          "data": {
            "text/plain": [
              "1800"
            ]
          },
          "metadata": {},
          "execution_count": 43
        }
      ]
    },
    {
      "cell_type": "code",
      "metadata": {
        "colab": {
          "base_uri": "https://localhost:8080/"
        },
        "id": "SaDQWR8yb9Fi",
        "outputId": "f42e100b-1550-4603-f9b4-dd8040daea02"
      },
      "source": [
        "# check the year variable\n",
        "new_homes['year_built'].quantile([0.1,0.2,0.3,0.4,0.5,0.6,0.7,0.8,0.9])"
      ],
      "execution_count": null,
      "outputs": [
        {
          "output_type": "execute_result",
          "data": {
            "text/plain": [
              "0.100   1954.000\n",
              "0.200   1972.000\n",
              "0.300   1984.000\n",
              "0.400   1991.000\n",
              "0.500   1999.000\n",
              "0.600   2003.000\n",
              "0.700   2007.000\n",
              "0.800   2017.000\n",
              "0.900   2021.000\n",
              "Name: year_built, dtype: float64"
            ]
          },
          "metadata": {},
          "execution_count": 44
        }
      ]
    },
    {
      "cell_type": "code",
      "metadata": {
        "id": "K6ctucKMcOLo"
      },
      "source": [
        "# bin year_built and convert it into dummy variables\n",
        "bin = [1800, 1954, 1972, 1984, 1991, 1999, 2003, 2007, 2017, 2021, 2022]\n",
        "year_range = ['1800-1954', '1954-1972', '1972-1984','1984-1991', '1991-1999', '1999-2003', '2003-2007', '2007-2017', '2017-2021', '2021-2022']\n",
        "year_bin = pd.cut(new_homes['year_built'], bins=bin, labels=year_range)\n",
        "d_year = pd.get_dummies(year_bin)"
      ],
      "execution_count": null,
      "outputs": []
    },
    {
      "cell_type": "markdown",
      "metadata": {
        "id": "zJNQienjgeDg"
      },
      "source": [
        "**Transformation for ZIP code**\n",
        "Since neighbouring areas have closer ZIP codes, we can use ZIP as a categorical data."
      ]
    },
    {
      "cell_type": "code",
      "metadata": {
        "colab": {
          "base_uri": "https://localhost:8080/"
        },
        "id": "yw7IyIfVjZ-v",
        "outputId": "757d0d05-4225-4b8c-a30f-7e2c52ae1c0f"
      },
      "source": [
        "new_homes['zip'].describe()"
      ],
      "execution_count": null,
      "outputs": [
        {
          "output_type": "execute_result",
          "data": {
            "text/plain": [
              "count    8161.000\n",
              "mean    30237.109\n",
              "std       279.549\n",
              "min     22578.000\n",
              "25%     30076.000\n",
              "50%     30189.000\n",
              "75%     30324.000\n",
              "max     39854.000\n",
              "Name: zip, dtype: float64"
            ]
          },
          "metadata": {},
          "execution_count": 46
        }
      ]
    },
    {
      "cell_type": "code",
      "metadata": {
        "id": "B5NbHqb_hUXe"
      },
      "source": [
        "# bin the zip and convert it into dummy variables\n",
        "bin = list(range(30000, 32000, 50))\n",
        "bin.append(22500)\n",
        "bin.append(40000)\n",
        "bin = sorted(bin)\n",
        "year_bin = pd.cut(new_homes['zip'], bins=bin)\n",
        "d_zip = pd.get_dummies(year_bin)"
      ],
      "execution_count": null,
      "outputs": []
    },
    {
      "cell_type": "code",
      "metadata": {
        "colab": {
          "base_uri": "https://localhost:8080/",
          "height": 215
        },
        "id": "uSc5K8omk2xb",
        "outputId": "5bfd7306-261f-466a-b001-6179069c082b"
      },
      "source": [
        "# create a new data frame that contains all the dummy variables\n",
        "temp_homes = new_homes.drop(['property_type', 'features_pool', 'features_laundry', 'features_roof', \n",
        "                             'features_dining_room', 'features_interior_features', 'features_kitchen', 'zip', 'description', 'county', 'city', 'school_district',\n",
        "                             'subdivision', 'year_built', 'features_fireplaces', 'features_fees', 'features_garage', 'features_heating',\n",
        "                             'features_home_owners_association', 'features_house',  'features_location', \n",
        "                            'features_lot', 'features_parking', 'features_pool', 'features_property',\n",
        "                            'features_property_access', 'features_roof', 'features_schools', 'features_sewer', \n",
        "                            'features_taxes', 'features_water', 'features_utilities', 'xf_attributes', 'year_built', 'zip', 'listing_date', 'street', 'state'], axis=1)\n",
        "labled_homes = pd.concat([temp_homes, d_year, d_zip,d_dining, d_kitchen, d_kitchen, d_laundry, d_pool], axis=1)\n",
        "labled_homes.head(3)"
      ],
      "execution_count": null,
      "outputs": [
        {
          "output_type": "execute_result",
          "data": {
            "text/html": [
              "<div>\n",
              "<style scoped>\n",
              "    .dataframe tbody tr th:only-of-type {\n",
              "        vertical-align: middle;\n",
              "    }\n",
              "\n",
              "    .dataframe tbody tr th {\n",
              "        vertical-align: top;\n",
              "    }\n",
              "\n",
              "    .dataframe thead th {\n",
              "        text-align: right;\n",
              "    }\n",
              "</style>\n",
              "<table border=\"1\" class=\"dataframe\">\n",
              "  <thead>\n",
              "    <tr style=\"text-align: right;\">\n",
              "      <th></th>\n",
              "      <th>id</th>\n",
              "      <th>price_p_sqft</th>\n",
              "      <th>beds</th>\n",
              "      <th>bathrooms</th>\n",
              "      <th>sqft</th>\n",
              "      <th>lotsize_sqft</th>\n",
              "      <th>lat</th>\n",
              "      <th>lng</th>\n",
              "      <th>1800-1954</th>\n",
              "      <th>1954-1972</th>\n",
              "      <th>1972-1984</th>\n",
              "      <th>1984-1991</th>\n",
              "      <th>1991-1999</th>\n",
              "      <th>1999-2003</th>\n",
              "      <th>2003-2007</th>\n",
              "      <th>2007-2017</th>\n",
              "      <th>2017-2021</th>\n",
              "      <th>2021-2022</th>\n",
              "      <th>(22500, 30000]</th>\n",
              "      <th>(30000, 30050]</th>\n",
              "      <th>(30050, 30100]</th>\n",
              "      <th>(30100, 30150]</th>\n",
              "      <th>(30150, 30200]</th>\n",
              "      <th>(30200, 30250]</th>\n",
              "      <th>(30250, 30300]</th>\n",
              "      <th>(30300, 30350]</th>\n",
              "      <th>(30350, 30400]</th>\n",
              "      <th>(30400, 30450]</th>\n",
              "      <th>(30450, 30500]</th>\n",
              "      <th>(30500, 30550]</th>\n",
              "      <th>(30550, 30600]</th>\n",
              "      <th>(30600, 30650]</th>\n",
              "      <th>(30650, 30700]</th>\n",
              "      <th>(30700, 30750]</th>\n",
              "      <th>(30750, 30800]</th>\n",
              "      <th>(30800, 30850]</th>\n",
              "      <th>(30850, 30900]</th>\n",
              "      <th>(30900, 30950]</th>\n",
              "      <th>(30950, 31000]</th>\n",
              "      <th>(31000, 31050]</th>\n",
              "      <th>(31050, 31100]</th>\n",
              "      <th>(31100, 31150]</th>\n",
              "      <th>(31150, 31200]</th>\n",
              "      <th>(31200, 31250]</th>\n",
              "      <th>(31250, 31300]</th>\n",
              "      <th>(31300, 31350]</th>\n",
              "      <th>(31350, 31400]</th>\n",
              "      <th>(31400, 31450]</th>\n",
              "      <th>(31450, 31500]</th>\n",
              "      <th>(31500, 31550]</th>\n",
              "      <th>(31550, 31600]</th>\n",
              "      <th>(31600, 31650]</th>\n",
              "      <th>(31650, 31700]</th>\n",
              "      <th>(31700, 31750]</th>\n",
              "      <th>(31750, 31800]</th>\n",
              "      <th>(31800, 31850]</th>\n",
              "      <th>(31850, 31900]</th>\n",
              "      <th>(31900, 31950]</th>\n",
              "      <th>(31950, 40000]</th>\n",
              "      <th>Attic Fan</th>\n",
              "      <th>Ceiling Fan(s)</th>\n",
              "      <th>Central Air</th>\n",
              "      <th>Electric Air Filter</th>\n",
              "      <th>Heat Pump</th>\n",
              "      <th>Humidity Control</th>\n",
              "      <th>Whole House Fan</th>\n",
              "      <th>Window Unit(s)</th>\n",
              "      <th>Zoned</th>\n",
              "      <th>Breakfast Bar</th>\n",
              "      <th>Breakfast Room</th>\n",
              "      <th>Cabinets Other</th>\n",
              "      <th>Cabinets Stain</th>\n",
              "      <th>Cabinets White</th>\n",
              "      <th>Country Kitchen</th>\n",
              "      <th>Eat-in Kitchen</th>\n",
              "      <th>Granite Countertops</th>\n",
              "      <th>Island</th>\n",
              "      <th>Keeping Room</th>\n",
              "      <th>Kitchen Island</th>\n",
              "      <th>Kitchen on Main Level</th>\n",
              "      <th>Laminate Counters</th>\n",
              "      <th>Other Surface Counters</th>\n",
              "      <th>Pantry</th>\n",
              "      <th>Pantry Walk-In</th>\n",
              "      <th>Quartz Countertops</th>\n",
              "      <th>Second Kitchen</th>\n",
              "      <th>Solid Surface Counters</th>\n",
              "      <th>Stainless steel appliances</th>\n",
              "      <th>Stone Counters</th>\n",
              "      <th>Tile Counters</th>\n",
              "      <th>View to Family Room</th>\n",
              "      <th>Wine Rack</th>\n",
              "      <th>Breakfast Bar</th>\n",
              "      <th>Breakfast Room</th>\n",
              "      <th>Cabinets Other</th>\n",
              "      <th>Cabinets Stain</th>\n",
              "      <th>Cabinets White</th>\n",
              "      <th>Country Kitchen</th>\n",
              "      <th>Eat-in Kitchen</th>\n",
              "      <th>Granite Countertops</th>\n",
              "      <th>Island</th>\n",
              "      <th>Keeping Room</th>\n",
              "      <th>Kitchen Island</th>\n",
              "      <th>Kitchen on Main Level</th>\n",
              "      <th>Laminate Counters</th>\n",
              "      <th>Other Surface Counters</th>\n",
              "      <th>Pantry</th>\n",
              "      <th>Pantry Walk-In</th>\n",
              "      <th>Quartz Countertops</th>\n",
              "      <th>Second Kitchen</th>\n",
              "      <th>Solid Surface Counters</th>\n",
              "      <th>Stainless steel appliances</th>\n",
              "      <th>Stone Counters</th>\n",
              "      <th>Tile Counters</th>\n",
              "      <th>View to Family Room</th>\n",
              "      <th>Wine Rack</th>\n",
              "      <th>Common Area</th>\n",
              "      <th>In Basement</th>\n",
              "      <th>In Bathroom</th>\n",
              "      <th>In Garage</th>\n",
              "      <th>In Hall</th>\n",
              "      <th>In Kitchen</th>\n",
              "      <th>Laundry Chute</th>\n",
              "      <th>Laundry Room</th>\n",
              "      <th>Lower Level</th>\n",
              "      <th>Main Level</th>\n",
              "      <th>Mud Room</th>\n",
              "      <th>Upper Floor</th>\n",
              "      <th>Above Ground</th>\n",
              "      <th>Fiberglass</th>\n",
              "      <th>Gunite</th>\n",
              "      <th>Heated</th>\n",
              "      <th>In Ground</th>\n",
              "      <th>Indoor</th>\n",
              "      <th>None</th>\n",
              "      <th>Salt Water</th>\n",
              "      <th>Screened Enclosure</th>\n",
              "      <th>Vinyl</th>\n",
              "    </tr>\n",
              "  </thead>\n",
              "  <tbody>\n",
              "    <tr>\n",
              "      <th>0</th>\n",
              "      <td>1</td>\n",
              "      <td>144.149</td>\n",
              "      <td>4</td>\n",
              "      <td>2.000</td>\n",
              "      <td>1880.000</td>\n",
              "      <td>13717.000</td>\n",
              "      <td>33.404</td>\n",
              "      <td>-84.611</td>\n",
              "      <td>0</td>\n",
              "      <td>0</td>\n",
              "      <td>1</td>\n",
              "      <td>0</td>\n",
              "      <td>0</td>\n",
              "      <td>0</td>\n",
              "      <td>0</td>\n",
              "      <td>0</td>\n",
              "      <td>0</td>\n",
              "      <td>0</td>\n",
              "      <td>0</td>\n",
              "      <td>0</td>\n",
              "      <td>0</td>\n",
              "      <td>0</td>\n",
              "      <td>0</td>\n",
              "      <td>0</td>\n",
              "      <td>1</td>\n",
              "      <td>0</td>\n",
              "      <td>0</td>\n",
              "      <td>0</td>\n",
              "      <td>0</td>\n",
              "      <td>0</td>\n",
              "      <td>0</td>\n",
              "      <td>0</td>\n",
              "      <td>0</td>\n",
              "      <td>0</td>\n",
              "      <td>0</td>\n",
              "      <td>0</td>\n",
              "      <td>0</td>\n",
              "      <td>0</td>\n",
              "      <td>0</td>\n",
              "      <td>0</td>\n",
              "      <td>0</td>\n",
              "      <td>0</td>\n",
              "      <td>0</td>\n",
              "      <td>0</td>\n",
              "      <td>0</td>\n",
              "      <td>0</td>\n",
              "      <td>0</td>\n",
              "      <td>0</td>\n",
              "      <td>0</td>\n",
              "      <td>0</td>\n",
              "      <td>0</td>\n",
              "      <td>0</td>\n",
              "      <td>0</td>\n",
              "      <td>0</td>\n",
              "      <td>0</td>\n",
              "      <td>0</td>\n",
              "      <td>0</td>\n",
              "      <td>0</td>\n",
              "      <td>0</td>\n",
              "      <td>0</td>\n",
              "      <td>0</td>\n",
              "      <td>0</td>\n",
              "      <td>0</td>\n",
              "      <td>0</td>\n",
              "      <td>0</td>\n",
              "      <td>0</td>\n",
              "      <td>0</td>\n",
              "      <td>0</td>\n",
              "      <td>0</td>\n",
              "      <td>0</td>\n",
              "      <td>0</td>\n",
              "      <td>0</td>\n",
              "      <td>0</td>\n",
              "      <td>0</td>\n",
              "      <td>0</td>\n",
              "      <td>0</td>\n",
              "      <td>0</td>\n",
              "      <td>0</td>\n",
              "      <td>0</td>\n",
              "      <td>0</td>\n",
              "      <td>0</td>\n",
              "      <td>0</td>\n",
              "      <td>0</td>\n",
              "      <td>0</td>\n",
              "      <td>0</td>\n",
              "      <td>0</td>\n",
              "      <td>0</td>\n",
              "      <td>0</td>\n",
              "      <td>0</td>\n",
              "      <td>0</td>\n",
              "      <td>0</td>\n",
              "      <td>0</td>\n",
              "      <td>0</td>\n",
              "      <td>0</td>\n",
              "      <td>0</td>\n",
              "      <td>0</td>\n",
              "      <td>0</td>\n",
              "      <td>0</td>\n",
              "      <td>0</td>\n",
              "      <td>0</td>\n",
              "      <td>0</td>\n",
              "      <td>0</td>\n",
              "      <td>0</td>\n",
              "      <td>0</td>\n",
              "      <td>0</td>\n",
              "      <td>0</td>\n",
              "      <td>0</td>\n",
              "      <td>0</td>\n",
              "      <td>0</td>\n",
              "      <td>0</td>\n",
              "      <td>0</td>\n",
              "      <td>0</td>\n",
              "      <td>0</td>\n",
              "      <td>0</td>\n",
              "      <td>0</td>\n",
              "      <td>0</td>\n",
              "      <td>0</td>\n",
              "      <td>0</td>\n",
              "      <td>0</td>\n",
              "      <td>0</td>\n",
              "      <td>0</td>\n",
              "      <td>0</td>\n",
              "      <td>0</td>\n",
              "      <td>0</td>\n",
              "      <td>0</td>\n",
              "      <td>0</td>\n",
              "      <td>0</td>\n",
              "      <td>0</td>\n",
              "      <td>0</td>\n",
              "      <td>0</td>\n",
              "      <td>0</td>\n",
              "      <td>0</td>\n",
              "      <td>0</td>\n",
              "      <td>0</td>\n",
              "      <td>0</td>\n",
              "      <td>0</td>\n",
              "      <td>0</td>\n",
              "      <td>0</td>\n",
              "    </tr>\n",
              "    <tr>\n",
              "      <th>1</th>\n",
              "      <td>2</td>\n",
              "      <td>170.994</td>\n",
              "      <td>3</td>\n",
              "      <td>2.500</td>\n",
              "      <td>1874.000</td>\n",
              "      <td>nan</td>\n",
              "      <td>33.863</td>\n",
              "      <td>-84.696</td>\n",
              "      <td>0</td>\n",
              "      <td>0</td>\n",
              "      <td>0</td>\n",
              "      <td>0</td>\n",
              "      <td>0</td>\n",
              "      <td>0</td>\n",
              "      <td>0</td>\n",
              "      <td>0</td>\n",
              "      <td>1</td>\n",
              "      <td>0</td>\n",
              "      <td>0</td>\n",
              "      <td>0</td>\n",
              "      <td>0</td>\n",
              "      <td>1</td>\n",
              "      <td>0</td>\n",
              "      <td>0</td>\n",
              "      <td>0</td>\n",
              "      <td>0</td>\n",
              "      <td>0</td>\n",
              "      <td>0</td>\n",
              "      <td>0</td>\n",
              "      <td>0</td>\n",
              "      <td>0</td>\n",
              "      <td>0</td>\n",
              "      <td>0</td>\n",
              "      <td>0</td>\n",
              "      <td>0</td>\n",
              "      <td>0</td>\n",
              "      <td>0</td>\n",
              "      <td>0</td>\n",
              "      <td>0</td>\n",
              "      <td>0</td>\n",
              "      <td>0</td>\n",
              "      <td>0</td>\n",
              "      <td>0</td>\n",
              "      <td>0</td>\n",
              "      <td>0</td>\n",
              "      <td>0</td>\n",
              "      <td>0</td>\n",
              "      <td>0</td>\n",
              "      <td>0</td>\n",
              "      <td>0</td>\n",
              "      <td>0</td>\n",
              "      <td>0</td>\n",
              "      <td>0</td>\n",
              "      <td>0</td>\n",
              "      <td>0</td>\n",
              "      <td>0</td>\n",
              "      <td>0</td>\n",
              "      <td>0</td>\n",
              "      <td>0</td>\n",
              "      <td>0</td>\n",
              "      <td>1</td>\n",
              "      <td>1</td>\n",
              "      <td>0</td>\n",
              "      <td>0</td>\n",
              "      <td>0</td>\n",
              "      <td>0</td>\n",
              "      <td>1</td>\n",
              "      <td>1</td>\n",
              "      <td>0</td>\n",
              "      <td>0</td>\n",
              "      <td>0</td>\n",
              "      <td>0</td>\n",
              "      <td>0</td>\n",
              "      <td>0</td>\n",
              "      <td>1</td>\n",
              "      <td>0</td>\n",
              "      <td>0</td>\n",
              "      <td>0</td>\n",
              "      <td>1</td>\n",
              "      <td>0</td>\n",
              "      <td>0</td>\n",
              "      <td>0</td>\n",
              "      <td>1</td>\n",
              "      <td>1</td>\n",
              "      <td>0</td>\n",
              "      <td>0</td>\n",
              "      <td>1</td>\n",
              "      <td>0</td>\n",
              "      <td>0</td>\n",
              "      <td>0</td>\n",
              "      <td>1</td>\n",
              "      <td>0</td>\n",
              "      <td>0</td>\n",
              "      <td>0</td>\n",
              "      <td>0</td>\n",
              "      <td>0</td>\n",
              "      <td>0</td>\n",
              "      <td>0</td>\n",
              "      <td>1</td>\n",
              "      <td>0</td>\n",
              "      <td>0</td>\n",
              "      <td>0</td>\n",
              "      <td>1</td>\n",
              "      <td>0</td>\n",
              "      <td>0</td>\n",
              "      <td>0</td>\n",
              "      <td>1</td>\n",
              "      <td>1</td>\n",
              "      <td>0</td>\n",
              "      <td>0</td>\n",
              "      <td>1</td>\n",
              "      <td>0</td>\n",
              "      <td>0</td>\n",
              "      <td>0</td>\n",
              "      <td>1</td>\n",
              "      <td>0</td>\n",
              "      <td>0</td>\n",
              "      <td>0</td>\n",
              "      <td>0</td>\n",
              "      <td>0</td>\n",
              "      <td>1</td>\n",
              "      <td>0</td>\n",
              "      <td>0</td>\n",
              "      <td>1</td>\n",
              "      <td>0</td>\n",
              "      <td>0</td>\n",
              "      <td>0</td>\n",
              "      <td>1</td>\n",
              "      <td>0</td>\n",
              "      <td>0</td>\n",
              "      <td>0</td>\n",
              "      <td>0</td>\n",
              "      <td>0</td>\n",
              "      <td>0</td>\n",
              "      <td>1</td>\n",
              "      <td>0</td>\n",
              "      <td>0</td>\n",
              "      <td>0</td>\n",
              "    </tr>\n",
              "    <tr>\n",
              "      <th>2</th>\n",
              "      <td>3</td>\n",
              "      <td>177.885</td>\n",
              "      <td>3</td>\n",
              "      <td>2.000</td>\n",
              "      <td>1664.000</td>\n",
              "      <td>30056.000</td>\n",
              "      <td>33.900</td>\n",
              "      <td>-83.944</td>\n",
              "      <td>0</td>\n",
              "      <td>0</td>\n",
              "      <td>0</td>\n",
              "      <td>0</td>\n",
              "      <td>1</td>\n",
              "      <td>0</td>\n",
              "      <td>0</td>\n",
              "      <td>0</td>\n",
              "      <td>0</td>\n",
              "      <td>0</td>\n",
              "      <td>0</td>\n",
              "      <td>1</td>\n",
              "      <td>0</td>\n",
              "      <td>0</td>\n",
              "      <td>0</td>\n",
              "      <td>0</td>\n",
              "      <td>0</td>\n",
              "      <td>0</td>\n",
              "      <td>0</td>\n",
              "      <td>0</td>\n",
              "      <td>0</td>\n",
              "      <td>0</td>\n",
              "      <td>0</td>\n",
              "      <td>0</td>\n",
              "      <td>0</td>\n",
              "      <td>0</td>\n",
              "      <td>0</td>\n",
              "      <td>0</td>\n",
              "      <td>0</td>\n",
              "      <td>0</td>\n",
              "      <td>0</td>\n",
              "      <td>0</td>\n",
              "      <td>0</td>\n",
              "      <td>0</td>\n",
              "      <td>0</td>\n",
              "      <td>0</td>\n",
              "      <td>0</td>\n",
              "      <td>0</td>\n",
              "      <td>0</td>\n",
              "      <td>0</td>\n",
              "      <td>0</td>\n",
              "      <td>0</td>\n",
              "      <td>0</td>\n",
              "      <td>0</td>\n",
              "      <td>0</td>\n",
              "      <td>0</td>\n",
              "      <td>0</td>\n",
              "      <td>0</td>\n",
              "      <td>0</td>\n",
              "      <td>0</td>\n",
              "      <td>0</td>\n",
              "      <td>0</td>\n",
              "      <td>0</td>\n",
              "      <td>1</td>\n",
              "      <td>0</td>\n",
              "      <td>0</td>\n",
              "      <td>0</td>\n",
              "      <td>0</td>\n",
              "      <td>0</td>\n",
              "      <td>0</td>\n",
              "      <td>0</td>\n",
              "      <td>0</td>\n",
              "      <td>0</td>\n",
              "      <td>0</td>\n",
              "      <td>0</td>\n",
              "      <td>0</td>\n",
              "      <td>0</td>\n",
              "      <td>0</td>\n",
              "      <td>0</td>\n",
              "      <td>0</td>\n",
              "      <td>0</td>\n",
              "      <td>0</td>\n",
              "      <td>0</td>\n",
              "      <td>0</td>\n",
              "      <td>0</td>\n",
              "      <td>0</td>\n",
              "      <td>0</td>\n",
              "      <td>0</td>\n",
              "      <td>0</td>\n",
              "      <td>0</td>\n",
              "      <td>0</td>\n",
              "      <td>0</td>\n",
              "      <td>0</td>\n",
              "      <td>0</td>\n",
              "      <td>0</td>\n",
              "      <td>0</td>\n",
              "      <td>0</td>\n",
              "      <td>0</td>\n",
              "      <td>0</td>\n",
              "      <td>0</td>\n",
              "      <td>0</td>\n",
              "      <td>0</td>\n",
              "      <td>0</td>\n",
              "      <td>0</td>\n",
              "      <td>0</td>\n",
              "      <td>0</td>\n",
              "      <td>0</td>\n",
              "      <td>0</td>\n",
              "      <td>0</td>\n",
              "      <td>0</td>\n",
              "      <td>0</td>\n",
              "      <td>0</td>\n",
              "      <td>0</td>\n",
              "      <td>0</td>\n",
              "      <td>0</td>\n",
              "      <td>0</td>\n",
              "      <td>0</td>\n",
              "      <td>0</td>\n",
              "      <td>0</td>\n",
              "      <td>0</td>\n",
              "      <td>0</td>\n",
              "      <td>0</td>\n",
              "      <td>0</td>\n",
              "      <td>0</td>\n",
              "      <td>0</td>\n",
              "      <td>0</td>\n",
              "      <td>0</td>\n",
              "      <td>0</td>\n",
              "      <td>0</td>\n",
              "      <td>0</td>\n",
              "      <td>0</td>\n",
              "      <td>0</td>\n",
              "      <td>0</td>\n",
              "      <td>0</td>\n",
              "      <td>0</td>\n",
              "      <td>0</td>\n",
              "      <td>1</td>\n",
              "      <td>0</td>\n",
              "      <td>0</td>\n",
              "      <td>0</td>\n",
              "    </tr>\n",
              "  </tbody>\n",
              "</table>\n",
              "</div>"
            ],
            "text/plain": [
              "   id  price_p_sqft  beds  bathrooms     sqft  lotsize_sqft    lat     lng  \\\n",
              "0   1       144.149     4      2.000 1880.000     13717.000 33.404 -84.611   \n",
              "1   2       170.994     3      2.500 1874.000           nan 33.863 -84.696   \n",
              "2   3       177.885     3      2.000 1664.000     30056.000 33.900 -83.944   \n",
              "\n",
              "   1800-1954  1954-1972  1972-1984  1984-1991  1991-1999  1999-2003  \\\n",
              "0          0          0          1          0          0          0   \n",
              "1          0          0          0          0          0          0   \n",
              "2          0          0          0          0          1          0   \n",
              "\n",
              "   2003-2007  2007-2017  2017-2021  2021-2022  (22500, 30000]  (30000, 30050]  \\\n",
              "0          0          0          0          0               0               0   \n",
              "1          0          0          1          0               0               0   \n",
              "2          0          0          0          0               0               1   \n",
              "\n",
              "   (30050, 30100]  (30100, 30150]  (30150, 30200]  (30200, 30250]  \\\n",
              "0               0               0               0               0   \n",
              "1               0               1               0               0   \n",
              "2               0               0               0               0   \n",
              "\n",
              "   (30250, 30300]  (30300, 30350]  (30350, 30400]  (30400, 30450]  \\\n",
              "0               1               0               0               0   \n",
              "1               0               0               0               0   \n",
              "2               0               0               0               0   \n",
              "\n",
              "   (30450, 30500]  (30500, 30550]  (30550, 30600]  (30600, 30650]  \\\n",
              "0               0               0               0               0   \n",
              "1               0               0               0               0   \n",
              "2               0               0               0               0   \n",
              "\n",
              "   (30650, 30700]  (30700, 30750]  (30750, 30800]  (30800, 30850]  \\\n",
              "0               0               0               0               0   \n",
              "1               0               0               0               0   \n",
              "2               0               0               0               0   \n",
              "\n",
              "   (30850, 30900]  (30900, 30950]  (30950, 31000]  (31000, 31050]  \\\n",
              "0               0               0               0               0   \n",
              "1               0               0               0               0   \n",
              "2               0               0               0               0   \n",
              "\n",
              "   (31050, 31100]  (31100, 31150]  (31150, 31200]  (31200, 31250]  \\\n",
              "0               0               0               0               0   \n",
              "1               0               0               0               0   \n",
              "2               0               0               0               0   \n",
              "\n",
              "   (31250, 31300]  (31300, 31350]  (31350, 31400]  (31400, 31450]  \\\n",
              "0               0               0               0               0   \n",
              "1               0               0               0               0   \n",
              "2               0               0               0               0   \n",
              "\n",
              "   (31450, 31500]  (31500, 31550]  (31550, 31600]  (31600, 31650]  \\\n",
              "0               0               0               0               0   \n",
              "1               0               0               0               0   \n",
              "2               0               0               0               0   \n",
              "\n",
              "   (31650, 31700]  (31700, 31750]  (31750, 31800]  (31800, 31850]  \\\n",
              "0               0               0               0               0   \n",
              "1               0               0               0               0   \n",
              "2               0               0               0               0   \n",
              "\n",
              "   (31850, 31900]  (31900, 31950]  (31950, 40000]  Attic Fan  Ceiling Fan(s)  \\\n",
              "0               0               0               0          0               0   \n",
              "1               0               0               0          0               1   \n",
              "2               0               0               0          0               0   \n",
              "\n",
              "   Central Air  Electric Air Filter  Heat Pump  Humidity Control  \\\n",
              "0            0                    0          0                 0   \n",
              "1            1                    0          0                 0   \n",
              "2            1                    0          0                 0   \n",
              "\n",
              "   Whole House Fan  Window Unit(s)  Zoned  Breakfast Bar  Breakfast Room  \\\n",
              "0                0               0      0              0               0   \n",
              "1                0               1      1              0               0   \n",
              "2                0               0      0              0               0   \n",
              "\n",
              "   Cabinets Other  Cabinets Stain  Cabinets White  Country Kitchen  \\\n",
              "0               0               0               0                0   \n",
              "1               0               0               0                0   \n",
              "2               0               0               0                0   \n",
              "\n",
              "   Eat-in Kitchen  Granite Countertops  Island  Keeping Room  Kitchen Island  \\\n",
              "0               0                    0       0             0               0   \n",
              "1               1                    0       0             0               1   \n",
              "2               0                    0       0             0               0   \n",
              "\n",
              "   Kitchen on Main Level  Laminate Counters  Other Surface Counters  Pantry  \\\n",
              "0                      0                  0                       0       0   \n",
              "1                      0                  0                       0       1   \n",
              "2                      0                  0                       0       0   \n",
              "\n",
              "   Pantry Walk-In  Quartz Countertops  Second Kitchen  Solid Surface Counters  \\\n",
              "0               0                   0               0                       0   \n",
              "1               1                   0               0                       1   \n",
              "2               0                   0               0                       0   \n",
              "\n",
              "   Stainless steel appliances  Stone Counters  Tile Counters  \\\n",
              "0                           0               0              0   \n",
              "1                           0               0              0   \n",
              "2                           0               0              0   \n",
              "\n",
              "   View to Family Room  Wine Rack  Breakfast Bar  Breakfast Room  \\\n",
              "0                    0          0              0               0   \n",
              "1                    1          0              0               0   \n",
              "2                    0          0              0               0   \n",
              "\n",
              "   Cabinets Other  Cabinets Stain  Cabinets White  Country Kitchen  \\\n",
              "0               0               0               0                0   \n",
              "1               0               0               0                0   \n",
              "2               0               0               0                0   \n",
              "\n",
              "   Eat-in Kitchen  Granite Countertops  Island  Keeping Room  Kitchen Island  \\\n",
              "0               0                    0       0             0               0   \n",
              "1               1                    0       0             0               1   \n",
              "2               0                    0       0             0               0   \n",
              "\n",
              "   Kitchen on Main Level  Laminate Counters  Other Surface Counters  Pantry  \\\n",
              "0                      0                  0                       0       0   \n",
              "1                      0                  0                       0       1   \n",
              "2                      0                  0                       0       0   \n",
              "\n",
              "   Pantry Walk-In  Quartz Countertops  Second Kitchen  Solid Surface Counters  \\\n",
              "0               0                   0               0                       0   \n",
              "1               1                   0               0                       1   \n",
              "2               0                   0               0                       0   \n",
              "\n",
              "   Stainless steel appliances  Stone Counters  Tile Counters  \\\n",
              "0                           0               0              0   \n",
              "1                           0               0              0   \n",
              "2                           0               0              0   \n",
              "\n",
              "   View to Family Room  Wine Rack  Common Area  In Basement  In Bathroom  \\\n",
              "0                    0          0            0            0            0   \n",
              "1                    1          0            0            0            0   \n",
              "2                    0          0            0            0            0   \n",
              "\n",
              "   In Garage  In Hall  In Kitchen  Laundry Chute  Laundry Room  Lower Level  \\\n",
              "0          0        0           0              0             0            0   \n",
              "1          0        1           0              0             1            0   \n",
              "2          0        0           0              0             0            0   \n",
              "\n",
              "   Main Level  Mud Room  Upper Floor  Above Ground  Fiberglass  Gunite  \\\n",
              "0           0         0            0             0           0       0   \n",
              "1           0         0            1             0           0       0   \n",
              "2           0         0            0             0           0       0   \n",
              "\n",
              "   Heated  In Ground  Indoor  None  Salt Water  Screened Enclosure  Vinyl  \n",
              "0       0          0       0     0           0                   0      0  \n",
              "1       0          0       0     1           0                   0      0  \n",
              "2       0          0       0     1           0                   0      0  "
            ]
          },
          "metadata": {},
          "execution_count": 49
        }
      ]
    },
    {
      "cell_type": "markdown",
      "metadata": {
        "id": "IhuHhIq6oCxr"
      },
      "source": [
        "## 2.2 Missing values"
      ]
    },
    {
      "cell_type": "code",
      "metadata": {
        "colab": {
          "base_uri": "https://localhost:8080/"
        },
        "id": "nphP8FPkoP7W",
        "outputId": "876b8c7d-a194-42bb-e381-4314fdbb507c"
      },
      "source": [
        "# since most of our varaibles are categorical, wo don't have too many missing values except in sqft and lotsize_sqft\n",
        "labled_homes.isna().sum()"
      ],
      "execution_count": null,
      "outputs": [
        {
          "output_type": "execute_result",
          "data": {
            "text/plain": [
              "id                              0\n",
              "price_p_sqft                  339\n",
              "beds                            0\n",
              "bathrooms                       0\n",
              "sqft                          339\n",
              "lotsize_sqft                  916\n",
              "lat                             0\n",
              "lng                             0\n",
              "1800-1954                       0\n",
              "1954-1972                       0\n",
              "1972-1984                       0\n",
              "1984-1991                       0\n",
              "1991-1999                       0\n",
              "1999-2003                       0\n",
              "2003-2007                       0\n",
              "2007-2017                       0\n",
              "2017-2021                       0\n",
              "2021-2022                       0\n",
              "(22500, 30000]                  0\n",
              "(30000, 30050]                  0\n",
              "(30050, 30100]                  0\n",
              "(30100, 30150]                  0\n",
              "(30150, 30200]                  0\n",
              "(30200, 30250]                  0\n",
              "(30250, 30300]                  0\n",
              "(30300, 30350]                  0\n",
              "(30350, 30400]                  0\n",
              "(30400, 30450]                  0\n",
              "(30450, 30500]                  0\n",
              "(30500, 30550]                  0\n",
              "(30550, 30600]                  0\n",
              "(30600, 30650]                  0\n",
              "(30650, 30700]                  0\n",
              "(30700, 30750]                  0\n",
              "(30750, 30800]                  0\n",
              "(30800, 30850]                  0\n",
              "(30850, 30900]                  0\n",
              "(30900, 30950]                  0\n",
              "(30950, 31000]                  0\n",
              "(31000, 31050]                  0\n",
              "(31050, 31100]                  0\n",
              "(31100, 31150]                  0\n",
              "(31150, 31200]                  0\n",
              "(31200, 31250]                  0\n",
              "(31250, 31300]                  0\n",
              "(31300, 31350]                  0\n",
              "(31350, 31400]                  0\n",
              "(31400, 31450]                  0\n",
              "(31450, 31500]                  0\n",
              "(31500, 31550]                  0\n",
              "(31550, 31600]                  0\n",
              "(31600, 31650]                  0\n",
              "(31650, 31700]                  0\n",
              "(31700, 31750]                  0\n",
              "(31750, 31800]                  0\n",
              "(31800, 31850]                  0\n",
              "(31850, 31900]                  0\n",
              "(31900, 31950]                  0\n",
              "(31950, 40000]                  0\n",
              "Attic Fan                       0\n",
              "Ceiling Fan(s)                  0\n",
              "Central Air                     0\n",
              "Electric Air Filter             0\n",
              "Heat Pump                       0\n",
              "Humidity Control                0\n",
              "Whole House Fan                 0\n",
              "Window Unit(s)                  0\n",
              "Zoned                           0\n",
              "Breakfast Bar                   0\n",
              "Breakfast Room                  0\n",
              "Cabinets Other                  0\n",
              "Cabinets Stain                  0\n",
              "Cabinets White                  0\n",
              "Country Kitchen                 0\n",
              "Eat-in Kitchen                  0\n",
              "Granite Countertops             0\n",
              "Island                          0\n",
              "Keeping Room                    0\n",
              "Kitchen Island                  0\n",
              "Kitchen on Main Level           0\n",
              "Laminate Counters               0\n",
              "Other Surface Counters          0\n",
              "Pantry                          0\n",
              "Pantry Walk-In                  0\n",
              "Quartz Countertops              0\n",
              "Second Kitchen                  0\n",
              "Solid Surface Counters          0\n",
              "Stainless steel appliances      0\n",
              "Stone Counters                  0\n",
              "Tile Counters                   0\n",
              "View to Family Room             0\n",
              "Wine Rack                       0\n",
              "Breakfast Bar                   0\n",
              "Breakfast Room                  0\n",
              "Cabinets Other                  0\n",
              "Cabinets Stain                  0\n",
              "Cabinets White                  0\n",
              "Country Kitchen                 0\n",
              "Eat-in Kitchen                  0\n",
              "Granite Countertops             0\n",
              "Island                          0\n",
              "Keeping Room                    0\n",
              "Kitchen Island                  0\n",
              "Kitchen on Main Level           0\n",
              "Laminate Counters               0\n",
              "Other Surface Counters          0\n",
              "Pantry                          0\n",
              "Pantry Walk-In                  0\n",
              "Quartz Countertops              0\n",
              "Second Kitchen                  0\n",
              "Solid Surface Counters          0\n",
              "Stainless steel appliances      0\n",
              "Stone Counters                  0\n",
              "Tile Counters                   0\n",
              "View to Family Room             0\n",
              "Wine Rack                       0\n",
              "Common Area                     0\n",
              "In Basement                     0\n",
              "In Bathroom                     0\n",
              "In Garage                       0\n",
              "In Hall                         0\n",
              "In Kitchen                      0\n",
              "Laundry Chute                   0\n",
              "Laundry Room                    0\n",
              "Lower Level                     0\n",
              "Main Level                      0\n",
              "Mud Room                        0\n",
              "Upper Floor                     0\n",
              "Above Ground                    0\n",
              "Fiberglass                      0\n",
              "Gunite                          0\n",
              "Heated                          0\n",
              "In Ground                       0\n",
              "Indoor                          0\n",
              "None                            0\n",
              "Salt Water                      0\n",
              "Screened Enclosure              0\n",
              "Vinyl                           0\n",
              "dtype: int64"
            ]
          },
          "metadata": {},
          "execution_count": 50
        }
      ]
    },
    {
      "cell_type": "code",
      "metadata": {
        "colab": {
          "base_uri": "https://localhost:8080/"
        },
        "id": "bYSoWedA2WQ8",
        "outputId": "ba088a95-b4ff-4ab0-f0be-a081cf91eca0"
      },
      "source": [
        "# fill the missing values with average value of variable\n",
        "labled_homes['sqft'] = labled_homes['sqft'].fillna(labled_homes['sqft'].mean())\n",
        "labled_homes['lotsize_sqft'] = labled_homes['sqft'].fillna(labled_homes['sqft'].mean())\n",
        "labled_homes['price_p_sqft'] = labled_homes['price_p_sqft'].fillna(labled_homes['price_p_sqft'].mean())\n",
        "labled_homes.info()"
      ],
      "execution_count": null,
      "outputs": [
        {
          "output_type": "stream",
          "name": "stdout",
          "text": [
            "<class 'pandas.core.frame.DataFrame'>\n",
            "Int64Index: 8161 entries, 0 to 8167\n",
            "Columns: 138 entries, id to Vinyl\n",
            "dtypes: float64(6), int64(81), uint8(51)\n",
            "memory usage: 5.9 MB\n"
          ]
        }
      ]
    },
    {
      "cell_type": "markdown",
      "metadata": {
        "id": "OybCj_efDCr0"
      },
      "source": [
        "# Part III: Model Training"
      ]
    },
    {
      "cell_type": "markdown",
      "metadata": {
        "id": "4Y1U9z0_bUxo"
      },
      "source": [
        "To best spot real estate investment opportunity, the ability to valuate and forecast the price of a property is important. Therefore, we can try to use the data set we have to train a model that can efficiently estimate the price of a property.  \n",
        "Since it's a regression problem, we can start with traditional linear regression with regularization. After that we can try more complex tree based models."
      ]
    },
    {
      "cell_type": "code",
      "metadata": {
        "id": "30xqBk99cw1J"
      },
      "source": [
        "# before we begin, we can split the data into training set and test set\n",
        "train, test = train_test_split(labled_homes, test_size=0.15, random_state=3)\n",
        "train_x = train.drop('price_p_sqft', axis=1)\n",
        "train_y = train['price_p_sqft']\n",
        "test_x = test.drop('price_p_sqft', axis=1)\n",
        "test_y = test['price_p_sqft']"
      ],
      "execution_count": null,
      "outputs": []
    },
    {
      "cell_type": "markdown",
      "metadata": {
        "id": "IyZxdrp0a_Ea"
      },
      "source": [
        "## 3.1 Linear Method"
      ]
    },
    {
      "cell_type": "code",
      "metadata": {
        "id": "pf21xgr8ex56"
      },
      "source": [
        "# load packages\n",
        "from sklearn.linear_model import Ridge, Lasso, LinearRegression\n",
        "from sklearn.metrics import mean_squared_error, r2_score\n",
        "from math import sqrt\n",
        "\n",
        "# to find the best hyper parameter, we can use validatoin set to tune the hyperparameter\n",
        "lr_train, lr_validate = train_test_split(train, test_size=0.15, random_state = 0)\n",
        "\n",
        "lr_train_x = lr_train.drop(['price_p_sqft'], axis = 1)\n",
        "lr_validate_x = lr_validate.drop(['price_p_sqft'], axis = 1)\n",
        "lr_train_y = lr_train['price_p_sqft']\n",
        "lr_validate_y = lr_validate['price_p_sqft']\n"
      ],
      "execution_count": null,
      "outputs": []
    },
    {
      "cell_type": "markdown",
      "metadata": {
        "id": "fPPNtLYGbEju"
      },
      "source": [
        "### 3.1.1 Ridge Regression"
      ]
    },
    {
      "cell_type": "code",
      "metadata": {
        "colab": {
          "base_uri": "https://localhost:8080/",
          "height": 331
        },
        "id": "rMf6VNila97F",
        "outputId": "498af68f-585d-4c22-bf27-fc8da4682aba"
      },
      "source": [
        "alphas = np.linspace(0.01,1.3,200)\n",
        "scores = np.empty_like(alphas)\n",
        "opt_a = -float('inf')\n",
        "max_score = -float('inf')\n",
        "\n",
        "for i, a in enumerate(alphas):\n",
        "  ridge = Ridge()\n",
        "  ridge.set_params(alpha=a)\n",
        "  ridge.fit(lr_train_x, lr_train_y)\n",
        "  scores[i] = ridge.score(lr_validate_x, lr_validate_y)\n",
        "  if scores[i] > max_score:\n",
        "    max_score = scores[i]\n",
        "    opt_a = a\n",
        "    ridge_save = ridge\n",
        "\n",
        "plt.plot(alphas, scores, color='r', marker='o',markerfacecolor='r', markersize=6)\n",
        "plt.xlabel('alphas')\n",
        "plt.ylabel('scores')\n",
        "plt.grid(True)\n",
        "plt.title('score vs, alpha')\n",
        "plt.show()\n",
        "print ('The optimaized alpha and score of Ridge linear is: '), opt_a, max_score"
      ],
      "execution_count": null,
      "outputs": [
        {
          "output_type": "display_data",
          "data": {
            "image/png": "[encoded data removed]",
            "text/plain": [
              "<Figure size 432x288 with 1 Axes>"
            ]
          },
          "metadata": {
            "needs_background": "light"
          }
        },
        {
          "output_type": "stream",
          "name": "stdout",
          "text": [
            "The optimaized alpha and score of Ridge linear is: \n"
          ]
        },
        {
          "output_type": "execute_result",
          "data": {
            "text/plain": [
              "(None, 1.1897989949748744, 0.36748668459958633)"
            ]
          },
          "metadata": {},
          "execution_count": 87
        }
      ]
    },
    {
      "cell_type": "code",
      "metadata": {
        "colab": {
          "base_uri": "https://localhost:8080/"
        },
        "id": "UBjuahyO4RBV",
        "outputId": "d19ecc32-fdf5-486e-fe00-651d6a7aeb63"
      },
      "source": [
        "# fit the best ridge model with optimal alpha\n",
        "ridge_f = Ridge()\n",
        "ridge_f.set_params(alpha = opt_a)\n",
        "ridge_f.fit(train_x, train_y)"
      ],
      "execution_count": null,
      "outputs": [
        {
          "output_type": "execute_result",
          "data": {
            "text/plain": [
              "Ridge(alpha=1.1897989949748744, copy_X=True, fit_intercept=True, max_iter=None,\n",
              "      normalize=False, random_state=None, solver='auto', tol=0.001)"
            ]
          },
          "metadata": {},
          "execution_count": 88
        }
      ]
    },
    {
      "cell_type": "markdown",
      "metadata": {
        "id": "zZ0W9e5nbJXE"
      },
      "source": [
        "### 3.1.2 LASSO"
      ]
    },
    {
      "cell_type": "code",
      "metadata": {
        "colab": {
          "base_uri": "https://localhost:8080/",
          "height": 387
        },
        "id": "KhvHyvTInaKi",
        "outputId": "6361b105-c06f-47d3-dc4a-3bc3fc9505c2"
      },
      "source": [
        "alphas = np.linspace(0.0001,0.04,200)\n",
        "scores = np.empty_like(alphas)\n",
        "opt_a = -float('inf')\n",
        "max_score = -float('inf')\n",
        "\n",
        "for i, a in enumerate(alphas):\n",
        "  lasso = Lasso(max_iter=10000, tol=0.001)\n",
        "  lasso.set_params(alpha=a)\n",
        "  lasso.fit(lr_train_x, lr_train_y)\n",
        "  scores[i] = lasso.score(lr_validate_x, lr_validate_y)\n",
        "  if scores[i] > max_score:\n",
        "    max_score = scores[i]\n",
        "    opt_a = a\n",
        "    lasso_save = ridge\n",
        "\n",
        "plt.plot(alphas, scores, color='b', marker='o',markerfacecolor='r', markersize=6)\n",
        "plt.xlabel('alphas')\n",
        "plt.ylabel('scores')\n",
        "plt.grid(True)\n",
        "plt.title('score vs, alpha')\n",
        "plt.show()\n",
        "print ('The optimaized alpha and score of Ridge linear is: '), opt_a, max_score"
      ],
      "execution_count": null,
      "outputs": [
        {
          "output_type": "stream",
          "name": "stderr",
          "text": [
            "/usr/local/lib/python3.7/dist-packages/sklearn/linear_model/_coordinate_descent.py:476: ConvergenceWarning: Objective did not converge. You might want to increase the number of iterations. Duality gap: 20840629.737451356, tolerance: 93948.72025537443\n",
            "  positive)\n"
          ]
        },
        {
          "output_type": "display_data",
          "data": {
            "image/png": "[encoded data removed]",
            "text/plain": [
              "<Figure size 432x288 with 1 Axes>"
            ]
          },
          "metadata": {
            "needs_background": "light"
          }
        },
        {
          "output_type": "stream",
          "name": "stdout",
          "text": [
            "The optimaized alpha and score of Ridge linear is: \n"
          ]
        },
        {
          "output_type": "execute_result",
          "data": {
            "text/plain": [
              "(None, 0.03278190954773869, 0.3690876882253781)"
            ]
          },
          "metadata": {},
          "execution_count": 84
        }
      ]
    },
    {
      "cell_type": "code",
      "metadata": {
        "colab": {
          "base_uri": "https://localhost:8080/"
        },
        "id": "YCT2m40O4CTL",
        "outputId": "50db5f1d-9bbf-4b33-daf2-3502987203ab"
      },
      "source": [
        "# fit the bet Lasso model with optimal alpha\n",
        "lasso_f = Lasso()\n",
        "lasso_f.set_params(alpha = opt_a)\n",
        "lasso_f.fit(train_x, train_y)"
      ],
      "execution_count": null,
      "outputs": [
        {
          "output_type": "execute_result",
          "data": {
            "text/plain": [
              "Lasso(alpha=0.03278190954773869, copy_X=True, fit_intercept=True, max_iter=1000,\n",
              "      normalize=False, positive=False, precompute=False, random_state=None,\n",
              "      selection='cyclic', tol=0.0001, warm_start=False)"
            ]
          },
          "metadata": {},
          "execution_count": 85
        }
      ]
    },
    {
      "cell_type": "markdown",
      "metadata": {
        "id": "aMIfucumcZZk"
      },
      "source": [
        "## 3.2 Tree Based Method"
      ]
    },
    {
      "cell_type": "markdown",
      "metadata": {
        "id": "1aZlHjZIclkb"
      },
      "source": [
        "### 3.2.1 Random Forest"
      ]
    },
    {
      "cell_type": "markdown",
      "metadata": {
        "id": "US0US6M1trkI"
      },
      "source": [
        "Here we use GridSearchCV to build a grid search to tune the best number of trees and the best interaction depth. As the result shows, the model with 500 estimators and interaction depth of 13 gives the best cross validation result. The validation test score is around 0.63 for this model"
      ]
    },
    {
      "cell_type": "code",
      "metadata": {
        "colab": {
          "base_uri": "https://localhost:8080/"
        },
        "id": "xiks0tDJcqis",
        "outputId": "a69d2d37-3484-465d-8557-c2441e201625"
      },
      "source": [
        "from sklearn.ensemble import RandomForestRegressor\n",
        "from sklearn.model_selection import GridSearchCV\n",
        "rf = RandomForestRegressor(random_state = 2, max_features = 'sqrt')\n",
        "param_grid = {'n_estimators':[500, 700, 800, 900], 'max_depth':[20, 21, 22, 23, 24]}\n",
        "clf = GridSearchCV(estimator=rf, param_grid=param_grid, cv=5)\n",
        "clf.fit(train_x, train_y) "
      ],
      "execution_count": null,
      "outputs": [
        {
          "output_type": "execute_result",
          "data": {
            "text/plain": [
              "GridSearchCV(cv=5, error_score=nan,\n",
              "             estimator=RandomForestRegressor(bootstrap=True, ccp_alpha=0.0,\n",
              "                                             criterion='mse', max_depth=None,\n",
              "                                             max_features='sqrt',\n",
              "                                             max_leaf_nodes=None,\n",
              "                                             max_samples=None,\n",
              "                                             min_impurity_decrease=0.0,\n",
              "                                             min_impurity_split=None,\n",
              "                                             min_samples_leaf=1,\n",
              "                                             min_samples_split=2,\n",
              "                                             min_weight_fraction_leaf=0.0,\n",
              "                                             n_estimators=100, n_jobs=None,\n",
              "                                             oob_score=False, random_state=2,\n",
              "                                             verbose=0, warm_start=False),\n",
              "             iid='deprecated', n_jobs=None,\n",
              "             param_grid={'max_depth': [20, 21, 22, 23, 24],\n",
              "                         'n_estimators': [500, 700, 800, 900]},\n",
              "             pre_dispatch='2*n_jobs', refit=True, return_train_score=False,\n",
              "             scoring=None, verbose=0)"
            ]
          },
          "metadata": {},
          "execution_count": 70
        }
      ]
    },
    {
      "cell_type": "code",
      "metadata": {
        "colab": {
          "base_uri": "https://localhost:8080/"
        },
        "id": "YkaP5OKQq1cL",
        "outputId": "d3b8bbcb-fb54-4af9-d328-e382fb61e571"
      },
      "source": [
        "clf.cv_results_"
      ],
      "execution_count": null,
      "outputs": [
        {
          "output_type": "execute_result",
          "data": {
            "text/plain": [
              "{'mean_fit_time': array([ 5.7214252 ,  8.22369661,  9.48039713, 10.4601212 ,  5.670121  ,\n",
              "         8.08058286,  8.95908642, 10.58652024,  5.92667017,  8.26288385,\n",
              "         9.4588192 , 10.30276108,  5.76131682,  8.26283617,  9.35909162,\n",
              "        10.50062475,  6.04666314,  8.3536592 ,  9.64873986, 10.75272217]),\n",
              " 'mean_score_time': array([0.24140944, 0.34615278, 0.39837589, 0.43948169, 0.25317039,\n",
              "        0.35168133, 0.40023532, 0.55755816, 0.26112452, 0.36794281,\n",
              "        0.4243166 , 0.46045156, 0.26102972, 0.37699118, 0.41751041,\n",
              "        0.4798975 , 0.2726449 , 0.37514305, 0.43717499, 0.48484406]),\n",
              " 'mean_test_score': array([0.37864479, 0.37915812, 0.37936147, 0.37952187, 0.38087812,\n",
              "        0.38035642, 0.3802643 , 0.38031024, 0.38057732, 0.37984261,\n",
              "        0.38044885, 0.38062941, 0.38203286, 0.38175675, 0.38182006,\n",
              "        0.38211886, 0.38189039, 0.38209322, 0.38191245, 0.38243005]),\n",
              " 'param_max_depth': masked_array(data=[20, 20, 20, 20, 21, 21, 21, 21, 22, 22, 22, 22, 23, 23,\n",
              "                    23, 23, 24, 24, 24, 24],\n",
              "              mask=[False, False, False, False, False, False, False, False,\n",
              "                    False, False, False, False, False, False, False, False,\n",
              "                    False, False, False, False],\n",
              "        fill_value='?',\n",
              "             dtype=object),\n",
              " 'param_n_estimators': masked_array(data=[500, 700, 800, 900, 500, 700, 800, 900, 500, 700, 800,\n",
              "                    900, 500, 700, 800, 900, 500, 700, 800, 900],\n",
              "              mask=[False, False, False, False, False, False, False, False,\n",
              "                    False, False, False, False, False, False, False, False,\n",
              "                    False, False, False, False],\n",
              "        fill_value='?',\n",
              "             dtype=object),\n",
              " 'params': [{'max_depth': 20, 'n_estimators': 500},\n",
              "  {'max_depth': 20, 'n_estimators': 700},\n",
              "  {'max_depth': 20, 'n_estimators': 800},\n",
              "  {'max_depth': 20, 'n_estimators': 900},\n",
              "  {'max_depth': 21, 'n_estimators': 500},\n",
              "  {'max_depth': 21, 'n_estimators': 700},\n",
              "  {'max_depth': 21, 'n_estimators': 800},\n",
              "  {'max_depth': 21, 'n_estimators': 900},\n",
              "  {'max_depth': 22, 'n_estimators': 500},\n",
              "  {'max_depth': 22, 'n_estimators': 700},\n",
              "  {'max_depth': 22, 'n_estimators': 800},\n",
              "  {'max_depth': 22, 'n_estimators': 900},\n",
              "  {'max_depth': 23, 'n_estimators': 500},\n",
              "  {'max_depth': 23, 'n_estimators': 700},\n",
              "  {'max_depth': 23, 'n_estimators': 800},\n",
              "  {'max_depth': 23, 'n_estimators': 900},\n",
              "  {'max_depth': 24, 'n_estimators': 500},\n",
              "  {'max_depth': 24, 'n_estimators': 700},\n",
              "  {'max_depth': 24, 'n_estimators': 800},\n",
              "  {'max_depth': 24, 'n_estimators': 900}],\n",
              " 'rank_test_score': array([20, 19, 18, 17,  9, 13, 15, 14, 11, 16, 12, 10,  4,  8,  7,  2,  6,\n",
              "         3,  5,  1], dtype=int32),\n",
              " 'split0_test_score': array([0.41339548, 0.41328172, 0.41249079, 0.41242609, 0.4152265 ,\n",
              "        0.41511758, 0.41547874, 0.41461928, 0.41757487, 0.41407332,\n",
              "        0.41470782, 0.41457618, 0.41709758, 0.41515796, 0.41476066,\n",
              "        0.4152155 , 0.41525834, 0.41474164, 0.41478306, 0.41560404]),\n",
              " 'split1_test_score': array([0.42827123, 0.42752654, 0.42818119, 0.42753617, 0.42563251,\n",
              "        0.42498584, 0.42492274, 0.4255244 , 0.42268129, 0.4219122 ,\n",
              "        0.42307481, 0.42378177, 0.4260473 , 0.42583698, 0.42634713,\n",
              "        0.42568968, 0.42901133, 0.42763827, 0.42791898, 0.42904072]),\n",
              " 'split2_test_score': array([0.33605516, 0.33659803, 0.33699808, 0.33850006, 0.34236668,\n",
              "        0.34239261, 0.3426545 , 0.34307018, 0.34135411, 0.34143163,\n",
              "        0.34195098, 0.34218873, 0.34687487, 0.34604996, 0.34588178,\n",
              "        0.34618544, 0.34382484, 0.34359503, 0.34364258, 0.34361402]),\n",
              " 'split3_test_score': array([0.29588857, 0.29784002, 0.29807188, 0.29806961, 0.30032619,\n",
              "        0.29930304, 0.29844978, 0.29951877, 0.30140644, 0.30209039,\n",
              "        0.30225392, 0.30247597, 0.29741805, 0.29819938, 0.29826522,\n",
              "        0.29993695, 0.30471395, 0.30573379, 0.30519618, 0.30545346]),\n",
              " 'split4_test_score': array([0.41961352, 0.42054427, 0.4210654 , 0.42107741, 0.4208387 ,\n",
              "        0.41998304, 0.41981576, 0.41881859, 0.41986991, 0.41970553,\n",
              "        0.42025675, 0.42012441, 0.42272649, 0.42353946, 0.4238455 ,\n",
              "        0.42356672, 0.41664348, 0.41875739, 0.41802146, 0.41843801]),\n",
              " 'std_fit_time': array([0.08147132, 0.14254617, 0.18121673, 0.27559947, 0.03870866,\n",
              "        0.20496165, 0.13544178, 0.38149965, 0.14939657, 0.31571863,\n",
              "        0.09367135, 0.20106912, 0.06156782, 0.20332131, 0.26851786,\n",
              "        0.34578552, 0.20981133, 0.16863635, 0.10919645, 0.19609812]),\n",
              " 'std_score_time': array([0.00411515, 0.0065405 , 0.01032817, 0.00668887, 0.00187045,\n",
              "        0.00468283, 0.01039766, 0.21458105, 0.00224034, 0.00613797,\n",
              "        0.00791747, 0.00424561, 0.00254491, 0.01410898, 0.00671051,\n",
              "        0.00954567, 0.00467647, 0.00905689, 0.01048996, 0.00693525]),\n",
              " 'std_test_score': array([0.05293638, 0.05223166, 0.0521973 , 0.05183085, 0.05050022,\n",
              "        0.05055946, 0.05080721, 0.05023626, 0.04998392, 0.04909471,\n",
              "        0.04933934, 0.04931533, 0.05141698, 0.0511103 , 0.05119932,\n",
              "        0.050511  , 0.04888102, 0.04857449, 0.04868451, 0.04899331])}"
            ]
          },
          "metadata": {},
          "execution_count": 71
        }
      ]
    },
    {
      "cell_type": "code",
      "metadata": {
        "colab": {
          "base_uri": "https://localhost:8080/",
          "height": 316
        },
        "id": "iilhqBsktNHt",
        "outputId": "963974a9-5c7c-4ce9-c21b-d02a72b704fc"
      },
      "source": [
        "# plot the cross validation result\n",
        "max_depth = [20, 21, 22, 23, 24]\n",
        "n_estimators = [500, 700, 800, 900]\n",
        "scores = clf.cv_results_['mean_test_score'].reshape(len(max_depth), len(n_estimators))\n",
        "plt.figure(1)\n",
        "plt.subplot(1,1,1)\n",
        "for i, j in enumerate(max_depth):\n",
        "  plt.plot(n_estimators, scores[i], '-o', label=\"max_depth is: \"+str(j))\n",
        "plt.legend(bbox_to_anchor=(1.05, 1), loc='upper left', borderaxespad=0.)\n",
        "plt.xlabel(\"n_estimators\")\n",
        "plt.ylabel(\"mean_test_score\")\n",
        "plt.show()\n",
        "print(\"The best parameter for max_depth is: \" + str(clf.best_params_['max_depth']))\n",
        "print(\"The best parameter for n_estimator is: \" + str(clf.best_params_['n_estimators']))"
      ],
      "execution_count": null,
      "outputs": [
        {
          "output_type": "display_data",
          "data": {
            "image/png": "[encoded data removed]",
            "text/plain": [
              "<Figure size 432x288 with 1 Axes>"
            ]
          },
          "metadata": {
            "needs_background": "light"
          }
        },
        {
          "output_type": "stream",
          "name": "stdout",
          "text": [
            "The best parameter for max_depth is: 24\n",
            "The best parameter for n_estimator is: 900\n"
          ]
        }
      ]
    },
    {
      "cell_type": "markdown",
      "metadata": {
        "id": "yntnaYeOhah2"
      },
      "source": [
        "### 3.2.2 Boosted trees"
      ]
    },
    {
      "cell_type": "code",
      "metadata": {
        "colab": {
          "base_uri": "https://localhost:8080/"
        },
        "id": "6PNRzcJFhgtz",
        "outputId": "4985cd62-4db2-4c64-93a3-a2fd69fe8af4"
      },
      "source": [
        "reg = GradientBoostingRegressor(random_state=0)\n",
        "bt_param_grid = {'learning_rate':[0.01, 0.1, 1], 'n_estimators':[500, 800, 1000], 'max_depth':[1, 2, 3]}\n",
        "clf_bt = GridSearchCV(reg, bt_param_grid, cv=5)\n",
        "clf_bt.fit(train_x, train_y)"
      ],
      "execution_count": null,
      "outputs": [
        {
          "output_type": "execute_result",
          "data": {
            "text/plain": [
              "GridSearchCV(cv=5, error_score=nan,\n",
              "             estimator=GradientBoostingRegressor(alpha=0.9, ccp_alpha=0.0,\n",
              "                                                 criterion='friedman_mse',\n",
              "                                                 init=None, learning_rate=0.1,\n",
              "                                                 loss='ls', max_depth=3,\n",
              "                                                 max_features=None,\n",
              "                                                 max_leaf_nodes=None,\n",
              "                                                 min_impurity_decrease=0.0,\n",
              "                                                 min_impurity_split=None,\n",
              "                                                 min_samples_leaf=1,\n",
              "                                                 min_samples_split=2,\n",
              "                                                 min_weight_fraction_leaf=0.0,\n",
              "                                                 n_estimators=100,\n",
              "                                                 n_iter_no_change=None,\n",
              "                                                 presort='deprecated',\n",
              "                                                 random_state=0, subsample=1.0,\n",
              "                                                 tol=0.0001,\n",
              "                                                 validation_fraction=0.1,\n",
              "                                                 verbose=0, warm_start=False),\n",
              "             iid='deprecated', n_jobs=None,\n",
              "             param_grid={'learning_rate': [0.01, 0.1, 1],\n",
              "                         'max_depth': [1, 2, 3],\n",
              "                         'n_estimators': [500, 800, 1000]},\n",
              "             pre_dispatch='2*n_jobs', refit=True, return_train_score=False,\n",
              "             scoring=None, verbose=0)"
            ]
          },
          "metadata": {},
          "execution_count": 96
        }
      ]
    },
    {
      "cell_type": "code",
      "metadata": {
        "colab": {
          "base_uri": "https://localhost:8080/"
        },
        "id": "2YxPK62BipPg",
        "outputId": "0818c8c0-e180-4087-e021-d4ba452d385e"
      },
      "source": [
        "clf_bt.cv_results_"
      ],
      "execution_count": null,
      "outputs": [
        {
          "output_type": "execute_result",
          "data": {
            "text/plain": [
              "{'mean_fit_time': array([ 4.15956445,  6.3855226 ,  8.1059618 ,  7.72916188, 12.25197258,\n",
              "        15.52634816, 11.5047729 , 18.35505657, 23.09376421,  4.2123034 ,\n",
              "         6.72581658,  8.49961762,  7.9660234 , 12.78141265, 15.91598649,\n",
              "        11.65989699, 18.58100543, 23.16052341,  4.23929377,  6.72841878,\n",
              "         8.4510365 ,  7.95032039, 12.61784711, 15.73477392, 11.51448689,\n",
              "        18.46439304, 22.96143069]),\n",
              " 'mean_score_time': array([0.00899258, 0.01151676, 0.01402431, 0.01369538, 0.01794791,\n",
              "        0.02122345, 0.01740613, 0.02385793, 0.02976041, 0.00966163,\n",
              "        0.0121778 , 0.01484103, 0.01202345, 0.01642714, 0.01887412,\n",
              "        0.01499701, 0.02018933, 0.02400179, 0.0085989 , 0.01171513,\n",
              "        0.01169724, 0.01135941, 0.01538653, 0.01821175, 0.01477847,\n",
              "        0.01982465, 0.02427449]),\n",
              " 'mean_test_score': array([ 0.2247145 ,  0.24206196,  0.25034733,  0.28878393,  0.30504491,\n",
              "         0.31108066,  0.33571531,  0.35065088,  0.35558293,  0.29612537,\n",
              "         0.30539408,  0.30895251,  0.3520922 ,  0.35901986,  0.3597908 ,\n",
              "         0.38586564,  0.38259519,  0.3796824 ,  0.30290069,  0.30222237,\n",
              "         0.30205864,  0.1167152 ,  0.09493615,  0.07973167, -0.00309016,\n",
              "        -0.01536546, -0.01746735]),\n",
              " 'param_learning_rate': masked_array(data=[0.01, 0.01, 0.01, 0.01, 0.01, 0.01, 0.01, 0.01, 0.01,\n",
              "                    0.1, 0.1, 0.1, 0.1, 0.1, 0.1, 0.1, 0.1, 0.1, 1, 1, 1,\n",
              "                    1, 1, 1, 1, 1, 1],\n",
              "              mask=[False, False, False, False, False, False, False, False,\n",
              "                    False, False, False, False, False, False, False, False,\n",
              "                    False, False, False, False, False, False, False, False,\n",
              "                    False, False, False],\n",
              "        fill_value='?',\n",
              "             dtype=object),\n",
              " 'param_max_depth': masked_array(data=[1, 1, 1, 2, 2, 2, 3, 3, 3, 1, 1, 1, 2, 2, 2, 3, 3, 3,\n",
              "                    1, 1, 1, 2, 2, 2, 3, 3, 3],\n",
              "              mask=[False, False, False, False, False, False, False, False,\n",
              "                    False, False, False, False, False, False, False, False,\n",
              "                    False, False, False, False, False, False, False, False,\n",
              "                    False, False, False],\n",
              "        fill_value='?',\n",
              "             dtype=object),\n",
              " 'param_n_estimators': masked_array(data=[500, 800, 1000, 500, 800, 1000, 500, 800, 1000, 500,\n",
              "                    800, 1000, 500, 800, 1000, 500, 800, 1000, 500, 800,\n",
              "                    1000, 500, 800, 1000, 500, 800, 1000],\n",
              "              mask=[False, False, False, False, False, False, False, False,\n",
              "                    False, False, False, False, False, False, False, False,\n",
              "                    False, False, False, False, False, False, False, False,\n",
              "                    False, False, False],\n",
              "        fill_value='?',\n",
              "             dtype=object),\n",
              " 'params': [{'learning_rate': 0.01, 'max_depth': 1, 'n_estimators': 500},\n",
              "  {'learning_rate': 0.01, 'max_depth': 1, 'n_estimators': 800},\n",
              "  {'learning_rate': 0.01, 'max_depth': 1, 'n_estimators': 1000},\n",
              "  {'learning_rate': 0.01, 'max_depth': 2, 'n_estimators': 500},\n",
              "  {'learning_rate': 0.01, 'max_depth': 2, 'n_estimators': 800},\n",
              "  {'learning_rate': 0.01, 'max_depth': 2, 'n_estimators': 1000},\n",
              "  {'learning_rate': 0.01, 'max_depth': 3, 'n_estimators': 500},\n",
              "  {'learning_rate': 0.01, 'max_depth': 3, 'n_estimators': 800},\n",
              "  {'learning_rate': 0.01, 'max_depth': 3, 'n_estimators': 1000},\n",
              "  {'learning_rate': 0.1, 'max_depth': 1, 'n_estimators': 500},\n",
              "  {'learning_rate': 0.1, 'max_depth': 1, 'n_estimators': 800},\n",
              "  {'learning_rate': 0.1, 'max_depth': 1, 'n_estimators': 1000},\n",
              "  {'learning_rate': 0.1, 'max_depth': 2, 'n_estimators': 500},\n",
              "  {'learning_rate': 0.1, 'max_depth': 2, 'n_estimators': 800},\n",
              "  {'learning_rate': 0.1, 'max_depth': 2, 'n_estimators': 1000},\n",
              "  {'learning_rate': 0.1, 'max_depth': 3, 'n_estimators': 500},\n",
              "  {'learning_rate': 0.1, 'max_depth': 3, 'n_estimators': 800},\n",
              "  {'learning_rate': 0.1, 'max_depth': 3, 'n_estimators': 1000},\n",
              "  {'learning_rate': 1, 'max_depth': 1, 'n_estimators': 500},\n",
              "  {'learning_rate': 1, 'max_depth': 1, 'n_estimators': 800},\n",
              "  {'learning_rate': 1, 'max_depth': 1, 'n_estimators': 1000},\n",
              "  {'learning_rate': 1, 'max_depth': 2, 'n_estimators': 500},\n",
              "  {'learning_rate': 1, 'max_depth': 2, 'n_estimators': 800},\n",
              "  {'learning_rate': 1, 'max_depth': 2, 'n_estimators': 1000},\n",
              "  {'learning_rate': 1, 'max_depth': 3, 'n_estimators': 500},\n",
              "  {'learning_rate': 1, 'max_depth': 3, 'n_estimators': 800},\n",
              "  {'learning_rate': 1, 'max_depth': 3, 'n_estimators': 1000}],\n",
              " 'rank_test_score': array([21, 20, 19, 18, 13, 10,  9,  8,  6, 17, 12, 11,  7,  5,  4,  1,  2,\n",
              "         3, 14, 15, 16, 22, 23, 24, 25, 26, 27], dtype=int32),\n",
              " 'split0_test_score': array([ 0.26719311,  0.28798107,  0.29720198,  0.33545792,  0.35579909,\n",
              "         0.36551517,  0.36408356,  0.38047525,  0.38345302,  0.34017956,\n",
              "         0.34512823,  0.34647988,  0.38871617,  0.40393446,  0.4070909 ,\n",
              "         0.36727666,  0.36759382,  0.37043981,  0.29771532,  0.29095164,\n",
              "         0.29409721,  0.18504526,  0.16300105,  0.15687483, -0.16670599,\n",
              "        -0.18428333, -0.18722435]),\n",
              " 'split1_test_score': array([0.24486799, 0.26465818, 0.27486371, 0.31737806, 0.33781751,\n",
              "        0.34647351, 0.37198955, 0.39153656, 0.40108978, 0.33668325,\n",
              "        0.34885178, 0.35335166, 0.41007116, 0.40998771, 0.41838643,\n",
              "        0.44177168, 0.43493776, 0.42336666, 0.34161412, 0.33616949,\n",
              "        0.33875531, 0.05105239, 0.03354013, 0.03173564, 0.15398253,\n",
              "        0.14459854, 0.14015257]),\n",
              " 'split2_test_score': array([0.1896091 , 0.20489353, 0.21232147, 0.25375795, 0.27287294,\n",
              "        0.27991573, 0.32014159, 0.33635882, 0.34207111, 0.25883876,\n",
              "        0.26865038, 0.27139979, 0.35357284, 0.37620467, 0.37302332,\n",
              "        0.42175025, 0.42380909, 0.42593808, 0.27512045, 0.28189542,\n",
              "        0.28330233, 0.27802194, 0.26152656, 0.24852572, 0.16799321,\n",
              "        0.16438549, 0.16382254]),\n",
              " 'split3_test_score': array([ 0.17610457,  0.18748279,  0.19308176,  0.22069585,  0.2305675 ,\n",
              "         0.23439783,  0.25973982,  0.27070829,  0.27569549,  0.22524797,\n",
              "         0.2360775 ,  0.24084969,  0.25852848,  0.2809849 ,  0.28681638,\n",
              "         0.30634941,  0.31300528,  0.31291506,  0.26388174,  0.26774178,\n",
              "         0.26469497,  0.11066851,  0.08077385,  0.06594159, -0.02025758,\n",
              "        -0.03714898, -0.03875082]),\n",
              " 'split4_test_score': array([ 0.24579773,  0.26529425,  0.27426774,  0.31662988,  0.32816752,\n",
              "         0.32910104,  0.36262201,  0.37417547,  0.37560522,  0.31967729,\n",
              "         0.3282625 ,  0.33268152,  0.34957236,  0.32398755,  0.31363699,\n",
              "         0.39218017,  0.37363   ,  0.36575238,  0.33617183,  0.33435352,\n",
              "         0.3294434 , -0.04121208, -0.06416084, -0.10441944, -0.15046297,\n",
              "        -0.16437902, -0.16533671]),\n",
              " 'std_fit_time': array([0.07913916, 0.03855419, 0.21039868, 0.05536577, 0.14631011,\n",
              "        0.09398836, 0.36687469, 0.04004178, 0.18643327, 0.08659445,\n",
              "        0.01872099, 0.08429703, 0.08125491, 0.08828333, 0.13907283,\n",
              "        0.05397798, 0.05189398, 0.10275914, 0.04148826, 0.0603495 ,\n",
              "        0.07878567, 0.03912773, 0.07735909, 0.06027606, 0.09891346,\n",
              "        0.11632745, 0.18374343]),\n",
              " 'std_score_time': array([0.00050867, 0.00028721, 0.00075182, 0.00035883, 0.00037593,\n",
              "        0.00062107, 0.00056796, 0.00055981, 0.00332768, 0.00035363,\n",
              "        0.00036928, 0.00155111, 0.00025504, 0.00081988, 0.00041449,\n",
              "        0.00025599, 0.00014052, 0.00042209, 0.00028766, 0.0029609 ,\n",
              "        0.00028158, 0.00017377, 0.00028275, 0.00020382, 0.00070266,\n",
              "        0.0001955 , 0.00021592]),\n",
              " 'std_test_score': array([0.03535651, 0.03877956, 0.04023409, 0.04389599, 0.04640389,\n",
              "        0.04773262, 0.04209362, 0.04406727, 0.04430142, 0.0459441 ,\n",
              "        0.04504493, 0.0447009 , 0.05189525, 0.04945115, 0.05157768,\n",
              "        0.04716237, 0.04378699, 0.04191718, 0.03139046, 0.02797836,\n",
              "        0.02795639, 0.10952448, 0.11105592, 0.11903606, 0.14333524,\n",
              "        0.14772386, 0.14754378])}"
            ]
          },
          "metadata": {},
          "execution_count": 97
        }
      ]
    },
    {
      "cell_type": "code",
      "metadata": {
        "colab": {
          "base_uri": "https://localhost:8080/"
        },
        "id": "B-tR2YkLix3o",
        "outputId": "35a71266-2544-48d7-8a3c-e354b451e666"
      },
      "source": [
        "# print the best hypr parameters\n",
        "print(\"The best parameter for max_depth is: \" + str(clf_bt.best_params_['max_depth']))\n",
        "print(\"The best parameter for n_estimator is: \" + str(clf_bt.best_params_['n_estimators']))\n",
        "print(\"The best parameter for learning_rate is: \" + str(clf_bt.best_params_['learning_rate']))"
      ],
      "execution_count": null,
      "outputs": [
        {
          "output_type": "stream",
          "name": "stdout",
          "text": [
            "The best parameter for max_depth is: 3\n",
            "The best parameter for n_estimator is: 500\n",
            "The best parameter for learning_rate is: 0.1\n"
          ]
        }
      ]
    },
    {
      "cell_type": "markdown",
      "metadata": {
        "id": "6HZ7SwCp2ZVj"
      },
      "source": [
        "# Part IV: Model Evaluation"
      ]
    },
    {
      "cell_type": "markdown",
      "metadata": {
        "id": "wh6X_Ikz5j02"
      },
      "source": [
        "## 4.1 Evaluate all models"
      ]
    },
    {
      "cell_type": "markdown",
      "metadata": {
        "id": "oWVZmA7w437d"
      },
      "source": [
        "For model evaluation, we can calculate the test MSE for the models we have got."
      ]
    },
    {
      "cell_type": "code",
      "metadata": {
        "colab": {
          "base_uri": "https://localhost:8080/"
        },
        "id": "zJVAcjd9219W",
        "outputId": "78e86219-5ba7-4782-a690-114043766660"
      },
      "source": [
        "# MSE for Ridge Regression\n",
        "pred_y = ridge_f.predict(test_x)\n",
        "ridge_score = ridge_f.score(test_x, test_y)  # here we use the stored best model we had in 3.1.1\n",
        "MSE_ridge = mean_squared_error(test_y, pred_y)\n",
        "RMSE_ridge = np.sqrt(MSE_ridge)\n",
        "print ('ridge score: ', ridge_score)\n",
        "print ('Mean square error of ridge: ', MSE_ridge)\n",
        "print ('Root mean squared error of ridge:', RMSE_ridge)"
      ],
      "execution_count": null,
      "outputs": [
        {
          "output_type": "stream",
          "name": "stdout",
          "text": [
            "ridge score:  0.2665486433209219\n",
            "Mean square error of ridge:  12230.198821284319\n",
            "Root mean squared error of ridge: 110.59022932105856\n"
          ]
        }
      ]
    },
    {
      "cell_type": "code",
      "metadata": {
        "colab": {
          "base_uri": "https://localhost:8080/"
        },
        "id": "_XdwfYrK2kfd",
        "outputId": "de24049d-02ca-4b03-e19a-8d971a7a16ee"
      },
      "source": [
        "# MSE for Lasso\n",
        "from sklearn.metrics import mean_squared_error\n",
        "pred_y = lasso_f.predict(test_x)  # here we use the stored best model we had in 3.1.2\n",
        "lasso_score = lasso_f.score(test_x, test_y)\n",
        "MSE_lasso = mean_squared_error(test_y, pred_y)\n",
        "RMSE_lasso = np.sqrt(MSE_lasso)\n",
        "print ('lasso score: ', lasso_score)\n",
        "print ('Mean square error of lasso: ', MSE_lasso)\n",
        "print ('Root mean squared error of lasso:', RMSE_lasso)"
      ],
      "execution_count": null,
      "outputs": [
        {
          "output_type": "stream",
          "name": "stdout",
          "text": [
            "lasso score:  0.26536933081831615\n",
            "Mean square error of lasso:  12249.863692373521\n",
            "Root mean squared error of lasso: 110.67910232909156\n"
          ]
        }
      ]
    },
    {
      "cell_type": "code",
      "metadata": {
        "colab": {
          "base_uri": "https://localhost:8080/"
        },
        "id": "LdIn1_8H23jB",
        "outputId": "b7de1123-98a3-4fa6-9847-9290b9d7d34c"
      },
      "source": [
        "# MSE for Random Forest\n",
        "from sklearn.ensemble import RandomForestRegressor\n",
        "df = RandomForestRegressor(n_estimators=clf.best_params_['n_estimators'], max_depth=clf.best_params_['max_depth'], max_features=\"sqrt\", random_state=2, n_jobs=-1)\n",
        "rf.fit(train_x, train_y)\n",
        "pred_y = rf.predict(test_x)\n",
        "rf_score = rf.score(test_x, test_y)\n",
        "MSE_rf = mean_squared_error(test_y, pred_y)\n",
        "RMSE_rf = np.sqrt(MSE_rf)\n",
        "print ('rf score: ', rf_score)\n",
        "print ('Mean square error of rf: ', MSE_rf)\n",
        "print ('Root mean squared error of rf:', RMSE_rf)"
      ],
      "execution_count": null,
      "outputs": [
        {
          "output_type": "stream",
          "name": "stdout",
          "text": [
            "rf score:  0.4096187554803624\n",
            "Mean square error of rf:  9844.524705122012\n",
            "Root mean squared error of rf: 99.21957823495326\n"
          ]
        }
      ]
    },
    {
      "cell_type": "code",
      "metadata": {
        "colab": {
          "base_uri": "https://localhost:8080/"
        },
        "id": "yZf6tP8dqg0F",
        "outputId": "426bd5b9-3eff-4800-b0cf-0f15b44149c9"
      },
      "source": [
        "# MSE for Random Forest\n",
        "bt = GradientBoostingRegressor(learning_rate=clf_bt.best_params_['learning_rate'], n_estimators=clf_bt.best_params_['n_estimators'],max_depth = clf_bt.best_params_['max_depth'], random_state=3 )\n",
        "bt.fit(train_x, train_y)\n",
        "pred_y = bt.predict(test_x)\n",
        "bt_score = bt.score(test_x, test_y)\n",
        "MSE_bt = mean_squared_error(test_y, pred_y)\n",
        "RMSE_bt = np.sqrt(MSE_bt)\n",
        "print ('bt score: ', bt_score)\n",
        "print ('Mean square error of bt: ', MSE_bt)\n",
        "print ('Root mean squared error of bt:', RMSE_bt)"
      ],
      "execution_count": null,
      "outputs": [
        {
          "output_type": "stream",
          "name": "stdout",
          "text": [
            "bt score:  0.3462340652083078\n",
            "Mean square error of bt:  10901.455552946383\n",
            "Root mean squared error of bt: 104.4100356907629\n"
          ]
        }
      ]
    },
    {
      "cell_type": "markdown",
      "metadata": {
        "id": "NWob5XwE2x9B"
      },
      "source": [
        "## 4.2 Model comparison"
      ]
    },
    {
      "cell_type": "markdown",
      "metadata": {
        "id": "3_ZzaXyNcFaZ"
      },
      "source": [
        "To compare the model, we can draw three simple figures that show the test score, MSE and RMSE of the models. We can see that the random forest model has clear advantange over linear methods. Which also confirms our previous observation that there's no obvious linear relationship between variables."
      ]
    },
    {
      "cell_type": "code",
      "metadata": {
        "colab": {
          "base_uri": "https://localhost:8080/",
          "height": 806
        },
        "id": "BlW9Sxjb5p7u",
        "outputId": "ee5a9b02-52d3-42f5-ba41-a26004091760"
      },
      "source": [
        "lst_model = ['lasso', 'ridge', 'random_forest', 'boosted trees']\n",
        "lst_score = [lasso_score, ridge_score, rf_score, bt_score]\n",
        "lst_MSE = [MSE_lasso, MSE_ridge, MSE_rf, MSE_bt]\n",
        "lst_RMSE = [RMSE_lasso, RMSE_ridge, RMSE_rf, RMSE_bt]\n",
        "\n",
        "# plot score\n",
        "plt.figure(1)\n",
        "plt.plot(lst_model, lst_score, color=\"r\")\n",
        "plt.grid()\n",
        "plt.xlabel('Models')\n",
        "plt.ylabel('test_score')\n",
        "plt.legend(['r-square'])\n",
        "plt.show()\n",
        "\n",
        "# plot MSE\n",
        "plt.figure(2)\n",
        "plt.plot(lst_model, lst_MSE, color='b')\n",
        "plt.grid()\n",
        "plt.xlabel('Models')\n",
        "plt.ylabel('Mean Squared Error')\n",
        "plt.legend(['MSE'])\n",
        "plt.show()\n",
        "\n",
        "# plot RMSE\n",
        "plt.figure(3)\n",
        "plt.plot(lst_model, lst_RMSE, color='g')\n",
        "plt.grid()\n",
        "plt.xlabel('Models')\n",
        "plt.ylabel('Rooted Mean Squared Error')\n",
        "plt.legend(['RMSE'])\n",
        "plt.show()"
      ],
      "execution_count": null,
      "outputs": [
        {
          "output_type": "display_data",
          "data": {
            "image/png": "[encoded data removed]",
            "text/plain": [
              "<Figure size 432x288 with 1 Axes>"
            ]
          },
          "metadata": {
            "needs_background": "light"
          }
        },
        {
          "output_type": "display_data",
          "data": {
            "image/png": "[encoded data removed]",
            "text/plain": [
              "<Figure size 432x288 with 1 Axes>"
            ]
          },
          "metadata": {
            "needs_background": "light"
          }
        },
        {
          "output_type": "display_data",
          "data": {
            "image/png": "[encoded data removed]",
            "text/plain": [
              "<Figure size 432x288 with 1 Axes>"
            ]
          },
          "metadata": {
            "needs_background": "light"
          }
        }
      ]
    },
    {
      "cell_type": "markdown",
      "metadata": {
        "id": "AzE4LmTN52pG"
      },
      "source": [
        "## 4.3 Feature importance"
      ]
    },
    {
      "cell_type": "markdown",
      "metadata": {
        "id": "cBjXZiESA0yr"
      },
      "source": [
        "Finally, we can use the random forest to conclude which features are the most important in predicting property prices. \n",
        "\n",
        "From the feature importance plot we can see that, among the fifteen most significant features, there are many interesting variables. \n",
        "\n",
        "It is a surprise that the random forest model has successfully recognized the zip codes of city of Atlanta, which are within the range (30300, 30350). The size of the property can also explain, at least partly, the price of the house. It's comprehensible since some of the luxury houses also have very high per footage price.  \n"
      ]
    },
    {
      "cell_type": "code",
      "metadata": {
        "id": "g-yHEMmz6WPF"
      },
      "source": [
        "importance = rf.feature_importances_\n",
        "feature_name = train_x.columns.values\n",
        "importance_chart = pd.DataFrame(feature_name, importance)\n",
        "importance_chart.reset_index(inplace=True)\n",
        "importance_chart.rename(columns={'index':'importance', 0:'features'},inplace=True)\n",
        "importance_chart.sort_values('importance', ascending=False, inplace=True)\n",
        "importance_chart.reset_index(drop=True, inplace=True)"
      ],
      "execution_count": null,
      "outputs": []
    },
    {
      "cell_type": "code",
      "metadata": {
        "colab": {
          "base_uri": "https://localhost:8080/",
          "height": 363
        },
        "id": "V8qBIAPv-gIB",
        "outputId": "505762ae-c9d7-4245-fcad-c29e2b432796"
      },
      "source": [
        "importance_chart.loc[1:10,]"
      ],
      "execution_count": null,
      "outputs": [
        {
          "output_type": "execute_result",
          "data": {
            "text/html": [
              "<div>\n",
              "<style scoped>\n",
              "    .dataframe tbody tr th:only-of-type {\n",
              "        vertical-align: middle;\n",
              "    }\n",
              "\n",
              "    .dataframe tbody tr th {\n",
              "        vertical-align: top;\n",
              "    }\n",
              "\n",
              "    .dataframe thead th {\n",
              "        text-align: right;\n",
              "    }\n",
              "</style>\n",
              "<table border=\"1\" class=\"dataframe\">\n",
              "  <thead>\n",
              "    <tr style=\"text-align: right;\">\n",
              "      <th></th>\n",
              "      <th>importance</th>\n",
              "      <th>features</th>\n",
              "    </tr>\n",
              "  </thead>\n",
              "  <tbody>\n",
              "    <tr>\n",
              "      <th>1</th>\n",
              "      <td>0.088</td>\n",
              "      <td>lng</td>\n",
              "    </tr>\n",
              "    <tr>\n",
              "      <th>2</th>\n",
              "      <td>0.069</td>\n",
              "      <td>(30300, 30350]</td>\n",
              "    </tr>\n",
              "    <tr>\n",
              "      <th>3</th>\n",
              "      <td>0.066</td>\n",
              "      <td>sqft</td>\n",
              "    </tr>\n",
              "    <tr>\n",
              "      <th>4</th>\n",
              "      <td>0.063</td>\n",
              "      <td>lotsize_sqft</td>\n",
              "    </tr>\n",
              "    <tr>\n",
              "      <th>5</th>\n",
              "      <td>0.053</td>\n",
              "      <td>id</td>\n",
              "    </tr>\n",
              "    <tr>\n",
              "      <th>6</th>\n",
              "      <td>0.043</td>\n",
              "      <td>beds</td>\n",
              "    </tr>\n",
              "    <tr>\n",
              "      <th>7</th>\n",
              "      <td>0.035</td>\n",
              "      <td>bathrooms</td>\n",
              "    </tr>\n",
              "    <tr>\n",
              "      <th>8</th>\n",
              "      <td>0.014</td>\n",
              "      <td>Heated</td>\n",
              "    </tr>\n",
              "    <tr>\n",
              "      <th>9</th>\n",
              "      <td>0.012</td>\n",
              "      <td>In Ground</td>\n",
              "    </tr>\n",
              "    <tr>\n",
              "      <th>10</th>\n",
              "      <td>0.012</td>\n",
              "      <td>Ceiling Fan(s)</td>\n",
              "    </tr>\n",
              "  </tbody>\n",
              "</table>\n",
              "</div>"
            ],
            "text/plain": [
              "    importance        features\n",
              "1        0.088             lng\n",
              "2        0.069  (30300, 30350]\n",
              "3        0.066            sqft\n",
              "4        0.063    lotsize_sqft\n",
              "5        0.053              id\n",
              "6        0.043            beds\n",
              "7        0.035       bathrooms\n",
              "8        0.014          Heated\n",
              "9        0.012       In Ground\n",
              "10       0.012  Ceiling Fan(s)"
            ]
          },
          "metadata": {},
          "execution_count": 80
        }
      ]
    },
    {
      "cell_type": "code",
      "metadata": {
        "colab": {
          "base_uri": "https://localhost:8080/",
          "height": 346
        },
        "id": "AbXF_pX755c8",
        "outputId": "efead6fc-c75b-4cf0-d8ae-1def52fc2c83"
      },
      "source": [
        "high_importance = importance_chart.loc[1:15]\n",
        "high_importance.plot.bar(x='features')\n",
        "plt.xticks(rotation=90)\n",
        "plt.show()"
      ],
      "execution_count": null,
      "outputs": [
        {
          "output_type": "display_data",
          "data": {
            "image/png": "[encoded data removed]",
            "text/plain": [
              "<Figure size 432x288 with 1 Axes>"
            ]
          },
          "metadata": {
            "needs_background": "light"
          }
        }
      ]
    },
    {
      "cell_type": "markdown",
      "metadata": {
        "id": "hzXPTTar543s"
      },
      "source": [
        "# Part V: Summary"
      ]
    },
    {
      "cell_type": "markdown",
      "metadata": {
        "id": "sGhSqb7mCTMO"
      },
      "source": [
        "Apparently, there is some imperfection in this analysis. If I had more time, I would have a closer look to the feature variables. For the 'features_schools', I think it's feasible to use school-digger api to find the rank of schools approximate to the property to better predict the house price.  \n",
        "\n",
        "\"xf_attributes\" is a giant variable. There are on average more than 200 features per property. If I had more time, I would try to apply word2vec and use neural network to avoid feature engineering. Also, I would use cross validation instead of validation set method when tuning hyper-parameters for ridge and lasso.\n",
        "\n",
        "**Before getting to conclusion**, we can first recall what has been done. I first cleaned the data by dropping all the NA columns and redundant columns. And then, I used apply method and string method to transform all the unstructured qualitative data to a comma seperated from. Which made it easier for us to one-hot encode some of the qualitative variables.  \n",
        "\n",
        "Then, I visualized some of the quantitative and qualitative variables to gain an intuitive understanding of the data and relationship between variables. Also I have introduced Basemap and Arc Gis Image API to plot the property listed on the map of Atlanta. From the map, we can clearly see the pattern of distribution of house price. High value properties are mainly concentrated in the city centre. And the house price of north side of the city is generally higher than that of the south side of the city.\n",
        "\n",
        "After filling all the NA value with mean value, I tried to fit ridge regression, Lasso, random forest model and grandient boosting trees to the data to predict property price. By applying test set method and cross-validation, I got the best hyper-parameter for the models. Using the best model, I calculated the test MSE to compare the models and concluded that the random forest model performed the best. Boosted trees, while performing pretty better than linear modles, is not as good as random forest using the parameters I got. Finally, I retrieved the most significant predictors using the importance method of random forest model.\n",
        "\n",
        "**In conclusion**, apparently, being closer to city centre means a bigger chance of high price per square foot. And this pattern was reflected by the high importance of zip code being between (30300, 30350). However, by taking a closer look at the feature importance report, we can find that the number of bathrooms is also a very important feature. What's more, Kitch island, heating and longitude are also important. And this has inspired us that alternative features can also have a large influence on property price. By monitoring these features, we can better forecast or evaluate home prices, which leads us to better investment decisions.\n",
        "\n",
        "Hantang LI\n",
        "11/12/2021"
      ]
    }
  ]
}